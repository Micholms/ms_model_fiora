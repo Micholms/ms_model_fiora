{
 "cells": [
  {
   "cell_type": "code",
   "execution_count": 41,
   "id": "80e69870-3211-436b-af90-717da4354ba6",
   "metadata": {},
   "outputs": [
    {
     "name": "stdout",
     "output_type": "stream",
     "text": [
      "Working with Python 3.10.8 | packaged by conda-forge | (main, Nov 22 2022, 08:26:04) [GCC 10.4.0]\n"
     ]
    }
   ],
   "source": [
    "import sys\n",
    "print(f'Working with Python {sys.version}')\n",
    "import seaborn as sns\n",
    "import numpy as np\n",
    "import pandas as pd\n",
    "import importlib\n",
    "#import swifter\n",
    "import matplotlib.pyplot as plt\n",
    "import seaborn as sns\n",
    "import collections\n",
    "import time\n",
    "import os\n",
    "from rdkit import Chem\n",
    "from rdkit.Chem import AllChem\n",
    "from rdkit.Chem import Draw\n",
    "import rdkit.Chem.Descriptors as Descriptors\n",
    "from rdkit.Chem import PandasTools\n",
    "#!pip install spektral\n",
    "\n",
    "\n",
    "# Deep Learning\n",
    "import sklearn\n",
    "#import spektral\n",
    "from sklearn.model_selection import train_test_split\n",
    "# Keras\n",
    "from sklearn.model_selection import train_test_split\n",
    "#import stellargraph as sg\n",
    "from rdkit import RDLogger\n",
    "\n",
    "\n",
    "#\n",
    "# Load Modules\n",
    "sys.path.append(\"..\")\n",
    "from os.path import expanduser\n",
    "home = expanduser(\"~\")\n",
    "import fiora.IO.mspReader as mspReader\n",
    "import fiora.visualization.spectrum_visualizer as sv\n",
    "import fiora.IO.molReader as molReader\n",
    "\n",
    "from fiora.MOL.constants import ADDUCT_WEIGHTS\n",
    "from fiora.MOL.collision_energy import align_CE\n",
    "from fiora.MOL.Metabolite import Metabolite\n",
    "from fiora.MOL.constants import PPM\n",
    "from fiora.MOL.constants import DEFAULT_MODES\n",
    "RDLogger.DisableLog('rdApp.*')\n",
    "\n",
    "\n",
    "import torch\n",
    "seed = 42\n",
    "torch.manual_seed(seed)\n",
    "torch.set_printoptions(precision=2, sci_mode=False)\n",
    "import ast\n",
    "\n",
    "from fiora.MOL.constants import DEFAULT_PPM, PPM, DEFAULT_MODES\n",
    "from fiora.IO.LibraryLoader import LibraryLoader\n",
    "from fiora.MOL.FragmentationTree import FragmentationTree \n",
    "import fiora.visualization.spectrum_visualizer as sv\n",
    "from sklearn.metrics import r2_score\n",
    "import scipy\n",
    "\n",
    "from fiora.MOL.Metabolite import Metabolite\n",
    "from fiora.GNN.AtomFeatureEncoder import AtomFeatureEncoder\n",
    "from fiora.GNN.BondFeatureEncoder import BondFeatureEncoder\n",
    "from fiora.GNN.SetupFeatureEncoder import SetupFeatureEncoder"
   ]
  },
  {
   "cell_type": "code",
   "execution_count": 42,
   "id": "e6306ee6-12c4-4137-95d4-8bcb6e0684ec",
   "metadata": {},
   "outputs": [
    {
     "name": "stdout",
     "output_type": "stream",
     "text": [
      "datasplits_Feb25.csv\t\t   nist_msms_filteredall_XXX.csv\n",
      "mb_na_msms.msp\t\t\t   nist_msms_filtered_min1_02_2025.csv\n",
      "nist_msms_filteredall_02_2025.csv  nist_msms_filtered_min1_XXX.csv\n"
     ]
    }
   ],
   "source": [
    "library_name=\"mb_na_msms\"\n",
    "library_directory=\"../data/\"\n",
    "!ls $library_directory"
   ]
  },
  {
   "cell_type": "code",
   "execution_count": 43,
   "id": "637ea5ad-a478-45ea-9846-7a0e705361d7",
   "metadata": {},
   "outputs": [
    {
     "name": "stdout",
     "output_type": "stream",
     "text": [
      "Spectral file loaded with 153132 entries and 17 variables\n"
     ]
    }
   ],
   "source": [
    "mona_msp = mspReader.read(library_directory + library_name + '.msp')\n",
    "df_mona = pd.DataFrame(mona_msp)\n",
    "\n",
    "#df_mona['mol'] = df_mona['SMILES'].apply(Chem.MolFromSmiles)\n",
    "#df_mona.dropna(inplace=True)\n",
    "print(f\"Spectral file loaded with {df_mona.shape[0]} entries and {df_mona.shape[1]} variables\")"
   ]
  },
  {
   "cell_type": "code",
   "execution_count": 44,
   "id": "ad203bbe-cb18-4733-aaa8-84a6cbb428bf",
   "metadata": {},
   "outputs": [
    {
     "name": "stdout",
     "output_type": "stream",
     "text": [
      "Spectral file filtered down to 114205 entries\n"
     ]
    }
   ],
   "source": [
    "# Filters\n",
    "df_mona = df_mona[df_mona[\"Spectrum_type\"] == \"MS2\"]\n",
    "target_precursor_type = [\"[M+H]+\", \"[M-H]-\", \"[M+H-H2O]+\", \"[M+Na]+\"]\n",
    "df_mona = df_mona[df_mona[\"Precursor_type\"].apply(lambda ptype: ptype in target_precursor_type)]\n",
    "\n",
    "# Formats\n",
    "df_mona['PrecursorMZ'] = df_mona[\"PrecursorMZ\"].str.replace(',', '.')\n",
    "df_mona['PrecursorMZ'] = df_mona[\"PrecursorMZ\"].astype('float')\n",
    "df_mona['Num Peaks'] = df_mona[\"Num Peaks\"].astype('int')\n",
    "\n",
    "\n",
    "print(f\"Spectral file filtered down to {df_mona.shape[0]} entries\")"
   ]
  },
  {
   "cell_type": "code",
   "execution_count": 45,
   "id": "901b378d-c2c1-43e4-8324-d94b18d81bda",
   "metadata": {},
   "outputs": [
    {
     "name": "stdout",
     "output_type": "stream",
     "text": [
      "Reading structure information in MOL format from library files (this may take a while)\n",
      "Successfully interpreted 113974 from 114176 entries. Dropping the rest.\n"
     ]
    }
   ],
   "source": [
    "print(\"Reading structure information in MOL format from library files (this may take a while)\")\n",
    "def fetch_mol(ID):\n",
    "    x = df_mona.loc[ID]\n",
    "    comments=x[\"Comments\"].split()\n",
    "    smiles=False\n",
    "    for j in comments:\n",
    "        if smiles:\n",
    "            continue\n",
    "        else:\n",
    "            if \"SMILES\" in str(j):\n",
    "                if str(j)[5]==\"S\":\n",
    "                    smiles=str(j[7:-1])\n",
    "                else:\n",
    "                    smiles=str(j[8:-1])\n",
    "    if smiles:        \n",
    "        mol=Chem.MolFromSmiles(smiles)\n",
    "    else: \n",
    "        mol=np.nan\n",
    "        smiles=np.nan\n",
    "    return mol,smiles\n",
    "\n",
    "df_mona= df_mona[~df_mona[\"InChIKey\"].isnull()] # Drop all without key (Not neccessarily neccesary)\n",
    "MOL=[]\n",
    "SMILES=[]\n",
    "for i in df_mona.index:\n",
    "    mol,smiles=fetch_mol(i)\n",
    "   \n",
    "    MOL=MOL+[mol]\n",
    "    SMILES=SMILES+[smiles]\n",
    "    \n",
    "df_mona[\"MOL\"] = MOL\n",
    "df_mona[\"SMILES\"]=SMILES\n",
    "print(f\"Successfully interpreted {sum(df_mona['MOL'].notna())} from {df_mona.shape[0]} entries. Dropping the rest.\")\n",
    "df_mona = df_mona[df_mona['MOL'].notna()]\n",
    "#df_mona[\"SMILES\"] = df_mona[\"MOL\"].apply(Chem.MolToSmiles)\n",
    "df_mona[\"InChI\"] = df_mona[\"MOL\"].apply(Chem.MolToInchi)\n",
    "df_mona[\"K\"] = df_mona[\"MOL\"].apply(Chem.MolToInchiKey)\n",
    "df_mona[\"ExactMolWeight\"] = df_mona[\"MOL\"].apply(Chem.Descriptors.ExactMolWt)"
   ]
  },
  {
   "cell_type": "code",
   "execution_count": 46,
   "id": "86b07cfc-fe85-4506-9e4f-a77d883f1de0",
   "metadata": {},
   "outputs": [
    {
     "name": "stdout",
     "output_type": "stream",
     "text": [
      "Confirming whether computed and provided InChI-Keys are correct. Result: not confirmed !! Attention! (0.76 correct)\n",
      "Checking if main layer InChI-Keys are correct. Result: not confirmed !! Attention! (1.000 correct)\n",
      "Dropping all other.\n",
      "Shape: (86771, 23)\n"
     ]
    }
   ],
   "source": [
    "correct_keys = df_mona.apply(lambda x: x[\"InChIKey\"] == x[\"K\"], axis=1)\n",
    "s = \"confirmed!\" if correct_keys.all() else \"not confirmed !! Attention!\"\n",
    "print(f\"Confirming whether computed and provided InChI-Keys are correct. Result: {s} ({correct_keys.sum()/len(correct_keys):0.2f} correct)\")\n",
    "half_keys = df_mona.apply(lambda x: x[\"InChIKey\"].split('-')[0] == x[\"K\"].split('-')[0], axis=1)\n",
    "s = \"confirmed!\" if half_keys.all() else \"not confirmed !! Attention!\"\n",
    "print(f\"Checking if main layer InChI-Keys are correct. Result: {s} ({half_keys.sum()/len(half_keys):0.3f} correct)\")\n",
    "\n",
    "print(\"Dropping all other.\")\n",
    "df_mona[\"matching_key\"] = df_mona.apply(lambda x: x[\"InChIKey\"] == x[\"K\"], axis=1)\n",
    "df_mona = df_mona[df_mona[\"matching_key\"]]\n",
    "\n",
    "print(f\"Shape: {df_mona.shape}\")"
   ]
  },
  {
   "cell_type": "code",
   "execution_count": 47,
   "id": "6b78530d-6091-4cab-931a-0979b64fbc45",
   "metadata": {},
   "outputs": [],
   "source": [
    "df_mona[\"ExactMolWeight\"] = df_mona[\"MOL\"].apply(Chem.Descriptors.ExactMolWt)\n",
    "#df_mona=df_mona.drop(index=[85072]) #Issue with this one"
   ]
  },
  {
   "cell_type": "code",
   "execution_count": 48,
   "id": "8d6cdb20-6d1f-4f34-a728-f0a5fe1694bd",
   "metadata": {},
   "outputs": [],
   "source": [
    "df_unfiltered = df_mona.copy(deep=True)"
   ]
  },
  {
   "cell_type": "code",
   "execution_count": 49,
   "id": "8644ea98-09f0-47f9-b9bf-146c95315a14",
   "metadata": {},
   "outputs": [
    {
     "name": "stdout",
     "output_type": "stream",
     "text": [
      "Shape (29443, 25)\n",
      "Shape (15088, 25)\n"
     ]
    }
   ],
   "source": [
    "def filter_df(df,MIN_PEAKS,MAX_PEAKS,PRECURSOR_TYPES):\n",
    "\n",
    "    df_mona=df.copy()\n",
    "    df_mona['Num Peaks'] = df_mona[\"Num Peaks\"].astype('int')\n",
    "    #df_mona['PrecursorMZ'] = df_mona[\"PrecursorMZ\"].str.replace(',', '.')\n",
    "    df_mona['PrecursorMZ'] = df_mona[\"PrecursorMZ\"].astype('float')\n",
    "    df_mona = df_mona[df_mona[\"Num Peaks\"] > MIN_PEAKS]\n",
    "    df_mona = df_mona[df_mona[\"Num Peaks\"] < MAX_PEAKS] #TODO WHY MAX CUTOFF: REMOVE!!\n",
    "    df_mona[\"theoretical_precursor_mz\"] = df_mona[\"ExactMolWeight\"] + df_mona[\"Precursor_type\"].map(ADDUCT_WEIGHTS)\n",
    "    df_mona = df_mona[df_mona[\"Precursor_type\"].apply(lambda ptype: ptype in PRECURSOR_TYPES)]\n",
    "    df_mona[\"precursor_offset\"] = df_mona[\"PrecursorMZ\"] - df_mona[\"theoretical_precursor_mz\"]\n",
    "    \n",
    "    print(f\"Shape {df_mona.shape}\")\n",
    "    return df_mona\n",
    "df_plus=filter_df(df_mona,2,30,[\"[M+H]+\"])\n",
    "df_minus=filter_df(df_mona,2,30,[\"[M-H]-\"])\n"
   ]
  },
  {
   "cell_type": "code",
   "execution_count": 50,
   "id": "94ca6930-1ccb-4c08-a45c-a8b86197c169",
   "metadata": {},
   "outputs": [
    {
     "name": "stdout",
     "output_type": "stream",
     "text": [
      "Distinguish CE absolute values (eV - float) and normalized CE (in % - str format)\n",
      "CE_type\n",
      "<class 'float'>    26748\n",
      "<class 'str'>       2695\n",
      "Name: count, dtype: int64\n",
      "Removing all but absolute values\n",
      "Detected 6133 unique collision energies in range from 0.0 to 368.84067884211237 eV\n",
      "Distinguish CE absolute values (eV - float) and normalized CE (in % - str format)\n",
      "CE_type\n",
      "<class 'float'>    13412\n",
      "<class 'str'>       1676\n",
      "Name: count, dtype: int64\n",
      "Removing all but absolute values\n",
      "Detected 1829 unique collision energies in range from -45.0 to 375.66747212828767 eV\n"
     ]
    }
   ],
   "source": [
    "# TODO Use more Collision energy types. eg. ramps, stepped, resonant...\n",
    "def CE_filtering(df):\n",
    "    df_mona=df.copy()\n",
    "\n",
    "    df_mona[\"CE\"] = df_mona.apply(lambda x: align_CE(x[\"Collision_energy\"], x[\"theoretical_precursor_mz\"]), axis=1) #modules.MOL.collision_energy.align_CE) \n",
    "    df_mona[\"CE_type\"] = df_mona[\"CE\"].apply(type)\n",
    "    df_mona[\"CE_derived_from_NCE\"] = df_mona[\"Collision_energy\"].apply(lambda x: \"%\" in str(x))\n",
    "    \n",
    "    \n",
    "    print(\"Distinguish CE absolute values (eV - float) and normalized CE (in % - str format)\")\n",
    "    print(df_mona[\"CE_type\"].value_counts())\n",
    "    \n",
    "    print(\"Removing all but absolute values\")\n",
    "    df_mona = df_mona[df_mona[\"CE_type\"] == float]\n",
    "    df_mona = df_mona[~df_mona[\"CE\"].isnull()]\n",
    "    #len(df_mona['CE'].unique())\n",
    "    \n",
    "    print(f'Detected {len(df_mona[\"CE\"].unique())} unique collision energies in range from {np.min(df_mona[\"CE\"])} to {max(df_mona[\"CE\"])} eV')\n",
    "    return df_mona\n",
    "    \n",
    "df_plus=CE_filtering(df_plus)\n",
    "\n",
    "df_minus=CE_filtering(df_minus)"
   ]
  },
  {
   "cell_type": "code",
   "execution_count": 30,
   "id": "1dc8becf-fc7f-4100-95a1-3c35dbb77d22",
   "metadata": {
    "scrolled": true
   },
   "outputs": [
    {
     "ename": "KeyError",
     "evalue": "'Name'",
     "output_type": "error",
     "traceback": [
      "\u001b[0;31m---------------------------------------------------------------------------\u001b[0m",
      "\u001b[0;31mKeyError\u001b[0m                                  Traceback (most recent call last)",
      "File \u001b[0;32m~/.local/lib/python3.10/site-packages/pandas/core/indexes/base.py:3805\u001b[0m, in \u001b[0;36mIndex.get_loc\u001b[0;34m(self, key)\u001b[0m\n\u001b[1;32m   3804\u001b[0m \u001b[38;5;28;01mtry\u001b[39;00m:\n\u001b[0;32m-> 3805\u001b[0m     \u001b[38;5;28;01mreturn\u001b[39;00m \u001b[38;5;28;43mself\u001b[39;49m\u001b[38;5;241;43m.\u001b[39;49m\u001b[43m_engine\u001b[49m\u001b[38;5;241;43m.\u001b[39;49m\u001b[43mget_loc\u001b[49m\u001b[43m(\u001b[49m\u001b[43mcasted_key\u001b[49m\u001b[43m)\u001b[49m\n\u001b[1;32m   3806\u001b[0m \u001b[38;5;28;01mexcept\u001b[39;00m \u001b[38;5;167;01mKeyError\u001b[39;00m \u001b[38;5;28;01mas\u001b[39;00m err:\n",
      "File \u001b[0;32mindex.pyx:167\u001b[0m, in \u001b[0;36mpandas._libs.index.IndexEngine.get_loc\u001b[0;34m()\u001b[0m\n",
      "File \u001b[0;32mindex.pyx:175\u001b[0m, in \u001b[0;36mpandas._libs.index.IndexEngine.get_loc\u001b[0;34m()\u001b[0m\n",
      "File \u001b[0;32mpandas/_libs/index_class_helper.pxi:70\u001b[0m, in \u001b[0;36mpandas._libs.index.Int64Engine._check_type\u001b[0;34m()\u001b[0m\n",
      "\u001b[0;31mKeyError\u001b[0m: 'Name'",
      "\nThe above exception was the direct cause of the following exception:\n",
      "\u001b[0;31mKeyError\u001b[0m                                  Traceback (most recent call last)",
      "Cell \u001b[0;32mIn[30], line 11\u001b[0m\n\u001b[1;32m      9\u001b[0m     df_mona\u001b[38;5;241m.\u001b[39mapply(\u001b[38;5;28;01mlambda\u001b[39;00m x: x[\u001b[38;5;124m\"\u001b[39m\u001b[38;5;124mMetabolite\u001b[39m\u001b[38;5;124m\"\u001b[39m]\u001b[38;5;241m.\u001b[39mmatch_fragments_to_peaks(x[\u001b[38;5;124m\"\u001b[39m\u001b[38;5;124mpeaks\u001b[39m\u001b[38;5;124m\"\u001b[39m][\u001b[38;5;124m\"\u001b[39m\u001b[38;5;124mmz\u001b[39m\u001b[38;5;124m\"\u001b[39m], x[\u001b[38;5;124m\"\u001b[39m\u001b[38;5;124mpeaks\u001b[39m\u001b[38;5;124m\"\u001b[39m][\u001b[38;5;124m\"\u001b[39m\u001b[38;5;124mintensity\u001b[39m\u001b[38;5;124m\"\u001b[39m], tolerance\u001b[38;5;241m=\u001b[39mTOLERANCE), axis\u001b[38;5;241m=\u001b[39m\u001b[38;5;241m1\u001b[39m)\n\u001b[1;32m     10\u001b[0m     \u001b[38;5;28;01mreturn\u001b[39;00m df_mona\n\u001b[0;32m---> 11\u001b[0m df_plus\u001b[38;5;241m=\u001b[39m\u001b[43mcompute_graph\u001b[49m\u001b[43m(\u001b[49m\u001b[43mdf_plus\u001b[49m\u001b[43m)\u001b[49m\n\u001b[1;32m     12\u001b[0m df_minus\u001b[38;5;241m=\u001b[39mcompute_graph(df_minus)\n",
      "Cell \u001b[0;32mIn[30], line 8\u001b[0m, in \u001b[0;36mcompute_graph\u001b[0;34m(df)\u001b[0m\n\u001b[1;32m      6\u001b[0m df_mona[\u001b[38;5;124m\"\u001b[39m\u001b[38;5;124mMetabolite\u001b[39m\u001b[38;5;124m\"\u001b[39m]\u001b[38;5;241m.\u001b[39mapply(\u001b[38;5;28;01mlambda\u001b[39;00m x: x\u001b[38;5;241m.\u001b[39mcompute_graph_attributes())\n\u001b[1;32m      7\u001b[0m \u001b[38;5;28;01mfor\u001b[39;00m i,name \u001b[38;5;129;01min\u001b[39;00m \u001b[38;5;28menumerate\u001b[39m(df_mona):\n\u001b[0;32m----> 8\u001b[0m     df_mona[\u001b[38;5;124m\"\u001b[39m\u001b[38;5;124mMetabolite\u001b[39m\u001b[38;5;124m\"\u001b[39m]\u001b[38;5;241m=\u001b[39m\u001b[43mdf_mona\u001b[49m\u001b[38;5;241;43m.\u001b[39;49m\u001b[43mloc\u001b[49m\u001b[43m[\u001b[49m\u001b[43mname\u001b[49m\u001b[43m,\u001b[49m\u001b[38;5;124;43m\"\u001b[39;49m\u001b[38;5;124;43mMetabolite\u001b[39;49m\u001b[38;5;124;43m\"\u001b[39;49m\u001b[43m]\u001b[49m\u001b[38;5;241m.\u001b[39mfragment_MOL()\n\u001b[1;32m      9\u001b[0m df_mona\u001b[38;5;241m.\u001b[39mapply(\u001b[38;5;28;01mlambda\u001b[39;00m x: x[\u001b[38;5;124m\"\u001b[39m\u001b[38;5;124mMetabolite\u001b[39m\u001b[38;5;124m\"\u001b[39m]\u001b[38;5;241m.\u001b[39mmatch_fragments_to_peaks(x[\u001b[38;5;124m\"\u001b[39m\u001b[38;5;124mpeaks\u001b[39m\u001b[38;5;124m\"\u001b[39m][\u001b[38;5;124m\"\u001b[39m\u001b[38;5;124mmz\u001b[39m\u001b[38;5;124m\"\u001b[39m], x[\u001b[38;5;124m\"\u001b[39m\u001b[38;5;124mpeaks\u001b[39m\u001b[38;5;124m\"\u001b[39m][\u001b[38;5;124m\"\u001b[39m\u001b[38;5;124mintensity\u001b[39m\u001b[38;5;124m\"\u001b[39m], tolerance\u001b[38;5;241m=\u001b[39mTOLERANCE), axis\u001b[38;5;241m=\u001b[39m\u001b[38;5;241m1\u001b[39m)\n\u001b[1;32m     10\u001b[0m \u001b[38;5;28;01mreturn\u001b[39;00m df_mona\n",
      "File \u001b[0;32m~/.local/lib/python3.10/site-packages/pandas/core/indexing.py:1183\u001b[0m, in \u001b[0;36m_LocationIndexer.__getitem__\u001b[0;34m(self, key)\u001b[0m\n\u001b[1;32m   1181\u001b[0m     key \u001b[38;5;241m=\u001b[39m \u001b[38;5;28mtuple\u001b[39m(com\u001b[38;5;241m.\u001b[39mapply_if_callable(x, \u001b[38;5;28mself\u001b[39m\u001b[38;5;241m.\u001b[39mobj) \u001b[38;5;28;01mfor\u001b[39;00m x \u001b[38;5;129;01min\u001b[39;00m key)\n\u001b[1;32m   1182\u001b[0m     \u001b[38;5;28;01mif\u001b[39;00m \u001b[38;5;28mself\u001b[39m\u001b[38;5;241m.\u001b[39m_is_scalar_access(key):\n\u001b[0;32m-> 1183\u001b[0m         \u001b[38;5;28;01mreturn\u001b[39;00m \u001b[38;5;28;43mself\u001b[39;49m\u001b[38;5;241;43m.\u001b[39;49m\u001b[43mobj\u001b[49m\u001b[38;5;241;43m.\u001b[39;49m\u001b[43m_get_value\u001b[49m\u001b[43m(\u001b[49m\u001b[38;5;241;43m*\u001b[39;49m\u001b[43mkey\u001b[49m\u001b[43m,\u001b[49m\u001b[43m \u001b[49m\u001b[43mtakeable\u001b[49m\u001b[38;5;241;43m=\u001b[39;49m\u001b[38;5;28;43mself\u001b[39;49m\u001b[38;5;241;43m.\u001b[39;49m\u001b[43m_takeable\u001b[49m\u001b[43m)\u001b[49m\n\u001b[1;32m   1184\u001b[0m     \u001b[38;5;28;01mreturn\u001b[39;00m \u001b[38;5;28mself\u001b[39m\u001b[38;5;241m.\u001b[39m_getitem_tuple(key)\n\u001b[1;32m   1185\u001b[0m \u001b[38;5;28;01melse\u001b[39;00m:\n\u001b[1;32m   1186\u001b[0m     \u001b[38;5;66;03m# we by definition only have the 0th axis\u001b[39;00m\n",
      "File \u001b[0;32m~/.local/lib/python3.10/site-packages/pandas/core/frame.py:4221\u001b[0m, in \u001b[0;36mDataFrame._get_value\u001b[0;34m(self, index, col, takeable)\u001b[0m\n\u001b[1;32m   4215\u001b[0m engine \u001b[38;5;241m=\u001b[39m \u001b[38;5;28mself\u001b[39m\u001b[38;5;241m.\u001b[39mindex\u001b[38;5;241m.\u001b[39m_engine\n\u001b[1;32m   4217\u001b[0m \u001b[38;5;28;01mif\u001b[39;00m \u001b[38;5;129;01mnot\u001b[39;00m \u001b[38;5;28misinstance\u001b[39m(\u001b[38;5;28mself\u001b[39m\u001b[38;5;241m.\u001b[39mindex, MultiIndex):\n\u001b[1;32m   4218\u001b[0m     \u001b[38;5;66;03m# CategoricalIndex: Trying to use the engine fastpath may give incorrect\u001b[39;00m\n\u001b[1;32m   4219\u001b[0m     \u001b[38;5;66;03m#  results if our categories are integers that dont match our codes\u001b[39;00m\n\u001b[1;32m   4220\u001b[0m     \u001b[38;5;66;03m# IntervalIndex: IntervalTree has no get_loc\u001b[39;00m\n\u001b[0;32m-> 4221\u001b[0m     row \u001b[38;5;241m=\u001b[39m \u001b[38;5;28;43mself\u001b[39;49m\u001b[38;5;241;43m.\u001b[39;49m\u001b[43mindex\u001b[49m\u001b[38;5;241;43m.\u001b[39;49m\u001b[43mget_loc\u001b[49m\u001b[43m(\u001b[49m\u001b[43mindex\u001b[49m\u001b[43m)\u001b[49m\n\u001b[1;32m   4222\u001b[0m     \u001b[38;5;28;01mreturn\u001b[39;00m series\u001b[38;5;241m.\u001b[39m_values[row]\n\u001b[1;32m   4224\u001b[0m \u001b[38;5;66;03m# For MultiIndex going through engine effectively restricts us to\u001b[39;00m\n\u001b[1;32m   4225\u001b[0m \u001b[38;5;66;03m#  same-length tuples; see test_get_set_value_no_partial_indexing\u001b[39;00m\n",
      "File \u001b[0;32m~/.local/lib/python3.10/site-packages/pandas/core/indexes/base.py:3812\u001b[0m, in \u001b[0;36mIndex.get_loc\u001b[0;34m(self, key)\u001b[0m\n\u001b[1;32m   3807\u001b[0m     \u001b[38;5;28;01mif\u001b[39;00m \u001b[38;5;28misinstance\u001b[39m(casted_key, \u001b[38;5;28mslice\u001b[39m) \u001b[38;5;129;01mor\u001b[39;00m (\n\u001b[1;32m   3808\u001b[0m         \u001b[38;5;28misinstance\u001b[39m(casted_key, abc\u001b[38;5;241m.\u001b[39mIterable)\n\u001b[1;32m   3809\u001b[0m         \u001b[38;5;129;01mand\u001b[39;00m \u001b[38;5;28many\u001b[39m(\u001b[38;5;28misinstance\u001b[39m(x, \u001b[38;5;28mslice\u001b[39m) \u001b[38;5;28;01mfor\u001b[39;00m x \u001b[38;5;129;01min\u001b[39;00m casted_key)\n\u001b[1;32m   3810\u001b[0m     ):\n\u001b[1;32m   3811\u001b[0m         \u001b[38;5;28;01mraise\u001b[39;00m InvalidIndexError(key)\n\u001b[0;32m-> 3812\u001b[0m     \u001b[38;5;28;01mraise\u001b[39;00m \u001b[38;5;167;01mKeyError\u001b[39;00m(key) \u001b[38;5;28;01mfrom\u001b[39;00m \u001b[38;5;21;01merr\u001b[39;00m\n\u001b[1;32m   3813\u001b[0m \u001b[38;5;28;01mexcept\u001b[39;00m \u001b[38;5;167;01mTypeError\u001b[39;00m:\n\u001b[1;32m   3814\u001b[0m     \u001b[38;5;66;03m# If we have a listlike key, _check_indexing_error will raise\u001b[39;00m\n\u001b[1;32m   3815\u001b[0m     \u001b[38;5;66;03m#  InvalidIndexError. Otherwise we fall through and re-raise\u001b[39;00m\n\u001b[1;32m   3816\u001b[0m     \u001b[38;5;66;03m#  the TypeError.\u001b[39;00m\n\u001b[1;32m   3817\u001b[0m     \u001b[38;5;28mself\u001b[39m\u001b[38;5;241m.\u001b[39m_check_indexing_error(key)\n",
      "\u001b[0;31mKeyError\u001b[0m: 'Name'"
     ]
    }
   ],
   "source": [
    "%%capture\n",
    "def compute_graph(df):\n",
    "    df_mona=df.copy()\n",
    "    TOLERANCE = 200 * PPM\n",
    "    df_mona[\"Metabolite\"] = df_mona[\"SMILES\"].apply(Metabolite)\n",
    "    df_mona[\"Metabolite\"].apply(lambda x: x.create_molecular_structure_graph())\n",
    "    df_mona[\"Metabolite\"].apply(lambda x: x.compute_graph_attributes())\n",
    "    for i,name in enumerate(df_mona):\n",
    "        print(name)\n",
    "        df_mona[\"Metabolite\"]=df_mona.loc[name,\"Metabolite\"].fragment_MOL()\n",
    "    df_mona.apply(lambda x: x[\"Metabolite\"].match_fragments_to_peaks(x[\"peaks\"][\"mz\"], x[\"peaks\"][\"intensity\"], tolerance=TOLERANCE), axis=1)\n",
    "    return df_mona\n",
    "df_plus=compute_graph(df_plus)\n",
    "df_minus=compute_graph(df_minus)"
   ]
  },
  {
   "cell_type": "code",
   "execution_count": 85,
   "id": "ee1dd4c9-2ef5-45d0-96e2-84d13cea6bf5",
   "metadata": {},
   "outputs": [
    {
     "data": {
      "text/plain": [
       "3         None\n",
       "4         None\n",
       "5         None\n",
       "6         None\n",
       "8         None\n",
       "          ... \n",
       "151216    None\n",
       "151225    None\n",
       "151227    None\n",
       "151228    None\n",
       "151231    None\n",
       "Name: Metabolite, Length: 25461, dtype: object"
      ]
     },
     "execution_count": 85,
     "metadata": {},
     "output_type": "execute_result"
    }
   ],
   "source": [
    "df_mona=df_plus.copy()\n",
    "df_mona[\"Metabolite\"] = df_mona[\"SMILES\"].apply(Metabolite)\n",
    "df_mona[\"Metabolite\"].apply(lambda x: x.create_molecular_structure_graph())\n",
    "df_mona[\"Metabolite\"].apply(lambda x: x.compute_graph_attributes())"
   ]
  },
  {
   "cell_type": "code",
   "execution_count": null,
   "id": "d43acb81-d22f-477f-99d4-b202dd88d9cb",
   "metadata": {},
   "outputs": [
    {
     "name": "stdout",
     "output_type": "stream",
     "text": [
      "ERROR (1, 2) [0] Cl\n"
     ]
    }
   ],
   "source": [
    "to_drop=[]\n",
    "for i,name in enumerate(df_mona.index):\n",
    "    try:\n",
    "        df_mona.loc[name,\"Metabolite\"]=df_mona.loc[name,\"Metabolite\"].fragment_MOL()\n",
    "    except:\n",
    "        to_drop=to_drop+[name]\n",
    "       "
   ]
  },
  {
   "cell_type": "code",
   "execution_count": 83,
   "id": "760d4415-a5b4-42c6-a7ef-6b4109b26814",
   "metadata": {},
   "outputs": [
    {
     "data": {
      "text/plain": [
       "[85072]"
      ]
     },
     "execution_count": 83,
     "metadata": {},
     "output_type": "execute_result"
    }
   ],
   "source": [
    "to_drop"
   ]
  },
  {
   "cell_type": "code",
   "execution_count": 12,
   "id": "38ae4de7-b2f2-4609-9e96-4aad8731b5f0",
   "metadata": {},
   "outputs": [
    {
     "name": "stdout",
     "output_type": "stream",
     "text": [
      "Total number of uniquely matched peaks: 79351 , conflicts found within 13203 matches (14.27 %))\n",
      "Total number of conflicting peak to fragment matches: 13203\n",
      "Total number of uniquely matched peaks: 34061 , conflicts found within 5035 matches (12.88 %))\n",
      "Total number of conflicting peak to fragment matches: 5035\n"
     ]
    }
   ],
   "source": [
    "def match_framgments_and_peaks(df):\n",
    "    df_mona=df.copy()\n",
    "    df_mona[\"peak_matches\"] = df_mona[\"Metabolite\"].apply(lambda x: getattr(x, \"peak_matches\"))\n",
    "    df_mona[\"num_peaks_matched\"] = df_mona[\"peak_matches\"].apply(len)\n",
    "    \n",
    "    def get_match_stats(matches, mode_count={m: 0 for m in DEFAULT_MODES}):\n",
    "        num_unique, num_conflicts = 0, 0\n",
    "        for mz, match_data in matches.items():\n",
    "            #candidates = match_data[\"fragments\"]\n",
    "            ion_modes = match_data[\"ion_modes\"]\n",
    "            if len(ion_modes) == 1:\n",
    "                num_unique += 1\n",
    "            elif len(ion_modes) > 1:\n",
    "                num_conflicts += 1\n",
    "            for c in ion_modes:\n",
    "                mode_count[c[0]] += 1\n",
    "        return num_unique, num_conflicts, mode_count\n",
    "    \n",
    "    \n",
    "    \n",
    "    df_mona[\"match_stats\"] = df_mona[\"peak_matches\"].apply(lambda x: get_match_stats(x))\n",
    "    df_mona[\"num_unique_peaks_matched\"] = df_mona.apply(lambda x: x[\"match_stats\"][0], axis=1)\n",
    "    df_mona[\"num_conflicts_in_peak_matching\"] = df_mona.apply(lambda x: x[\"match_stats\"][1], axis=1)\n",
    "    df_mona[\"match_mode_counts\"] = df_mona.apply(lambda x: x[\"match_stats\"][2], axis=1)\n",
    "    u= df_mona[\"num_unique_peaks_matched\"].sum() \n",
    "    s= df_mona[\"num_conflicts_in_peak_matching\"].sum() \n",
    "    print(f\"Total number of uniquely matched peaks: {u} , conflicts found within {s} matches ({100 * s / (u+s):.02f} %))\")\n",
    "    print(f\"Total number of conflicting peak to fragment matches: {s}\")\n",
    "    \n",
    "    df_mona.shape\n",
    "    return df_mona\n",
    "df_plus=match_framgments_and_peaks(df_plus)\n",
    "df_minus=match_framgments_and_peaks(df_minus)"
   ]
  },
  {
   "cell_type": "code",
   "execution_count": 13,
   "id": "f110e2c4-308c-4683-b6c3-ff034003457a",
   "metadata": {},
   "outputs": [
    {
     "data": {
      "text/plain": [
       "Precursor_type\n",
       "[M+H]+    25460\n",
       "[M-H]-    12597\n",
       "Name: count, dtype: int64"
      ]
     },
     "execution_count": 13,
     "metadata": {},
     "output_type": "execute_result"
    }
   ],
   "source": [
    "df = pd.concat([df_plus, df_minus], axis=0)\n",
    "\n",
    "df[\"Precursor_type\"].value_counts()"
   ]
  },
  {
   "cell_type": "code",
   "execution_count": 14,
   "id": "9071499d-dd10-4d06-8d0f-aeff13b34a4d",
   "metadata": {},
   "outputs": [],
   "source": [
    "def add_metadata(df):\n",
    "    orbitrap_nametags = [\"Orbitrap\"]\n",
    "    qtof_nametags = [\"QTOF\", \"LC-ESI-QTOF\", \"ESI-QTOF\"]\n",
    "    df[\"Instrument_type\"] = df[\"Instrument_type\"].apply(lambda x: \"HCD\" if x in orbitrap_nametags else \"Q-TOF\" if x in qtof_nametags else x)\n",
    "    df[\"RETENTIONTIME\"] = np.nan\n",
    "    df[\"CCS\"] = np.nan\n",
    "    df[\"PPM_num\"] = 50\n",
    "    df[\"ppm_peak_tolerance\"] = df[\"PPM_num\"] * PPM\n",
    "    df[\"lib\"] = \"MoNA\"\n",
    "    df[\"origin\"] = \"MoNA\"\n",
    "    df[\"Ionization\"] = \"ESI\"\n",
    "   \n",
    "    return df\n",
    "df=add_metadata(df)"
   ]
  },
  {
   "cell_type": "code",
   "execution_count": 15,
   "id": "d1ca2a0d-b90e-4f13-a5dc-920f0b6e5543",
   "metadata": {},
   "outputs": [
    {
     "name": "stdout",
     "output_type": "stream",
     "text": [
      "Filtering spectra (38057) down to 37238\n",
      "Precursor_type\n",
      "[M+H]+    24847\n",
      "[M-H]-    12391\n",
      "Name: count, dtype: int64\n"
     ]
    }
   ],
   "source": [
    "filter_spectra = True\n",
    "CE_upper_limit = 100.0\n",
    "weight_upper_limit = 1000.0\n",
    "\n",
    "\n",
    "\n",
    "metadata_key_map = {\n",
    "                \"name\": \"Name\",\n",
    "                \"collision_energy\":  \"CE\", \n",
    "                \"instrument\": \"Instrument_type\",\n",
    "                \"ionization\": \"Ionization\",\n",
    "                \"precursor_mz\": \"PrecursorMZ\",\n",
    "                \"precursor_mode\": \"Precursor_type\",\n",
    "                \"retention_time\": \"RETENTIONTIME\",\n",
    "                \"ccs\": \"CCS\"\n",
    "                }\n",
    "\n",
    "\n",
    "\n",
    "df[\"Metabolite\"] = df[\"SMILES\"].apply(Metabolite)\n",
    "df[\"Metabolite\"].apply(lambda x: x.create_molecular_structure_graph())\n",
    "\n",
    "node_encoder = AtomFeatureEncoder(feature_list=[\"symbol\", \"num_hydrogen\", \"ring_type\"])\n",
    "bond_encoder = BondFeatureEncoder(feature_list=[\"bond_type\", \"ring_type\"])\n",
    "setup_encoder = SetupFeatureEncoder(feature_list=[\"collision_energy\", \"molecular_weight\", \"precursor_mode\", \"instrument\"])\n",
    "rt_encoder = SetupFeatureEncoder(feature_list=[\"molecular_weight\", \"precursor_mode\", \"instrument\"])\n",
    "\n",
    "if filter_spectra:\n",
    "    setup_encoder.normalize_features[\"collision_energy\"][\"max\"] = CE_upper_limit \n",
    "    setup_encoder.normalize_features[\"molecular_weight\"][\"max\"] = weight_upper_limit \n",
    "    rt_encoder.normalize_features[\"molecular_weight\"][\"max\"] = weight_upper_limit \n",
    "df[\"Metabolite\"].apply(lambda x: x.compute_graph_attributes(node_encoder, bond_encoder))\n",
    "\n",
    "df[\"summary\"] = df.apply(lambda x: {key: x[name] for key, name in metadata_key_map.items()}, axis=1)\n",
    "df.apply(lambda x: x[\"Metabolite\"].add_metadata(x[\"summary\"], setup_encoder, rt_encoder), axis=1)\n",
    "\n",
    "if filter_spectra:\n",
    "    num_ori = df.shape[0]\n",
    "    correct_energy = df[\"Metabolite\"].apply(lambda x: x.metadata[\"collision_energy\"] <= CE_upper_limit and x.metadata[\"collision_energy\"] > 1) \n",
    "    df = df[correct_energy]\n",
    "    correct_weight = df[\"Metabolite\"].apply(lambda x: x.metadata[\"molecular_weight\"] <= weight_upper_limit)\n",
    "    df = df[correct_weight]    \n",
    "    print(f\"Filtering spectra ({num_ori}) down to {df.shape[0]}\")\n",
    "    print(df[\"Precursor_type\"].value_counts())"
   ]
  },
  {
   "cell_type": "code",
   "execution_count": 16,
   "id": "0fa41a48-8c7e-485b-be92-bfb8b5dad82f",
   "metadata": {},
   "outputs": [
    {
     "name": "stdout",
     "output_type": "stream",
     "text": [
      "Assigning unique metabolite identifiers.\n",
      "Found 5532 unique molecular structures.\n"
     ]
    }
   ],
   "source": [
    "print(\"Assigning unique metabolite identifiers.\")\n",
    "\n",
    "metabolite_id_map = {}\n",
    "\n",
    "for metabolite in df[\"Metabolite\"]:\n",
    "    is_new = True\n",
    "    for id, other in metabolite_id_map.items():\n",
    "        if metabolite == other:\n",
    "            metabolite.set_id(id)\n",
    "            is_new = False\n",
    "            break\n",
    "    if is_new:\n",
    "        new_id = len(metabolite_id_map)\n",
    "        metabolite.id = new_id\n",
    "        metabolite_id_map[new_id] = metabolite\n",
    "\n",
    "df[\"group_id\"] = df[\"Metabolite\"].apply(lambda x: x.get_id())\n",
    "df[\"num_per_group\"] = df[\"group_id\"].map(df[\"group_id\"].value_counts())\n",
    "\n",
    "for i, data in df.iterrows():\n",
    "    data[\"Metabolite\"].set_loss_weight(1.0 / data[\"num_per_group\"])\n",
    "print(f\"Found {len(metabolite_id_map)} unique molecular structures.\")"
   ]
  },
  {
   "cell_type": "code",
   "execution_count": 17,
   "id": "47af0b8f-164e-4e66-afa3-5434ce1db026",
   "metadata": {},
   "outputs": [],
   "source": [
    "%%capture\n",
    "df[\"loss_weight\"] = df[\"Metabolite\"].apply(lambda x: x.loss_weight)\n",
    "df[\"Metabolite\"].apply(lambda x: x.fragment_MOL(depth=1))\n",
    "df.apply(lambda x: x[\"Metabolite\"].match_fragments_to_peaks(x[\"peaks\"][\"mz\"], x[\"peaks\"][\"intensity\"], tolerance=x[\"ppm_peak_tolerance\"]), axis=1)\n",
    "df[\"np\"] = df[\"Metabolite\"].apply(lambda x: x.match_stats[\"num_peak_matches\"])\n",
    "df[\"npf\"] = df[\"Metabolite\"].apply(lambda x: x.match_stats[\"num_peak_matches_filtered\"])\n",
    "df[\"ppf\"] = df[\"Metabolite\"].apply(lambda x: x.match_stats[\"percent_peak_matches_filtered\"])"
   ]
  },
  {
   "cell_type": "code",
   "execution_count": 18,
   "id": "57090803-4349-47bf-bd69-e3178ef07361",
   "metadata": {},
   "outputs": [
    {
     "name": "stdout",
     "output_type": "stream",
     "text": [
      "2966 found with misaligned precursor. Removing these.\n"
     ]
    }
   ],
   "source": [
    "df[\"Precursor_offset\"] = df[\"PrecursorMZ\"] - df.apply(lambda x: x[\"Metabolite\"].ExactMolWeight + ADDUCT_WEIGHTS[x[\"Precursor_type\"]], axis=1)\n",
    "df[\"Precursor_abs_error\"] = abs(df[\"Precursor_offset\"])\n",
    "df[\"Precursor_rel_error\"] = df[\"Precursor_abs_error\"] / df[\"PrecursorMZ\"]\n",
    "df[\"Precursor_ppm_error\"] = df[\"Precursor_abs_error\"] / (df[\"PrecursorMZ\"] * PPM)\n",
    "print((df[\"Precursor_ppm_error\"] > df[\"PPM_num\"]).sum(), \"found with misaligned precursor. Removing these.\")\n",
    "\n",
    "df = df[df[\"Precursor_ppm_error\"] <= df[\"PPM_num\"]]"
   ]
  },
  {
   "cell_type": "code",
   "execution_count": 19,
   "id": "35dc54e6-1175-40e3-b562-e87e61f8950b",
   "metadata": {},
   "outputs": [],
   "source": [
    "df[\"coverage\"] = df[\"Metabolite\"].apply(lambda x: x.match_stats[\"coverage\"])\n",
    "coverage_tracker = {\"counts\": [], \"all\": [], \"coverage\": [], \"fragment_only_coverage\": [], \"Precursor_type\": []}\n",
    "\n",
    "drop_index = []\n",
    "for i,d in df.iterrows():\n",
    "    M = d[\"Metabolite\"]\n",
    "    \n",
    "    \n",
    "    coverage_tracker[\"counts\"] += [M.match_stats[\"counts\"]]\n",
    "    coverage_tracker[\"all\"] += [M.match_stats[\"ms_all_counts\"]]\n",
    "    coverage_tracker[\"fragment_only_coverage\"] += [M.match_stats[\"coverage_wo_prec\"]]\n",
    "    coverage_tracker[\"coverage\"] += [M.match_stats[\"coverage\"]]\n",
    "    coverage_tracker[\"Precursor_type\"] += [M.metadata[\"precursor_mode\"]]\n",
    "    \n",
    "    \n",
    "    #\n",
    "    # IMPORTANT: FILTER AND CLEAN DATA\n",
    "    #\n",
    "    \n",
    "    \n",
    "    min_coverage = 0.5\n",
    "    if M.match_stats[\"coverage\"] < min_coverage: # Filter if total coverage is too low\n",
    "        drop_index.append(i)\n",
    "    \n",
    "    min_peaks = 2\n",
    "    if M.match_stats[\"num_peak_matches_filtered\"] < min_peaks:\n",
    "        drop_index.append(i)\n",
    "\n",
    "    # Either condition is enough to keep the spectrum\n",
    "    desired_peaks = 5\n",
    "    desired_peak_percentage = 0.5\n",
    "    extremly_high_coverage = 0.8\n",
    "    if (M.match_stats[\"num_peak_matches_filtered\"] < desired_peaks) & (M.match_stats[\"percent_peak_matches_filtered\"] < desired_peak_percentage) & (M.match_stats[\"coverage\"] < extremly_high_coverage):\n",
    "        drop_index.append(i)\n",
    "\n",
    "        #if M.match_stats[\"num_non_precursor_matches\"] < 1:\n",
    "        #    drop_index.append(i)\n",
    "    # max_conflicts_rel = 0.75\n",
    "    # if M.match_stats[\"rel_fragment_conflicts\"] > max_conflicts_rel: \n",
    "    #     drop_index.append(i)\n",
    "    \n",
    "    max_precursor = 0.9\n",
    "    if M.match_stats[\"precursor_prob\"] > max_precursor: # Filter if fragment coverage is too low (intensity wise)\n",
    "       drop_index.append(i)\n",
    "    \n",
    "    # if d[\"lib\"] == \"MSDIAL\":\n",
    "    #     if d[\"INSTRUMENTTYPE\"] == \"Orbitrap\": # and M.match_stats[\"precursor_prob\"] > 0.95:\n",
    "    #         drop_index.append(i)\n",
    "    \n",
    "    \n",
    "# filter low res instruments TODO update to low quality spectra\n",
    "low_quality_tags = [\"IT/ion trap\", \"QqQ\", \"LC-ESI-QQ\", \"Flow-injection QqQ/MS\", \"LC-APPI-QQ\", \"LC-ESI-IT\", \"LC-ESI-QIT\", \"QIT\"] #What about ESI-ITTOF? GC-APCI-QTOF?\n",
    "low_res_machines = df[\"Metabolite\"].apply(lambda x: x.metadata[\"instrument\"] in low_quality_tags)\n",
    "drop_index += list(df[low_res_machines].index)\n",
    "df.drop(drop_index, inplace=True)"
   ]
  },
  {
   "cell_type": "code",
   "execution_count": 21,
   "id": "62a9d0bb-8883-4c1b-935b-ecd82167eacd",
   "metadata": {},
   "outputs": [],
   "source": [
    "df.to_csv(\"../datasplits_Feb25_test.csv\")"
   ]
  },
  {
   "cell_type": "code",
   "execution_count": null,
   "id": "d25084d1-6923-4acc-84b3-837c9f46dde3",
   "metadata": {},
   "outputs": [],
   "source": []
  },
  {
   "cell_type": "code",
   "execution_count": null,
   "id": "2a687641-219c-4fe6-abe2-32c3d2834dce",
   "metadata": {},
   "outputs": [],
   "source": []
  }
 ],
 "metadata": {
  "kernelspec": {
   "display_name": "Python 3 (ipykernel)",
   "language": "python",
   "name": "python3"
  },
  "language_info": {
   "codemirror_mode": {
    "name": "ipython",
    "version": 3
   },
   "file_extension": ".py",
   "mimetype": "text/x-python",
   "name": "python",
   "nbconvert_exporter": "python",
   "pygments_lexer": "ipython3",
   "version": "3.10.8"
  }
 },
 "nbformat": 4,
 "nbformat_minor": 5
}
