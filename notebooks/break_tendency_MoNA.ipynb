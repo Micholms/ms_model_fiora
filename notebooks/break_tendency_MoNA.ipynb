{
 "cells": [
  {
   "cell_type": "code",
   "execution_count": 2,
   "metadata": {},
   "outputs": [
    {
     "name": "stderr",
     "output_type": "stream",
     "text": [
      "[09:22:47] WARNING: not removing hydrogen atom without neighbors\n",
      "[09:22:47] WARNING: not removing hydrogen atom without neighbors\n",
      "[09:22:47] WARNING: not removing hydrogen atom without neighbors\n"
     ]
    },
    {
     "name": "stdout",
     "output_type": "stream",
     "text": [
      "Working with Python 3.10.8 | packaged by conda-forge | (main, Nov 22 2022, 08:26:04) [GCC 10.4.0]\n"
     ]
    }
   ],
   "source": [
    "import sys\n",
    "import torch\n",
    "\n",
    "seed = 42\n",
    "#torch.set_default_dtype(torch.float64)\n",
    "torch.manual_seed(seed)\n",
    "torch.set_printoptions(precision=2, sci_mode=False)\n",
    "\n",
    "\n",
    "import pandas as pd\n",
    "import numpy as np\n",
    "import ast\n",
    "\n",
    "# Plotting\n",
    "import matplotlib.pyplot as plt\n",
    "import seaborn as sns\n",
    "\n",
    "\n",
    "\n",
    "# Load Modules\n",
    "sys.path.append(\"..\")\n",
    "from os.path import expanduser\n",
    "home = expanduser(\"~\")\n",
    "from fiora.MOL.constants import DEFAULT_PPM, PPM, DEFAULT_MODES\n",
    "from fiora.IO.LibraryLoader import LibraryLoader\n",
    "from fiora.MOL.FragmentationTree import FragmentationTree \n",
    "import fiora.visualization.spectrum_visualizer as sv\n",
    "\n",
    "from sklearn.metrics import r2_score\n",
    "import scipy\n",
    "from rdkit import RDLogger\n",
    "RDLogger.DisableLog('rdApp.*')\n",
    "\n",
    "print(f'Working with Python {sys.version}')\n"
   ]
  },
  {
   "attachments": {},
   "cell_type": "markdown",
   "metadata": {},
   "source": [
    "## Data"
   ]
  },
  {
   "cell_type": "code",
   "execution_count": 3,
   "metadata": {},
   "outputs": [
    {
     "name": "stdout",
     "output_type": "stream",
     "text": [
      "Preparing MoNA library\n"
     ]
    }
   ],
   "source": [
    "from typing import Literal\n",
    "lib: Literal[\"NIST\", \"MSDIAL\", \"NIST/MSDIAL\"] = \"NIST/MSDIAL\"\n",
    "lib= \"MoNA\"\n",
    "print(f\"Preparing {lib} library\")\n",
    "\n",
    "test_run = False # Default: False\n",
    "if test_run:\n",
    "    print(\"+++ This is a test run with a small subset of data points. Results are not representative. +++\")"
   ]
  },
  {
   "cell_type": "code",
   "execution_count": 34,
   "metadata": {},
   "outputs": [],
   "source": [
    "# key map to read metadata from pandas DataFrame\n",
    "metadata_key_map = {\n",
    "                \"name\": \"Name\",\n",
    "                \"collision_energy\":  \"CE\", \n",
    "                \"instrument\": \"Instrument_type\",\n",
    "                \"ionization\": \"Ionization\",\n",
    "                \"precursor_mz\": \"PrecursorMZ\",\n",
    "                \"precursor_mode\": \"Precursor_type\",\n",
    "                \"retention_time\": \"RETENTIONTIME\",\n",
    "                \"ccs\": \"CCS\"\n",
    "                }\n",
    "\n",
    "\n",
    "#\n",
    "# Load specified libraries and align metadata\n",
    "#\n",
    "\n",
    "def load_nist():\n",
    "    library_name = \"nist_msms_filteredall_07_2023\"\n",
    "    library_directory = f\"{home}/data/metabolites/NIST17/msp/nist_msms/\"  \n",
    "    L = LibraryLoader()\n",
    "    df = L.load_from_csv(library_directory + library_name + \".csv\") \n",
    "    df[\"RETENTIONTIME\"] = np.nan\n",
    "    df[\"CCS\"] = np.nan\n",
    "    df[\"PPM_num\"] = 50\n",
    "    df[\"ppm_peak_tolerance\"] = df[\"PPM_num\"] * PPM\n",
    "    df[\"lib\"] = \"NIST\"\n",
    "    df[\"origin\"] = \"NIST\"\n",
    "    \n",
    "    return df\n",
    "\n",
    "def load_msdial():\n",
    "    library_name = \"ms_dial_filtered_all_mid_08_2023\"\n",
    "    library_directory = f\"{home}/data/metabolites/MS_DIAL/\"\n",
    "    L = LibraryLoader()\n",
    "    df = L.load_from_csv(library_directory + library_name + \".csv\")\n",
    "    \n",
    "    orbitrap_nametags = [\"Orbitrap\"]\n",
    "    qtof_nametags = [\"QTOF\", \"LC-ESI-QTOF\", \"ESI-QTOF\"]\n",
    "    df[\"Instrument_type\"] = df[\"INSTRUMENTTYPE\"].apply(lambda x: \"HCD\" if x in orbitrap_nametags else \"Q-TOF\" if x in qtof_nametags else x)\n",
    "    df[\"Ionization\"] = \"ESI\"\n",
    "    df[\"original_RT\"] = df[\"RETENTIONTIME\"].astype(float)\n",
    "    df[\"RETENTIONTIME\"] = df[\"RETENTIONTIME\"].astype(float)\n",
    "    df[\"CCS\"] = df[\"CCS\"].astype(float)\n",
    "    df[\"PrecursorMZ\"] = df[\"PRECURSORMZ\"].astype(float)\n",
    "    df[\"Precursor_type\"] = df[\"PRECURSORTYPE\"]\n",
    "    df[\"Name\"] = df[\"NAME\"]\n",
    "    df[\"PPM_num\"] = 50\n",
    "    df[\"ppm_peak_tolerance\"] = df[\"PPM_num\"] * PPM\n",
    "    df[\"lib\"] = \"MSDIAL\"\n",
    "    \n",
    "    # Filter out retention times using other phase types (e.g. HILIC) or of unknown/heterogeneous souces\n",
    "    #df[df[\"origin\"] == \"MassBank High Quality Mass Spectral Database\"][\"RETENTIONTIME\"] = np.nan\n",
    "    #df[df[\"origin\"] == \"Fiehn Lab HILIC Library\"][\"RETENTIONTIME\"] = np.nan\n",
    "    bad_RT_libs = [\"MassBank High Quality Mass Spectral Database\", \"Fiehn Lab HILIC Library\"]\n",
    "    potential_homogenous_RT_libs = ['BMDMS-NP']# , 'RIKEN Plant Specialized Metabolome Annotation (PlaSMA) Authentic Standard Library' 'BMDMS-NP' , \"Global Natural Product Social Molecular Networking Library\"]\n",
    "    df[\"RETENTIONTIME\"] = df.apply(lambda x: x[\"RETENTIONTIME\"] if x[\"origin\"] in potential_homogenous_RT_libs else np.nan, axis=1)\n",
    "    \n",
    "    return df\n",
    "\n",
    "\n",
    "def load_mona():\n",
    "    library_name = \"nist_msms_filtered_min1_02_2025\"\n",
    "    library_directory = \"../data/\"\n",
    "    L = LibraryLoader()\n",
    "    df = L.load_from_csv(library_directory + library_name + \".csv\")\n",
    "    \n",
    "    orbitrap_nametags = [\"Orbitrap\"]\n",
    "    qtof_nametags = [\"QTOF\", \"LC-ESI-QTOF\", \"ESI-QTOF\"]\n",
    "    df[\"Instrument_type\"] = df[\"Instrument_type\"].apply(lambda x: \"HCD\" if x in orbitrap_nametags else \"Q-TOF\" if x in qtof_nametags else x)\n",
    "    df[\"RETENTIONTIME\"] = np.nan\n",
    "    df[\"CCS\"] = np.nan\n",
    "    df[\"PPM_num\"] = 50\n",
    "    df[\"ppm_peak_tolerance\"] = df[\"PPM_num\"] * PPM\n",
    "    df[\"lib\"] = \"MoNA\"\n",
    "    df[\"origin\"] = \"MoNA\"\n",
    "    df[\"Ionization\"] = \"ESI\"\n",
    "   \n",
    "    return df\n",
    "\n",
    "\n",
    "\n",
    "if lib == \"NIST\":\n",
    "    df = load_nist()    \n",
    "elif lib == \"MSDIAL\":\n",
    "    df = load_msdial()\n",
    "elif lib == \"NIST/MSDIAL\":\n",
    "    df = pd.concat([load_nist(), load_msdial()], ignore_index=True)\n",
    "    #df.reset_index(inplace=True) # Avoid conflict from index overlap of the two dataframes\n",
    "elif lib==\"MoNA\":\n",
    "    df=load_mona()\n",
    "    \n",
    " #Restore dictionary values\n",
    "dict_columns = [\"peaks\"]\n",
    "for col in dict_columns:\n",
    "    df[col] = df[col].apply(ast.literal_eval)\n",
    "    \n",
    "\n",
    "df_org=df.copy()"
   ]
  },
  {
   "cell_type": "code",
   "execution_count": 35,
   "metadata": {},
   "outputs": [
    {
     "name": "stdout",
     "output_type": "stream",
     "text": [
      "Filtering spectra (32316) down to 31722\n",
      "Precursor_type\n",
      "[M+H]+    21560\n",
      "[M-H]-    10162\n",
      "Name: count, dtype: int64\n"
     ]
    }
   ],
   "source": [
    "#%%capture\n",
    "from fiora.MOL.Metabolite import Metabolite\n",
    "from fiora.GNN.AtomFeatureEncoder import AtomFeatureEncoder\n",
    "from fiora.GNN.BondFeatureEncoder import BondFeatureEncoder\n",
    "from fiora.GNN.SetupFeatureEncoder import SetupFeatureEncoder\n",
    "#\n",
    "filter_spectra = True\n",
    "CE_upper_limit = 100.0\n",
    "weight_upper_limit = 1000.0\n",
    "\n",
    "\n",
    "if test_run:\n",
    "    df = df.iloc[5000:6000,:]\n",
    "    #df = df.iloc[5000:20000,:]\n",
    "\n",
    "\n",
    "\n",
    "df[\"Metabolite\"] = df[\"SMILES\"].apply(Metabolite)\n",
    "df[\"Metabolite\"].apply(lambda x: x.create_molecular_structure_graph())\n",
    "\n",
    "node_encoder = AtomFeatureEncoder(feature_list=[\"symbol\", \"num_hydrogen\", \"ring_type\"])\n",
    "bond_encoder = BondFeatureEncoder(feature_list=[\"bond_type\", \"ring_type\"])\n",
    "setup_encoder = SetupFeatureEncoder(feature_list=[\"collision_energy\", \"molecular_weight\", \"precursor_mode\", \"instrument\"])\n",
    "rt_encoder = SetupFeatureEncoder(feature_list=[\"molecular_weight\", \"precursor_mode\", \"instrument\"])\n",
    "\n",
    "if filter_spectra:\n",
    "    setup_encoder.normalize_features[\"collision_energy\"][\"max\"] = CE_upper_limit \n",
    "    setup_encoder.normalize_features[\"molecular_weight\"][\"max\"] = weight_upper_limit \n",
    "    rt_encoder.normalize_features[\"molecular_weight\"][\"max\"] = weight_upper_limit \n",
    "df[\"Metabolite\"].apply(lambda x: x.compute_graph_attributes(node_encoder, bond_encoder))\n",
    "\n",
    "df[\"summary\"] = df.apply(lambda x: {key: x[name] for key, name in metadata_key_map.items()}, axis=1)\n",
    "df.apply(lambda x: x[\"Metabolite\"].add_metadata(x[\"summary\"], setup_encoder, rt_encoder), axis=1)\n",
    "\n",
    "if filter_spectra:\n",
    "    num_ori = df.shape[0]\n",
    "    correct_energy = df[\"Metabolite\"].apply(lambda x: x.metadata[\"collision_energy\"] <= CE_upper_limit and x.metadata[\"collision_energy\"] > 1) \n",
    "    df = df[correct_energy]\n",
    "    correct_weight = df[\"Metabolite\"].apply(lambda x: x.metadata[\"molecular_weight\"] <= weight_upper_limit)\n",
    "    df = df[correct_weight]    \n",
    "    print(f\"Filtering spectra ({num_ori}) down to {df.shape[0]}\")\n",
    "    print(df[\"Precursor_type\"].value_counts())\n"
   ]
  },
  {
   "cell_type": "markdown",
   "metadata": {
    "jp-MarkdownHeadingCollapsed": true
   },
   "source": [
    "## CASMI \n"
   ]
  },
  {
   "cell_type": "code",
   "execution_count": 149,
   "metadata": {},
   "outputs": [],
   "source": [
    "\n",
    "import pandas as pd\n",
    "casmi16_path = f\"../../CASMI16/casmi16_challenges_combined.csv\"\n",
    "#casmi16train_path = f\"{home}/data/metabolites/CASMI_2016/casmi16_training_combined.csv\"\n",
    "#casmi22_path = f\"{home}/data/metabolites/CASMI_2022/casmi22_challenges_combined.csv\"\n",
    "\n",
    "df_cas = pd.read_csv(casmi16_path, index_col=[0], low_memory=False)\n",
    "#df_cast = pd.read_csv(casmi16train_path, index_col=[0], low_memory=False)\n",
    "#df_cas22 = pd.read_csv(casmi22_path, index_col=[0], low_memory=False)\n",
    "\n",
    "# Restore dictionary values\n",
    "dict_columns = [\"peaks\", \"Candidates\"]\n",
    "for col in dict_columns:\n",
    "    df_cas[col] = df_cas[col].apply(ast.literal_eval)\n",
    "   # df_cast[col] = df_cast[col].apply(ast.literal_eval)\n",
    "\n",
    "#df_cas22[\"peaks\"] = df_cas22[\"peaks\"].apply(ast.literal_eval)\n",
    "#df_cas22 = df_cas22.reset_index()"
   ]
  },
  {
   "cell_type": "code",
   "execution_count": 150,
   "metadata": {},
   "outputs": [
    {
     "name": "stdout",
     "output_type": "stream",
     "text": [
      "Found 131 instances violating test/train split (CASMI 16 Challenge). Metabolite found in train/val set.\n",
      "Dropping 578 spectra from training DataFrame.\n"
     ]
    },
    {
     "name": "stderr",
     "output_type": "stream",
     "text": [
      "/home/michaelah/miniconda3/envs/fiora/lib/python3.10/site-packages/numpy/_core/_methods.py:227: RuntimeWarning: Degrees of freedom <= 0 for slice\n",
      "  ret = _var(a, axis=axis, dtype=dtype, out=out, ddof=ddof,\n",
      "/home/michaelah/miniconda3/envs/fiora/lib/python3.10/site-packages/numpy/_core/_methods.py:184: RuntimeWarning: invalid value encountered in divide\n",
      "  arrmean = um.true_divide(arrmean, div, out=arrmean,\n",
      "/home/michaelah/miniconda3/envs/fiora/lib/python3.10/site-packages/numpy/_core/_methods.py:219: RuntimeWarning: invalid value encountered in scalar divide\n",
      "  ret = ret.dtype.type(ret / rcount)\n",
      "/home/michaelah/miniconda3/envs/fiora/lib/python3.10/site-packages/numpy/_core/fromnumeric.py:3904: RuntimeWarning: Mean of empty slice.\n",
      "  return _methods._mean(a, axis=axis, dtype=dtype,\n",
      "/home/michaelah/miniconda3/envs/fiora/lib/python3.10/site-packages/numpy/_core/_methods.py:147: RuntimeWarning: invalid value encountered in scalar divide\n",
      "  ret = ret.dtype.type(ret / rcount)\n"
     ]
    }
   ],
   "source": [
    "df_cas[\"Metabolite\"] = df_cas[\"SMILES\"].apply(Metabolite)\n",
    "df_cas[\"CCS\"] = [[]] * df_cas.shape[0]\n",
    "### CHECK IF train test split is correct\n",
    "\n",
    "iii = []\n",
    "xxx = []\n",
    "for i,d in df_cas.iterrows():\n",
    "    m = d[\"Metabolite\"]\n",
    "    \n",
    "    for x,D in df.iterrows():\n",
    "        M = D[\"Metabolite\"]\n",
    "        if (m == M):\n",
    "            iii += [i]\n",
    "            xxx += [x]\n",
    "            if D[\"CCS\"]:\n",
    "                df_cas.at[i, \"CCS\"] = df_cas.at[i, \"CCS\"] + [D[\"CCS\"]] # Add CCS metadata\n",
    "\n",
    "          \n",
    "iii = np.unique(iii)  \n",
    "print(f\"Found {len(iii)} instances violating test/train split (CASMI 16 Challenge). Metabolite found in train/val set.\")\n",
    "print(f\"Dropping {len(xxx)} spectra from training DataFrame.\")\n",
    "df.drop(xxx, inplace=True)\n",
    "\n",
    "# Add CCS metadata\n",
    "df_cas[\"CCS_std\"] = df_cas[\"CCS\"].apply(np.std)\n",
    "df_cas[\"CCS\"] = df_cas[\"CCS\"].apply(np.mean)\n"
   ]
  },
  {
   "cell_type": "code",
   "execution_count": null,
   "metadata": {},
   "outputs": [],
   "source": [
    "df_cast[\"Metabolite\"] = df_cast[\"SMILES\"].apply(Metabolite)\n",
    "df_cast[\"CCS\"] = [[]] * df_cast.shape[0]\n",
    "### CHECK IF train test split is correct\n",
    "\n",
    "iii = []\n",
    "xxx = []\n",
    "for i,d in df_cast.iterrows():\n",
    "    m = d[\"Metabolite\"]\n",
    "    \n",
    "    for x,D in df.iterrows():\n",
    "        M = D[\"Metabolite\"]\n",
    "        if (m == M):\n",
    "            iii += [i]\n",
    "            xxx += [x]\n",
    "            if D[\"CCS\"]:\n",
    "                df_cast.at[i, \"CCS\"] = df_cast.at[i, \"CCS\"] + [D[\"CCS\"]] # Add CCS metadata\n",
    "\n",
    "          \n",
    "iii = np.unique(iii)  \n",
    "print(f\"Found {len(iii)} instances violating test/train split (CASMI 16 Training). Metabolite found in train/val set.\")\n",
    "print(f\"Dropping {len(xxx)} spectra from training DataFrame.\")\n",
    "df.drop(xxx, inplace=True)\n",
    "\n",
    "# Add CCS metadata\n",
    "df_cast[\"CCS_std\"] = df_cast[\"CCS\"].apply(np.std)\n",
    "df_cast[\"CCS\"] = df_cast[\"CCS\"].apply(np.mean)"
   ]
  },
  {
   "cell_type": "code",
   "execution_count": null,
   "metadata": {},
   "outputs": [],
   "source": [
    "df_cas22_unique = df_cas22.drop_duplicates(subset='ChallengeName', keep='first')\n",
    "df_cas22_unique.reset_index(inplace=True)\n",
    "df_cas22_unique[\"Metabolite\"] = df_cas22_unique[\"SMILES\"].apply(Metabolite)\n",
    "df_cas22_unique.shape"
   ]
  },
  {
   "cell_type": "code",
   "execution_count": null,
   "metadata": {},
   "outputs": [],
   "source": [
    "### CHECK IF train test split is correct\n",
    "\n",
    "iii = []\n",
    "xxx = []\n",
    "\n",
    "df_cas22_unique[\"CCS\"] = [[]] * df_cas22_unique.shape[0]\n",
    "\n",
    "\n",
    "for i,d in df_cas22_unique.iterrows():\n",
    "    m = d[\"Metabolite\"]\n",
    "    \n",
    "    for x,D in df.iterrows():\n",
    "        M = D[\"Metabolite\"]\n",
    "        if (m == M):\n",
    "            iii += [i]\n",
    "            xxx += [x]\n",
    "    \n",
    "            if D[\"CCS\"]:\n",
    "                df_cas22_unique.at[i, \"CCS\"] = df_cas22_unique.at[i, \"CCS\"] + [D[\"CCS\"]] # Add CCS metadata\n",
    "            \n",
    "iii = np.unique(iii)  \n",
    "print(f\"Found {len(iii)} instances violating test/train split (CASMI 22). Metabolite found in train/val set.\")\n",
    "print(f\"Dropping {len(xxx)} spectra from training DataFrame.\")\n",
    "df.drop(xxx, inplace=True)\n",
    "\n",
    "# Add CCS metadata\n",
    "df_cas22_unique[\"CCS_std\"] = df_cas22_unique[\"CCS\"].apply(np.std)\n",
    "df_cas22_unique[\"CCS\"] = df_cas22_unique[\"CCS\"].apply(np.mean)\n",
    "df_cas22[\"CCS\"] = df_cas22[\"ChallengeName\"].apply(lambda x: df_cas22_unique[df_cas22_unique[\"ChallengeName\"] == x][\"CCS\"].iloc[0])\n",
    "df_cas22[\"CCS_std\"] = df_cas22[\"ChallengeName\"].apply(lambda x: df_cas22_unique[df_cas22_unique[\"ChallengeName\"] == x][\"CCS_std\"].iloc[0])\n"
   ]
  },
  {
   "cell_type": "code",
   "execution_count": null,
   "metadata": {},
   "outputs": [],
   "source": [
    "df_cas22_unique[~df_cas22_unique[\"CCS\"].isna()]\n",
    "\n",
    "# TODO add those to df_cas22\n",
    "\n",
    "df_cas22[\"CCS\"] = df_cas22[\"ChallengeName\"].apply(lambda x: df_cas22_unique[df_cas22_unique[\"ChallengeName\"] == x][\"CCS\"].iloc[0])\n",
    "df_cas22[\"CCS_std\"] = df_cas22[\"ChallengeName\"].apply(lambda x: df_cas22_unique[df_cas22_unique[\"ChallengeName\"] == x][\"CCS_std\"].iloc[0])"
   ]
  },
  {
   "cell_type": "code",
   "execution_count": null,
   "metadata": {},
   "outputs": [],
   "source": [
    "# Save casmi with\n",
    "save_df=False\n",
    "if save_df:\n",
    "\n",
    "    df_cas.to_csv(f\"{home}/data/metabolites/CASMI_2016/casmi16_withCCS.csv\")\n",
    "    #df_cast.to_csv(f\"{home}/data/metabolites/CASMI_2016/casmi16t_withCCS.csv\")\n",
    "    #df_cas22.to_csv(f\"{home}/data/metabolites/CASMI_2022/casmi22_withCCS.csv\")\n",
    "\n",
    "    print(df_cas.head(3))\n",
    "   #print(df_cas22.head(3))\n"
   ]
  },
  {
   "cell_type": "markdown",
   "metadata": {},
   "source": [
    "## MoNA cont"
   ]
  },
  {
   "cell_type": "code",
   "execution_count": 36,
   "metadata": {},
   "outputs": [
    {
     "name": "stdout",
     "output_type": "stream",
     "text": [
      "Assigning unique metabolite identifiers.\n",
      "Found 5273 unique molecular structures.\n"
     ]
    }
   ],
   "source": [
    "print(\"Assigning unique metabolite identifiers.\")\n",
    "\n",
    "metabolite_id_map = {}\n",
    "\n",
    "for metabolite in df[\"Metabolite\"]:\n",
    "    is_new = True\n",
    "    for id, other in metabolite_id_map.items():\n",
    "        if metabolite == other:\n",
    "            metabolite.set_id(id)\n",
    "            is_new = False\n",
    "            break\n",
    "    if is_new:\n",
    "        new_id = len(metabolite_id_map)\n",
    "        metabolite.id = new_id\n",
    "        metabolite_id_map[new_id] = metabolite\n",
    "\n",
    "df[\"group_id\"] = df[\"Metabolite\"].apply(lambda x: x.get_id())\n",
    "df[\"num_per_group\"] = df[\"group_id\"].map(df[\"group_id\"].value_counts())\n",
    "\n",
    "for i, data in df.iterrows():\n",
    "    data[\"Metabolite\"].set_loss_weight(1.0 / data[\"num_per_group\"])\n",
    "print(f\"Found {len(metabolite_id_map)} unique molecular structures.\")"
   ]
  },
  {
   "cell_type": "code",
   "execution_count": 37,
   "metadata": {},
   "outputs": [
    {
     "data": {
      "text/plain": [
       "lib\n",
       "MoNA    5273\n",
       "Name: group_id, dtype: int64"
      ]
     },
     "execution_count": 37,
     "metadata": {},
     "output_type": "execute_result"
    }
   ],
   "source": [
    "df.groupby(\"lib\").group_id.unique().apply(len)\n"
   ]
  },
  {
   "cell_type": "code",
   "execution_count": 38,
   "metadata": {},
   "outputs": [
    {
     "data": {
      "text/plain": [
       "(31722, 45)"
      ]
     },
     "execution_count": 38,
     "metadata": {},
     "output_type": "execute_result"
    }
   ],
   "source": [
    "df.shape"
   ]
  },
  {
   "cell_type": "code",
   "execution_count": 39,
   "metadata": {},
   "outputs": [],
   "source": [
    "df[\"loss_weight\"] = df[\"Metabolite\"].apply(lambda x: x.loss_weight)"
   ]
  },
  {
   "cell_type": "code",
   "execution_count": 10,
   "metadata": {
    "scrolled": true
   },
   "outputs": [
    {
     "data": {
      "image/png": "[encoded data removed]",
      "text/plain": [
       "<Figure size 1280x420 with 2 Axes>"
      ]
     },
     "metadata": {},
     "output_type": "display_data"
    }
   ],
   "source": [
    "from fiora.MOL.mol_graph import draw_graph\n",
    "from fiora.visualization.define_colors import define_figure_style, color_palette, bluepink, bluepink_grad, bluepink_grad8, tri_palette\n",
    "from fiora.visualization.define_colors import *\n",
    "import matplotlib.pyplot as plt\n",
    "matplotlib.rcParams['figure.figsize'] = (12, 6)\n",
    "\n",
    "magma_palette = define_figure_style(style=\"magma-white\", palette_steps=8)\n",
    "\n",
    "if not test_run:\n",
    "    EXAMPLE_ID = 321 if (lib == \"MoNA\") else 7607 if lib == \"MSDIAL\" else 0\n",
    "    example = df.loc[EXAMPLE_ID]\n",
    "\n",
    "    fig, axs = plt.subplots(1, 2, figsize=(12.8, 4.2), gridspec_kw={'width_ratios': [1, 1]}, sharey=False)\n",
    "    set_light_theme()\n",
    "\n",
    "    img = example[\"Metabolite\"].draw(ax=axs[0])\n",
    "    draw_graph(example[\"Metabolite\"].Graph, ax=axs[1])"
   ]
  },
  {
   "cell_type": "code",
   "execution_count": 11,
   "metadata": {},
   "outputs": [
    {
     "data": {
      "image/png": "[encoded data removed]",
      "text/plain": [
       "<Figure size 1280x420 with 2 Axes>"
      ]
     },
     "metadata": {},
     "output_type": "display_data"
    }
   ],
   "source": [
    "if not test_run:\n",
    "    fig, axs = plt.subplots(1, 2, figsize=(12.8, 4.2), gridspec_kw={'width_ratios': [1, 3]}, sharey=False)\n",
    "\n",
    "    img = example[\"Metabolite\"].draw(ax= axs[0])\n",
    "\n",
    "    axs[0].grid(False)\n",
    "    axs[0].tick_params(axis='both', bottom=False, labelbottom=False, left=False, labelleft=False)\n",
    "    axs[0].set_title(str(example[\"Metabolite\"]))\n",
    "    axs[0].imshow(img)\n",
    "    axs[0].axis(\"off\")\n",
    "    sv.plot_spectrum(example, ax=axs[1])"
   ]
  },
  {
   "cell_type": "code",
   "execution_count": 40,
   "metadata": {},
   "outputs": [],
   "source": [
    "%%capture\n",
    "df[\"Metabolite\"].apply(lambda x: x.fragment_MOL(depth=1))\n",
    "df.apply(lambda x: x[\"Metabolite\"].match_fragments_to_peaks(x[\"peaks\"][\"mz\"], x[\"peaks\"][\"intensity\"], tolerance=x[\"ppm_peak_tolerance\"]), axis=1)\n"
   ]
  },
  {
   "cell_type": "code",
   "execution_count": 114,
   "metadata": {},
   "outputs": [
    {
     "data": {
      "text/plain": [
       "{'counts': 106.49002075195312,\n",
       " 'ms_all_counts': 152.989158,\n",
       " 'coverage': 0.6960625324309133,\n",
       " 'coverage_wo_prec': 0.042421429919919505,\n",
       " 'precursor_prob': 0.9390551273619309,\n",
       " 'precursor_raw_prob': 0.6536410900437795,\n",
       " 'num_peaks': 8,\n",
       " 'num_peak_matches': 3,\n",
       " 'percent_peak_matches': 0.375,\n",
       " 'num_peaks_filtered': 6,\n",
       " 'num_peak_matches_filtered': 2,\n",
       " 'percent_peak_matches_filtered': 0.25,\n",
       " 'num_non_precursor_matches': 2,\n",
       " 'num_peak_match_conflicts': 0,\n",
       " 'num_fragment_conflicts': 0,\n",
       " 'rel_fragment_conflicts': 0.0,\n",
       " 'ms_num_all_peaks': 8}"
      ]
     },
     "execution_count": 114,
     "metadata": {},
     "output_type": "execute_result"
    }
   ],
   "source": [
    "example = df.iloc[10]\n",
    "example[\"Metabolite\"].match_stats\n",
    "#raise KeyboardInterrupt()"
   ]
  },
  {
   "cell_type": "code",
   "execution_count": 41,
   "metadata": {},
   "outputs": [
    {
     "data": {
      "image/png": "[encoded data removed]",
      "text/plain": [
       "<Figure size 1200x600 with 1 Axes>"
      ]
     },
     "metadata": {},
     "output_type": "display_data"
    }
   ],
   "source": [
    "df[\"np\"] = df[\"Metabolite\"].apply(lambda x: x.match_stats[\"num_peak_matches\"])\n",
    "df[\"npf\"] = df[\"Metabolite\"].apply(lambda x: x.match_stats[\"num_peak_matches_filtered\"])\n",
    "df[\"ppf\"] = df[\"Metabolite\"].apply(lambda x: x.match_stats[\"percent_peak_matches_filtered\"])\n",
    "\n",
    "sns.violinplot(data=df, y=\"ppf\")\n",
    "plt.show()"
   ]
  },
  {
   "cell_type": "code",
   "execution_count": 116,
   "metadata": {},
   "outputs": [
    {
     "data": {
      "text/plain": [
       "2333"
      ]
     },
     "execution_count": 116,
     "metadata": {},
     "output_type": "execute_result"
    }
   ],
   "source": [
    "sum((df[\"ppf\"] > 0.5) & (df[\"npf\"] < 5) & (df[\"npf\"] > 2))"
   ]
  },
  {
   "cell_type": "code",
   "execution_count": 117,
   "metadata": {},
   "outputs": [
    {
     "data": {
      "text/plain": [
       "np\n",
       "2    6284\n",
       "3    5969\n",
       "1    5783\n",
       "4    4356\n",
       "5    2955\n",
       "6    1982\n",
       "7    1293\n",
       "0     901\n",
       "8     848\n",
       "9     563\n",
       "Name: count, dtype: int64"
      ]
     },
     "execution_count": 117,
     "metadata": {},
     "output_type": "execute_result"
    }
   ],
   "source": [
    "df[\"np\"].value_counts().head(10)\n"
   ]
  },
  {
   "cell_type": "code",
   "execution_count": 118,
   "metadata": {},
   "outputs": [
    {
     "data": {
      "text/plain": [
       "npf\n",
       "2    7907\n",
       "1    7392\n",
       "3    6513\n",
       "4    4086\n",
       "5    2328\n",
       "6    1287\n",
       "0     901\n",
       "7     689\n",
       "8     299\n",
       "9     169\n",
       "Name: count, dtype: int64"
      ]
     },
     "execution_count": 118,
     "metadata": {},
     "output_type": "execute_result"
    }
   ],
   "source": [
    "df[\"npf\"].value_counts().head(10)"
   ]
  },
  {
   "cell_type": "code",
   "execution_count": 119,
   "metadata": {},
   "outputs": [
    {
     "data": {
      "text/plain": [
       "{126.0657: {'intensity': 0.881548,\n",
       "  'fragments': [<Fragment Object> :: COc1ccc(N)nn1],\n",
       "  'ion_modes': [('[M+H]+', 126.06618829608999)],\n",
       "  'relative_intensity': 0.00827822183034825,\n",
       "  'edges': [(8, 9)]},\n",
       " 156.0104: {'intensity': 5.608471,\n",
       "  'fragments': [<Fragment Object> :: Nc1ccc([SH](=O)=O)cc1],\n",
       "  'ion_modes': [('[M-H]+', 156.01137585209)],\n",
       "  'relative_intensity': 0.0526666353585682,\n",
       "  'edges': [(8, 9)]},\n",
       " 281.0702: {'intensity': 100.0,\n",
       "  'fragments': [<Fragment Object> :: COc1ccc(NS(=O)(=O)c2ccc(N)cc2)nn1],\n",
       "  'ion_modes': [('[M+H]+', 281.07028769609)],\n",
       "  'relative_intensity': 0.9390551428110835,\n",
       "  'edges': [None]}}"
      ]
     },
     "execution_count": 119,
     "metadata": {},
     "output_type": "execute_result"
    }
   ],
   "source": [
    "example.Metabolite.peak_matches"
   ]
  },
  {
   "cell_type": "code",
   "execution_count": 120,
   "metadata": {},
   "outputs": [],
   "source": [
    "#df = ORI_DF.copy(deep=True)\n",
    "ORI_DF = df.copy(deep=True)"
   ]
  },
  {
   "cell_type": "code",
   "execution_count": 121,
   "metadata": {},
   "outputs": [],
   "source": [
    "df = ORI_DF.copy(deep=True)"
   ]
  },
  {
   "cell_type": "code",
   "execution_count": 42,
   "metadata": {},
   "outputs": [
    {
     "name": "stdout",
     "output_type": "stream",
     "text": [
      "930 found with misaligned precursor. Removing these.\n"
     ]
    }
   ],
   "source": [
    "from fiora.MOL.constants import ADDUCT_WEIGHTS, PPM\n",
    "\n",
    "df[\"Precursor_offset\"] = df[\"PrecursorMZ\"] - df.apply(lambda x: x[\"Metabolite\"].ExactMolWeight + ADDUCT_WEIGHTS[x[\"Precursor_type\"]], axis=1)\n",
    "df[\"Precursor_abs_error\"] = abs(df[\"Precursor_offset\"])\n",
    "df[\"Precursor_rel_error\"] = df[\"Precursor_abs_error\"] / df[\"PrecursorMZ\"]\n",
    "df[\"Precursor_ppm_error\"] = df[\"Precursor_abs_error\"] / (df[\"PrecursorMZ\"] * PPM)\n",
    "print((df[\"Precursor_ppm_error\"] > df[\"PPM_num\"]).sum(), \"found with misaligned precursor. Removing these.\")\n",
    "\n",
    "df = df[df[\"Precursor_ppm_error\"] <= df[\"PPM_num\"]]"
   ]
  },
  {
   "cell_type": "code",
   "execution_count": 43,
   "metadata": {},
   "outputs": [
    {
     "data": {
      "text/plain": [
       "<Axes: xlabel='coverage', ylabel='Density'>"
      ]
     },
     "execution_count": 43,
     "metadata": {},
     "output_type": "execute_result"
    },
    {
     "data": {
      "image/png": "[encoded data removed]",
      "text/plain": [
       "<Figure size 1200x600 with 1 Axes>"
      ]
     },
     "metadata": {},
     "output_type": "display_data"
    }
   ],
   "source": [
    "df[\"coverage\"] = df[\"Metabolite\"].apply(lambda x: x.match_stats[\"coverage\"])\n",
    "sns.kdeplot(data=df, x=\"coverage\", hue=\"lib\")#, multiple=\"dodge\")"
   ]
  },
  {
   "cell_type": "code",
   "execution_count": 44,
   "metadata": {},
   "outputs": [
    {
     "data": {
      "image/png": "[encoded data removed]",
      "text/plain": [
       "<Figure size 1280x420 with 3 Axes>"
      ]
     },
     "metadata": {},
     "output_type": "display_data"
    },
    {
     "name": "stdout",
     "output_type": "stream",
     "text": [
      "Filtering out 37759 that have only precursor matches || or || too little (intensity) coverage to make edge prediction possible\n"
     ]
    }
   ],
   "source": [
    "# TODO Implement conflict solver\n",
    "\n",
    "coverage_tracker = {\"counts\": [], \"all\": [], \"coverage\": [], \"fragment_only_coverage\": [], \"Precursor_type\": []}\n",
    "\n",
    "drop_index = []\n",
    "for i,d in df.iterrows():\n",
    "    M = d[\"Metabolite\"]\n",
    "    \n",
    "    \n",
    "    coverage_tracker[\"counts\"] += [M.match_stats[\"counts\"]]\n",
    "    coverage_tracker[\"all\"] += [M.match_stats[\"ms_all_counts\"]]\n",
    "    coverage_tracker[\"fragment_only_coverage\"] += [M.match_stats[\"coverage_wo_prec\"]]\n",
    "    coverage_tracker[\"coverage\"] += [M.match_stats[\"coverage\"]]\n",
    "    coverage_tracker[\"Precursor_type\"] += [M.metadata[\"precursor_mode\"]]\n",
    "    \n",
    "    \n",
    "    #\n",
    "    # IMPORTANT: FILTER AND CLEAN DATA\n",
    "    #\n",
    "    \n",
    "    \n",
    "    min_coverage = 0.5\n",
    "    if M.match_stats[\"coverage\"] < min_coverage: # Filter if total coverage is too low\n",
    "        drop_index.append(i)\n",
    "    \n",
    "    min_peaks = 2\n",
    "    if M.match_stats[\"num_peak_matches_filtered\"] < min_peaks:\n",
    "        drop_index.append(i)\n",
    "\n",
    "    # Either condition is enough to keep the spectrum\n",
    "    desired_peaks = 5\n",
    "    desired_peak_percentage = 0.5\n",
    "    extremly_high_coverage = 0.8\n",
    "    if (M.match_stats[\"num_peak_matches_filtered\"] < desired_peaks) & (M.match_stats[\"percent_peak_matches_filtered\"] < desired_peak_percentage) & (M.match_stats[\"coverage\"] < extremly_high_coverage):\n",
    "        drop_index.append(i)\n",
    "\n",
    "        #if M.match_stats[\"num_non_precursor_matches\"] < 1:\n",
    "        #    drop_index.append(i)\n",
    "    # max_conflicts_rel = 0.75\n",
    "    # if M.match_stats[\"rel_fragment_conflicts\"] > max_conflicts_rel: \n",
    "    #     drop_index.append(i)\n",
    "    \n",
    "    max_precursor = 0.9\n",
    "    if M.match_stats[\"precursor_prob\"] > max_precursor: # Filter if fragment coverage is too low (intensity wise)\n",
    "       drop_index.append(i)\n",
    "    \n",
    "    # if d[\"lib\"] == \"MSDIAL\":\n",
    "    #     if d[\"INSTRUMENTTYPE\"] == \"Orbitrap\": # and M.match_stats[\"precursor_prob\"] > 0.95:\n",
    "    #         drop_index.append(i)\n",
    "    \n",
    "    \n",
    "# filter low res instruments TODO update to low quality spectra\n",
    "low_quality_tags = [\"IT/ion trap\", \"QqQ\", \"LC-ESI-QQ\", \"Flow-injection QqQ/MS\", \"LC-APPI-QQ\", \"LC-ESI-IT\", \"LC-ESI-QIT\", \"QIT\"] #What about ESI-ITTOF? GC-APCI-QTOF?\n",
    "low_res_machines = df[\"Metabolite\"].apply(lambda x: x.metadata[\"instrument\"] in low_quality_tags)\n",
    "drop_index += list(df[low_res_machines].index)\n",
    "\n",
    "fig, axs = plt.subplots(1, 3, figsize=(12.8, 4.2), sharey=True)\n",
    "\n",
    "plt.ylim([-.02,1.02])\n",
    "sns.boxplot(ax=axs[0], data=coverage_tracker, y=\"fragment_only_coverage\", color=magma_palette[1])\n",
    "sns.boxplot(ax=axs[1], data=coverage_tracker, y=\"coverage\", color=magma_palette[2])\n",
    "sns.violinplot(ax=axs[2], data=coverage_tracker, y=\"coverage\", color=magma_palette[2])\n",
    "axs[0].set_title(\"Coverage of peak intensity (fragments only)\")\n",
    "axs[1].set_title(\"Coverage of peak intensity\")\n",
    "axs[2].set_title(\"Coverage of peak intensity\")\n",
    "axs[2].axhline(y=min_coverage, color='black', linestyle='--', label='Horizontal Line')\n",
    "plt.show()\n",
    "\n",
    "print(f\"Filtering out {len(drop_index)} that have only precursor matches || or || too little (intensity) coverage to make edge prediction possible\")\n",
    "df.drop(drop_index, inplace=True)"
   ]
  },
  {
   "cell_type": "code",
   "execution_count": 22,
   "metadata": {
    "scrolled": true
   },
   "outputs": [
    {
     "name": "stdout",
     "output_type": "stream",
     "text": [
      "Train and validate on 3031 unique structures\n"
     ]
    },
    {
     "data": {
      "image/png": "[encoded data removed]",
      "text/plain": [
       "<Figure size 1200x600 with 1 Axes>"
      ]
     },
     "metadata": {},
     "output_type": "display_data"
    },
    {
     "data": {
      "image/png": "[encoded data removed]",
      "text/plain": [
       "<Figure size 1200x600 with 1 Axes>"
      ]
     },
     "metadata": {},
     "output_type": "display_data"
    }
   ],
   "source": [
    "def custom_sample(group):\n",
    "    sample_size = 20\n",
    "    x_origin = group[group['lib'] == 'NIST']\n",
    "    y_origin = group[group['lib'] == 'MSDIAL']\n",
    "    \n",
    "    if len(x_origin) >= sample_size:\n",
    "        return x_origin.sample(n=sample_size, replace=False)\n",
    "    elif len(y_origin) > 0:\n",
    "        y_sample_size = min(len(y_origin), sample_size - len(x_origin))\n",
    "        return pd.concat([x_origin, y_origin.sample(n=y_sample_size, replace=False)])\n",
    "    else:\n",
    "        return(x_origin)\n",
    "\n",
    "#TURNED OFF\n",
    "#df = df.groupby('group_id', group_keys=False).apply(custom_sample)\n",
    "## df = df.groupby('group_id').apply(lambda group: group.sample(n=10, replace=True) if len(group) >= 10 else group)\n",
    "\n",
    "#df = df.reset_index(drop=True)\n",
    "\n",
    "num_structures = len(df[\"group_id\"].unique())\n",
    "print(f\"Train and validate on {num_structures} unique structures\")\n",
    "sns.histplot(df[\"group_id\"].value_counts(), stat=\"probability\", binwidth=1)\n",
    "plt.xlim([0, 25])\n",
    "plt.show()\n",
    "\n",
    "sns.histplot(df, x=\"origin\", stat=\"count\")\n",
    "plt.xticks(rotation=90)\n",
    "plt.show()"
   ]
  },
  {
   "cell_type": "code",
   "execution_count": 17,
   "metadata": {},
   "outputs": [
    {
     "data": {
      "text/plain": [
       "lib\n",
       "MoNA    3031\n",
       "Name: group_id, dtype: int64"
      ]
     },
     "execution_count": 17,
     "metadata": {},
     "output_type": "execute_result"
    }
   ],
   "source": [
    "df.groupby(\"lib\").group_id.unique().apply(len)"
   ]
  },
  {
   "attachments": {},
   "cell_type": "markdown",
   "metadata": {},
   "source": [
    "## Model Training and Testing"
   ]
  },
  {
   "cell_type": "code",
   "execution_count": 18,
   "metadata": {},
   "outputs": [
    {
     "name": "stdout",
     "output_type": "stream",
     "text": [
      "Running on device: cuda:0\n"
     ]
    }
   ],
   "source": [
    "import torch\n",
    "from fiora.GNN.Trainer import Trainer\n",
    "import torch_geometric as geom\n",
    "\n",
    "if torch.cuda.is_available(): \n",
    " dev = \"cuda:0\"\n",
    "else: \n",
    " dev = \"cpu\" \n",
    " \n",
    "print(f\"Running on device: {dev}\")"
   ]
  },
  {
   "attachments": {},
   "cell_type": "markdown",
   "metadata": {},
   "source": [
    "##### Load Data"
   ]
  },
  {
   "cell_type": "code",
   "execution_count": 19,
   "metadata": {},
   "outputs": [],
   "source": [
    "#df.shape\n",
    "DF_BACKUP = df.copy(deep=True)\n",
    "\n"
   ]
  },
  {
   "cell_type": "code",
   "execution_count": 24,
   "metadata": {},
   "outputs": [],
   "source": [
    "# df = DF_BACKUP.copy(deep=True)\n",
    "# print(df.shape)"
   ]
  },
  {
   "cell_type": "code",
   "execution_count": 20,
   "metadata": {},
   "outputs": [
    {
     "data": {
      "image/png": "[encoded data removed]",
      "text/plain": [
       "<Figure size 800x400 with 1 Axes>"
      ]
     },
     "metadata": {},
     "output_type": "display_data"
    }
   ],
   "source": [
    "df[\"pp\"] = df[\"Metabolite\"].apply(lambda x: x.match_stats[\"precursor_prob\"])\n",
    "top_instrumenttypes = df['Instrument_type'].value_counts().head(3).index\n",
    "f,a = plt.subplots(1,1, figsize=(8, 4))\n",
    "sns.histplot(data=df[df['Instrument_type'].isin(top_instrumenttypes)], x=\"pp\", hue=\"Instrument_type\", multiple=\"dodge\")\n",
    "plt.show()"
   ]
  },
  {
   "cell_type": "code",
   "execution_count": 21,
   "metadata": {},
   "outputs": [
    {
     "name": "stdout",
     "output_type": "stream",
     "text": [
      "Prepared training/validation with 11406 data points\n"
     ]
    }
   ],
   "source": [
    "geo_data = df[\"Metabolite\"].apply(lambda x: x.as_geometric_data().to(dev)).values\n",
    "print(f\"Prepared training/validation with {len(geo_data)} data points\")"
   ]
  },
  {
   "cell_type": "code",
   "execution_count": 24,
   "metadata": {},
   "outputs": [],
   "source": [
    "# for i, batch in enumerate(geo_data):\n",
    "#     print(batch)\n",
    "#     break\n",
    "\n"
   ]
  },
  {
   "attachments": {},
   "cell_type": "markdown",
   "metadata": {},
   "source": [
    "##### Prepare Model"
   ]
  },
  {
   "cell_type": "code",
   "execution_count": 25,
   "metadata": {},
   "outputs": [],
   "source": [
    "model_params = {\n",
    "    'gnn_type': 'RGCNConv',\n",
    "    'depth': 6,\n",
    "    'hidden_dimension': 300,\n",
    "    'dense_layers': 2,\n",
    "    'embedding_aggregation': 'concat',\n",
    "    'embedding_dimension': 300,\n",
    "    'input_dropout': 0.2,\n",
    "    'latent_dropout': 0.1,\n",
    "    'node_feature_layout': node_encoder.feature_numbers,\n",
    "    'edge_feature_layout': bond_encoder.feature_numbers,    \n",
    "    'static_feature_dimension': geo_data[0][\"static_edge_features\"].shape[1],\n",
    "    'static_rt_feature_dimension': geo_data[0][\"static_rt_features\"].shape[1],\n",
    "    'output_dimension': len(DEFAULT_MODES) * 2, # per edge \n",
    "}\n",
    "training_params = {\n",
    "    'epochs': 200 if not test_run else 20, #180,\n",
    "    'batch_size': 256, #128,\n",
    "    'train_val_split': 0.90,\n",
    "    'learning_rate': 0.0004,#0.001,\n",
    "    'with_RT': True, # TODO CHANGED\n",
    "    'with_CCS': True\n",
    "}"
   ]
  },
  {
   "cell_type": "code",
   "execution_count": 26,
   "metadata": {},
   "outputs": [],
   "source": [
    "from fiora.GNN.GNNModules import GNNCompiler\n",
    "from fiora.GNN.Losses import WeightedMSELoss, WeightedMSEMetric\n",
    "model = GNNCompiler(model_params).to(dev)\n"
   ]
  },
  {
   "attachments": {},
   "cell_type": "markdown",
   "metadata": {},
   "source": [
    "##### Begin Training\n",
    "\n",
    "* Sample compound (group) IDs for Training/Validaion/Test splits from a fixed seed and save them in the DataFrame\n",
    "* Instatiate Trainer and Optimizer classes\n",
    "* Cal training function"
   ]
  },
  {
   "cell_type": "code",
   "execution_count": 27,
   "metadata": {},
   "outputs": [
    {
     "name": "stdout",
     "output_type": "stream",
     "text": [
      "Seed 49 used to sample slits, such that the example Metabolite is in the test set.\n"
     ]
    }
   ],
   "source": [
    "from sklearn.model_selection import train_test_split\n",
    "\n",
    "def train_val_test_split(keys, test_size=0.1, val_size=0.1, rseed=seed):\n",
    "    temp_keys, test_keys = train_test_split(keys, test_size=test_size, random_state=rseed)\n",
    "    adjusted_val_size = val_size / (1 - test_size)\n",
    "    train_keys, val_keys = train_test_split(temp_keys, test_size=adjusted_val_size, random_state=rseed)\n",
    "    \n",
    "    return train_keys, val_keys, test_keys\n",
    "\n",
    "# Make sure that the example is in the test split\n",
    "if not test_run:\n",
    "    ex_smiles = \"CC(NC(=O)CC1=CNC2=C1C=CC=C2)C(O)=O\"\n",
    "    ex_metabolite = Metabolite(ex_smiles)\n",
    "    ex_compound_id = df[df[\"Metabolite\"] == ex_metabolite][\"group_id\"].iloc[0]\n",
    "\n",
    "group_ids = df[\"group_id\"].astype(int)\n",
    "keys = np.unique(group_ids)\n",
    "example_not_in_test_split = True\n",
    "\n",
    "for i in range(100):\n",
    "    train, val, test = train_val_test_split(keys, rseed=seed + i)\n",
    "    if test_run or (ex_compound_id in test):\n",
    "        print(f\"Seed {seed + i} used to sample slits, such that the example Metabolite is in the test set.\")\n",
    "        break\n",
    "df[\"dataset\"] = df[\"group_id\"].apply(lambda x: 'train' if x in train else 'validation' if x in val else 'test' if x in test else 'VALUE ERROR')\n"
   ]
  },
  {
   "cell_type": "code",
   "execution_count": 31,
   "metadata": {},
   "outputs": [
    {
     "data": {
      "text/plain": [
       "dataset\n",
       "training      8932\n",
       "test          1361\n",
       "validation    1113\n",
       "Name: count, dtype: int64"
      ]
     },
     "execution_count": 31,
     "metadata": {},
     "output_type": "execute_result"
    }
   ],
   "source": [
    "df.dataset.value_counts()"
   ]
  },
  {
   "cell_type": "code",
   "execution_count": 32,
   "metadata": {},
   "outputs": [
    {
     "name": "stdout",
     "output_type": "stream",
     "text": [
      "Using pre-arranged train/validation set\n"
     ]
    },
    {
     "name": "stderr",
     "output_type": "stream",
     "text": [
      "/home/michaelah/miniconda3/envs/fiora/lib/python3.10/site-packages/torchmetrics/utilities/prints.py:43: FutureWarning: The default value for `maximize` will be changed from `True` to `None` in v1.7.0 of TorchMetrics,will automatically infer the value based on the `higher_is_better` attribute of the metric (if such attribute exists) or raise an error if it does not. If you are explicitly setting the `maximize` argument to either `True` or `False` already, you can ignore this warning.\n",
      "  warnings.warn(*args, **kwargs)  # noqa: B028\n",
      "/home/michaelah/miniconda3/envs/fiora/lib/python3.10/site-packages/torch/optim/lr_scheduler.py:62: UserWarning: The verbose parameter is deprecated. Please use get_last_lr() to access the learning rate.\n",
      "  warnings.warn(\n"
     ]
    }
   ],
   "source": [
    "y_label = 'compiled_probsALL'\n",
    "train_keys, val_keys = df[df[\"dataset\"] == \"train\"][\"group_id\"].unique(), df[df[\"dataset\"] == \"validation\"][\"group_id\"].unique()\n",
    "\n",
    "trainer = Trainer(geo_data, y_tag=y_label, problem_type=\"regression\", metric_dict={\"mse\": WeightedMSEMetric}, train_keys=train_keys, val_keys=val_keys, split_by_group=True, seed=seed, device=dev)\n",
    "optimizer = torch.optim.Adam(model.parameters(), lr=training_params[\"learning_rate\"])\n",
    "#scheduler = torch.optim.lr_scheduler.ExponentialLR(optimizer, gamma=0.98)    \n",
    "scheduler = torch.optim.lr_scheduler.ReduceLROnPlateau(optimizer, patience = 8, factor=0.5, mode = 'min', verbose  = True)\n",
    "\n",
    "loss_fn = WeightedMSELoss()\n",
    "#loss_fn = torch.nn.MSELoss()"
   ]
  },
  {
   "cell_type": "code",
   "execution_count": 33,
   "metadata": {
    "scrolled": true
   },
   "outputs": [
    {
     "ename": "ValueError",
     "evalue": "num_samples should be a positive integer value, but got num_samples=0",
     "output_type": "error",
     "traceback": [
      "\u001b[0;31m---------------------------------------------------------------------------\u001b[0m",
      "\u001b[0;31mValueError\u001b[0m                                Traceback (most recent call last)",
      "Cell \u001b[0;32mIn[33], line 2\u001b[0m\n\u001b[1;32m      1\u001b[0m tag \u001b[38;5;241m=\u001b[39m \u001b[38;5;124m\"\u001b[39m\u001b[38;5;124mb1\u001b[39m\u001b[38;5;124m\"\u001b[39m\n\u001b[0;32m----> 2\u001b[0m checkpoints \u001b[38;5;241m=\u001b[39m \u001b[43mtrainer\u001b[49m\u001b[38;5;241;43m.\u001b[39;49m\u001b[43mtrain\u001b[49m\u001b[43m(\u001b[49m\u001b[43mmodel\u001b[49m\u001b[43m,\u001b[49m\u001b[43m \u001b[49m\u001b[43moptimizer\u001b[49m\u001b[43m,\u001b[49m\u001b[43m \u001b[49m\u001b[43mloss_fn\u001b[49m\u001b[43m,\u001b[49m\u001b[43m \u001b[49m\u001b[43mscheduler\u001b[49m\u001b[38;5;241;43m=\u001b[39;49m\u001b[43mscheduler\u001b[49m\u001b[43m,\u001b[49m\u001b[43m \u001b[49m\u001b[43mbatch_size\u001b[49m\u001b[38;5;241;43m=\u001b[39;49m\u001b[43mtraining_params\u001b[49m\u001b[43m[\u001b[49m\u001b[38;5;124;43m'\u001b[39;49m\u001b[38;5;124;43mbatch_size\u001b[39;49m\u001b[38;5;124;43m'\u001b[39;49m\u001b[43m]\u001b[49m\u001b[43m,\u001b[49m\u001b[43m \u001b[49m\u001b[43mepochs\u001b[49m\u001b[38;5;241;43m=\u001b[39;49m\u001b[43mtraining_params\u001b[49m\u001b[43m[\u001b[49m\u001b[38;5;124;43m\"\u001b[39;49m\u001b[38;5;124;43mepochs\u001b[39;49m\u001b[38;5;124;43m\"\u001b[39;49m\u001b[43m]\u001b[49m\u001b[43m,\u001b[49m\u001b[43m \u001b[49m\u001b[43mval_every_n_epochs\u001b[49m\u001b[38;5;241;43m=\u001b[39;49m\u001b[38;5;241;43m1\u001b[39;49m\u001b[43m,\u001b[49m\u001b[43m \u001b[49m\u001b[43mwith_CCS\u001b[49m\u001b[38;5;241;43m=\u001b[39;49m\u001b[43mtraining_params\u001b[49m\u001b[43m[\u001b[49m\u001b[38;5;124;43m\"\u001b[39;49m\u001b[38;5;124;43mwith_CCS\u001b[39;49m\u001b[38;5;124;43m\"\u001b[39;49m\u001b[43m]\u001b[49m\u001b[43m,\u001b[49m\u001b[43m \u001b[49m\u001b[43mwith_RT\u001b[49m\u001b[38;5;241;43m=\u001b[39;49m\u001b[43mtraining_params\u001b[49m\u001b[43m[\u001b[49m\u001b[38;5;124;43m\"\u001b[39;49m\u001b[38;5;124;43mwith_RT\u001b[39;49m\u001b[38;5;124;43m\"\u001b[39;49m\u001b[43m]\u001b[49m\u001b[43m,\u001b[49m\u001b[43m \u001b[49m\u001b[43mmasked_validation\u001b[49m\u001b[38;5;241;43m=\u001b[39;49m\u001b[38;5;28;43;01mFalse\u001b[39;49;00m\u001b[43m,\u001b[49m\u001b[43m \u001b[49m\u001b[43mtag\u001b[49m\u001b[38;5;241;43m=\u001b[39;49m\u001b[43mtag\u001b[49m\u001b[43m)\u001b[49m \u001b[38;5;66;03m#, mask_name=\"compiled_validation_maskALL\")\u001b[39;00m\n",
      "File \u001b[0;32m~/miniconda3/envs/fiora/lib/python3.10/site-packages/fiora/GNN/Trainer.py:176\u001b[0m, in \u001b[0;36mTrainer.train\u001b[0;34m(self, model, optimizer, loss_fn, scheduler, batch_size, epochs, val_every_n_epochs, masked_validation, with_RT, with_CCS, rt_metric, mask_name, tag)\u001b[0m\n\u001b[1;32m    174\u001b[0m checkpoint_stats \u001b[38;5;241m=\u001b[39m {\u001b[38;5;124m\"\u001b[39m\u001b[38;5;124mepoch\u001b[39m\u001b[38;5;124m\"\u001b[39m: \u001b[38;5;241m-\u001b[39m\u001b[38;5;241m1\u001b[39m, \u001b[38;5;124m\"\u001b[39m\u001b[38;5;124mval_loss\u001b[39m\u001b[38;5;124m\"\u001b[39m: \u001b[38;5;241m100000.0\u001b[39m, \u001b[38;5;124m\"\u001b[39m\u001b[38;5;124mfile\u001b[39m\u001b[38;5;124m\"\u001b[39m: \u001b[38;5;124mf\u001b[39m\u001b[38;5;124m\"\u001b[39m\u001b[38;5;124m../../checkpoint_\u001b[39m\u001b[38;5;132;01m{\u001b[39;00mtag\u001b[38;5;132;01m}\u001b[39;00m\u001b[38;5;124m.best.pt\u001b[39m\u001b[38;5;124m\"\u001b[39m}\n\u001b[1;32m    175\u001b[0m model\u001b[38;5;241m.\u001b[39mmodel_params[\u001b[38;5;124m\"\u001b[39m\u001b[38;5;124mtraining_label\u001b[39m\u001b[38;5;124m\"\u001b[39m] \u001b[38;5;241m=\u001b[39m \u001b[38;5;28mself\u001b[39m\u001b[38;5;241m.\u001b[39my_tag\n\u001b[0;32m--> 176\u001b[0m training_loader \u001b[38;5;241m=\u001b[39m \u001b[38;5;28;43mself\u001b[39;49m\u001b[38;5;241;43m.\u001b[39;49m\u001b[43mloader_base\u001b[49m\u001b[43m(\u001b[49m\u001b[38;5;28;43mself\u001b[39;49m\u001b[38;5;241;43m.\u001b[39;49m\u001b[43mtraining_data\u001b[49m\u001b[43m,\u001b[49m\u001b[43m \u001b[49m\u001b[43mbatch_size\u001b[49m\u001b[38;5;241;43m=\u001b[39;49m\u001b[43mbatch_size\u001b[49m\u001b[43m,\u001b[49m\u001b[43m \u001b[49m\u001b[43mnum_workers\u001b[49m\u001b[38;5;241;43m=\u001b[39;49m\u001b[38;5;28;43mself\u001b[39;49m\u001b[38;5;241;43m.\u001b[39;49m\u001b[43mnum_workers\u001b[49m\u001b[43m,\u001b[49m\u001b[43m \u001b[49m\u001b[43mshuffle\u001b[49m\u001b[38;5;241;43m=\u001b[39;49m\u001b[38;5;28;43;01mTrue\u001b[39;49;00m\u001b[43m)\u001b[49m\n\u001b[1;32m    177\u001b[0m \u001b[38;5;28;01mif\u001b[39;00m \u001b[38;5;129;01mnot\u001b[39;00m \u001b[38;5;28mself\u001b[39m\u001b[38;5;241m.\u001b[39monly_training:\n\u001b[1;32m    178\u001b[0m     validation_loader \u001b[38;5;241m=\u001b[39m \u001b[38;5;28mself\u001b[39m\u001b[38;5;241m.\u001b[39mloader_base(\u001b[38;5;28mself\u001b[39m\u001b[38;5;241m.\u001b[39mvalidation_data, batch_size\u001b[38;5;241m=\u001b[39mbatch_size, num_workers\u001b[38;5;241m=\u001b[39m\u001b[38;5;28mself\u001b[39m\u001b[38;5;241m.\u001b[39mnum_workers, shuffle\u001b[38;5;241m=\u001b[39m\u001b[38;5;28;01mTrue\u001b[39;00m)\n",
      "File \u001b[0;32m~/miniconda3/envs/fiora/lib/python3.10/site-packages/torch_geometric/loader/dataloader.py:87\u001b[0m, in \u001b[0;36mDataLoader.__init__\u001b[0;34m(self, dataset, batch_size, shuffle, follow_batch, exclude_keys, **kwargs)\u001b[0m\n\u001b[1;32m     84\u001b[0m \u001b[38;5;28mself\u001b[39m\u001b[38;5;241m.\u001b[39mfollow_batch \u001b[38;5;241m=\u001b[39m follow_batch\n\u001b[1;32m     85\u001b[0m \u001b[38;5;28mself\u001b[39m\u001b[38;5;241m.\u001b[39mexclude_keys \u001b[38;5;241m=\u001b[39m exclude_keys\n\u001b[0;32m---> 87\u001b[0m \u001b[38;5;28;43msuper\u001b[39;49m\u001b[43m(\u001b[49m\u001b[43m)\u001b[49m\u001b[38;5;241;43m.\u001b[39;49m\u001b[38;5;21;43m__init__\u001b[39;49m\u001b[43m(\u001b[49m\n\u001b[1;32m     88\u001b[0m \u001b[43m    \u001b[49m\u001b[43mdataset\u001b[49m\u001b[43m,\u001b[49m\n\u001b[1;32m     89\u001b[0m \u001b[43m    \u001b[49m\u001b[43mbatch_size\u001b[49m\u001b[43m,\u001b[49m\n\u001b[1;32m     90\u001b[0m \u001b[43m    \u001b[49m\u001b[43mshuffle\u001b[49m\u001b[43m,\u001b[49m\n\u001b[1;32m     91\u001b[0m \u001b[43m    \u001b[49m\u001b[43mcollate_fn\u001b[49m\u001b[38;5;241;43m=\u001b[39;49m\u001b[43mCollater\u001b[49m\u001b[43m(\u001b[49m\u001b[43mdataset\u001b[49m\u001b[43m,\u001b[49m\u001b[43m \u001b[49m\u001b[43mfollow_batch\u001b[49m\u001b[43m,\u001b[49m\u001b[43m \u001b[49m\u001b[43mexclude_keys\u001b[49m\u001b[43m)\u001b[49m\u001b[43m,\u001b[49m\n\u001b[1;32m     92\u001b[0m \u001b[43m    \u001b[49m\u001b[38;5;241;43m*\u001b[39;49m\u001b[38;5;241;43m*\u001b[39;49m\u001b[43mkwargs\u001b[49m\u001b[43m,\u001b[49m\n\u001b[1;32m     93\u001b[0m \u001b[43m\u001b[49m\u001b[43m)\u001b[49m\n",
      "File \u001b[0;32m~/miniconda3/envs/fiora/lib/python3.10/site-packages/torch/utils/data/dataloader.py:376\u001b[0m, in \u001b[0;36mDataLoader.__init__\u001b[0;34m(self, dataset, batch_size, shuffle, sampler, batch_sampler, num_workers, collate_fn, pin_memory, drop_last, timeout, worker_init_fn, multiprocessing_context, generator, prefetch_factor, persistent_workers, pin_memory_device)\u001b[0m\n\u001b[1;32m    374\u001b[0m \u001b[38;5;28;01melse\u001b[39;00m:  \u001b[38;5;66;03m# map-style\u001b[39;00m\n\u001b[1;32m    375\u001b[0m     \u001b[38;5;28;01mif\u001b[39;00m shuffle:\n\u001b[0;32m--> 376\u001b[0m         sampler \u001b[38;5;241m=\u001b[39m \u001b[43mRandomSampler\u001b[49m\u001b[43m(\u001b[49m\u001b[43mdataset\u001b[49m\u001b[43m,\u001b[49m\u001b[43m \u001b[49m\u001b[43mgenerator\u001b[49m\u001b[38;5;241;43m=\u001b[39;49m\u001b[43mgenerator\u001b[49m\u001b[43m)\u001b[49m  \u001b[38;5;66;03m# type: ignore[arg-type]\u001b[39;00m\n\u001b[1;32m    377\u001b[0m     \u001b[38;5;28;01melse\u001b[39;00m:\n\u001b[1;32m    378\u001b[0m         sampler \u001b[38;5;241m=\u001b[39m SequentialSampler(dataset)  \u001b[38;5;66;03m# type: ignore[arg-type]\u001b[39;00m\n",
      "File \u001b[0;32m~/miniconda3/envs/fiora/lib/python3.10/site-packages/torch/utils/data/sampler.py:164\u001b[0m, in \u001b[0;36mRandomSampler.__init__\u001b[0;34m(self, data_source, replacement, num_samples, generator)\u001b[0m\n\u001b[1;32m    159\u001b[0m     \u001b[38;5;28;01mraise\u001b[39;00m \u001b[38;5;167;01mTypeError\u001b[39;00m(\n\u001b[1;32m    160\u001b[0m         \u001b[38;5;124mf\u001b[39m\u001b[38;5;124m\"\u001b[39m\u001b[38;5;124mreplacement should be a boolean value, but got replacement=\u001b[39m\u001b[38;5;132;01m{\u001b[39;00m\u001b[38;5;28mself\u001b[39m\u001b[38;5;241m.\u001b[39mreplacement\u001b[38;5;132;01m}\u001b[39;00m\u001b[38;5;124m\"\u001b[39m\n\u001b[1;32m    161\u001b[0m     )\n\u001b[1;32m    163\u001b[0m \u001b[38;5;28;01mif\u001b[39;00m \u001b[38;5;129;01mnot\u001b[39;00m \u001b[38;5;28misinstance\u001b[39m(\u001b[38;5;28mself\u001b[39m\u001b[38;5;241m.\u001b[39mnum_samples, \u001b[38;5;28mint\u001b[39m) \u001b[38;5;129;01mor\u001b[39;00m \u001b[38;5;28mself\u001b[39m\u001b[38;5;241m.\u001b[39mnum_samples \u001b[38;5;241m<\u001b[39m\u001b[38;5;241m=\u001b[39m \u001b[38;5;241m0\u001b[39m:\n\u001b[0;32m--> 164\u001b[0m     \u001b[38;5;28;01mraise\u001b[39;00m \u001b[38;5;167;01mValueError\u001b[39;00m(\n\u001b[1;32m    165\u001b[0m         \u001b[38;5;124mf\u001b[39m\u001b[38;5;124m\"\u001b[39m\u001b[38;5;124mnum_samples should be a positive integer value, but got num_samples=\u001b[39m\u001b[38;5;132;01m{\u001b[39;00m\u001b[38;5;28mself\u001b[39m\u001b[38;5;241m.\u001b[39mnum_samples\u001b[38;5;132;01m}\u001b[39;00m\u001b[38;5;124m\"\u001b[39m\n\u001b[1;32m    166\u001b[0m     )\n",
      "\u001b[0;31mValueError\u001b[0m: num_samples should be a positive integer value, but got num_samples=0"
     ]
    }
   ],
   "source": [
    "tag = \"b1\"\n",
    "checkpoints = trainer.train(model, optimizer, loss_fn, scheduler=scheduler, batch_size=training_params['batch_size'], epochs=training_params[\"epochs\"], val_every_n_epochs=1, with_CCS=training_params[\"with_CCS\"], with_RT=training_params[\"with_RT\"], masked_validation=False, tag=tag) #, mask_name=\"compiled_validation_maskALL\")"
   ]
  },
  {
   "attachments": {},
   "cell_type": "markdown",
   "metadata": {},
   "source": [
    "##### Evaluation"
   ]
  },
  {
   "cell_type": "code",
   "execution_count": 140,
   "metadata": {},
   "outputs": [
    {
     "name": "stdout",
     "output_type": "stream",
     "text": [
      "Loading model from checkpoint {'epoch': 69, 'val_loss': 0.00022627455473411828, 'file': '../../checkpoint_b1.best.pt'}.\n"
     ]
    }
   ],
   "source": [
    "from_checkpoint = True\n",
    "\n",
    "if from_checkpoint:\n",
    "    print(f\"Loading model from checkpoint {checkpoints}.\")\n",
    "    end_model = GNNCompiler(model_params).to(dev)\n",
    "    end_model = end_model.load_state_dict(model.state_dict())\n",
    "    model = model.load(checkpoints[\"file\"]).to(dev)\n",
    "    "
   ]
  },
  {
   "cell_type": "code",
   "execution_count": 30,
   "metadata": {},
   "outputs": [
    {
     "data": {
      "text/plain": [
       "dataset\n",
       "training      8932\n",
       "test          1361\n",
       "validation    1113\n",
       "Name: count, dtype: int64"
      ]
     },
     "execution_count": 30,
     "metadata": {},
     "output_type": "execute_result"
    }
   ],
   "source": [
    "df[\"dataset\"] = df[\"group_id\"].apply(lambda x: \"training\" if trainer.is_group_in_training_set(x) else \"validation\" if trainer.is_group_in_validation_set(x) else \"test\") \n",
    "df.dataset.value_counts()"
   ]
  },
  {
   "cell_type": "code",
   "execution_count": 141,
   "metadata": {},
   "outputs": [
    {
     "name": "stderr",
     "output_type": "stream",
     "text": [
      "/home/michaelah/miniconda3/envs/fiora/lib/python3.10/site-packages/fiora/MS/spectral_scores.py:8: RuntimeWarning: invalid value encountered in scalar divide\n",
      "  return np.dot(vec, vec_other) / (np.linalg.norm(vec) * np.linalg.norm(vec_other))\n",
      "/home/michaelah/miniconda3/envs/fiora/lib/python3.10/site-packages/fiora/MS/spectral_scores.py:26: RuntimeWarning: invalid value encountered in divide\n",
      "  vec = vec / np.linalg.norm(vec)\n"
     ]
    }
   ],
   "source": [
    "from fiora.MS.SimulationFramework import SimulationFramework\n",
    "\n",
    "df[\"dataset\"] = df[\"group_id\"].apply(lambda x: \"training\" if trainer.is_group_in_training_set(x) else \"validation\" if trainer.is_group_in_validation_set(x) else \"test\") \n",
    "\n",
    "fiora = SimulationFramework(model, dev=dev, with_RT=training_params[\"with_RT\"], with_CCS=training_params[\"with_CCS\"])\n",
    "df = fiora.simulate_all(df, model)\n"
   ]
  },
  {
   "cell_type": "code",
   "execution_count": 142,
   "metadata": {
    "jupyter": {
     "source_hidden": true
    },
    "scrolled": true
   },
   "outputs": [
    {
     "name": "stdout",
     "output_type": "stream",
     "text": [
      "Indole-3-acetyl-L-alanine (112881): cosine 0.95\n"
     ]
    },
    {
     "data": {
      "image/png": "[encoded data removed]",
      "text/plain": [
       "<Figure size 1280x420 with 2 Axes>"
      ]
     },
     "metadata": {},
     "output_type": "display_data"
    }
   ],
   "source": [
    "reset_matplotlib()\n",
    "for i, data in df[df[\"Metabolite\"] == ex_metabolite].iterrows():\n",
    "    cosine = data[\"spectral_sqrt_cosine\"]\n",
    "    name = data[\"Name\"]\n",
    "    print(f\"{name} ({i}): cosine {cosine:0.2}\")\n",
    "    fig, axs = plt.subplots(1, 2, figsize=(12.8, 4.2), gridspec_kw={'width_ratios': [1, 3]}, sharey=False)\n",
    "    img = data[\"Metabolite\"].draw(ax= axs[0])\n",
    "\n",
    "    #axs[0].grid(False)\n",
    "    axs[0].tick_params(axis='both', bottom=False, labelbottom=False, left=False, labelleft=False) \n",
    "    axs[0].set_title(data[\"Name\"])\n",
    "    #axs[0].imshow(img)\n",
    "    #axs[0].axis(\"off\")\n",
    "    #sv.plot_spectrum(example, ax=axs[1])\n",
    "    ax = sv.plot_spectrum(data, {\"peaks\": data[\"sim_peaks\"]}, ax=axs[1], highlight_matches=False)\n",
    "    plt.show()\n"
   ]
  },
  {
   "cell_type": "code",
   "execution_count": 143,
   "metadata": {},
   "outputs": [
    {
     "name": "stderr",
     "output_type": "stream",
     "text": [
      "/tmp/ipykernel_9026/2059735888.py:6: SettingWithCopyWarning: \n",
      "A value is trying to be set on a copy of a slice from a DataFrame.\n",
      "Try using .loc[row_indexer,col_indexer] = value instead\n",
      "\n",
      "See the caveats in the documentation: https://pandas.pydata.org/pandas-docs/stable/user_guide/indexing.html#returning-a-view-versus-a-copy\n",
      "  df_val[\"library\"] = \"Validation\"\n",
      "/tmp/ipykernel_9026/2059735888.py:9: SettingWithCopyWarning: \n",
      "A value is trying to be set on a copy of a slice from a DataFrame.\n",
      "Try using .loc[row_indexer,col_indexer] = value instead\n",
      "\n",
      "See the caveats in the documentation: https://pandas.pydata.org/pandas-docs/stable/user_guide/indexing.html#returning-a-view-versus-a-copy\n",
      "  df_val[key] = df[\"Metabolite\"].apply(lambda x: x.match_stats[key])\n",
      "/tmp/ipykernel_9026/2059735888.py:9: SettingWithCopyWarning: \n",
      "A value is trying to be set on a copy of a slice from a DataFrame.\n",
      "Try using .loc[row_indexer,col_indexer] = value instead\n",
      "\n",
      "See the caveats in the documentation: https://pandas.pydata.org/pandas-docs/stable/user_guide/indexing.html#returning-a-view-versus-a-copy\n",
      "  df_val[key] = df[\"Metabolite\"].apply(lambda x: x.match_stats[key])\n",
      "/tmp/ipykernel_9026/2059735888.py:9: SettingWithCopyWarning: \n",
      "A value is trying to be set on a copy of a slice from a DataFrame.\n",
      "Try using .loc[row_indexer,col_indexer] = value instead\n",
      "\n",
      "See the caveats in the documentation: https://pandas.pydata.org/pandas-docs/stable/user_guide/indexing.html#returning-a-view-versus-a-copy\n",
      "  df_val[key] = df[\"Metabolite\"].apply(lambda x: x.match_stats[key])\n",
      "/tmp/ipykernel_9026/2059735888.py:9: SettingWithCopyWarning: \n",
      "A value is trying to be set on a copy of a slice from a DataFrame.\n",
      "Try using .loc[row_indexer,col_indexer] = value instead\n",
      "\n",
      "See the caveats in the documentation: https://pandas.pydata.org/pandas-docs/stable/user_guide/indexing.html#returning-a-view-versus-a-copy\n",
      "  df_val[key] = df[\"Metabolite\"].apply(lambda x: x.match_stats[key])\n",
      "/tmp/ipykernel_9026/2059735888.py:9: SettingWithCopyWarning: \n",
      "A value is trying to be set on a copy of a slice from a DataFrame.\n",
      "Try using .loc[row_indexer,col_indexer] = value instead\n",
      "\n",
      "See the caveats in the documentation: https://pandas.pydata.org/pandas-docs/stable/user_guide/indexing.html#returning-a-view-versus-a-copy\n",
      "  df_val[key] = df[\"Metabolite\"].apply(lambda x: x.match_stats[key])\n",
      "/tmp/ipykernel_9026/2059735888.py:9: SettingWithCopyWarning: \n",
      "A value is trying to be set on a copy of a slice from a DataFrame.\n",
      "Try using .loc[row_indexer,col_indexer] = value instead\n",
      "\n",
      "See the caveats in the documentation: https://pandas.pydata.org/pandas-docs/stable/user_guide/indexing.html#returning-a-view-versus-a-copy\n",
      "  df_val[key] = df[\"Metabolite\"].apply(lambda x: x.match_stats[key])\n",
      "/tmp/ipykernel_9026/2059735888.py:9: SettingWithCopyWarning: \n",
      "A value is trying to be set on a copy of a slice from a DataFrame.\n",
      "Try using .loc[row_indexer,col_indexer] = value instead\n",
      "\n",
      "See the caveats in the documentation: https://pandas.pydata.org/pandas-docs/stable/user_guide/indexing.html#returning-a-view-versus-a-copy\n",
      "  df_val[key] = df[\"Metabolite\"].apply(lambda x: x.match_stats[key])\n",
      "/tmp/ipykernel_9026/2059735888.py:9: SettingWithCopyWarning: \n",
      "A value is trying to be set on a copy of a slice from a DataFrame.\n",
      "Try using .loc[row_indexer,col_indexer] = value instead\n",
      "\n",
      "See the caveats in the documentation: https://pandas.pydata.org/pandas-docs/stable/user_guide/indexing.html#returning-a-view-versus-a-copy\n",
      "  df_val[key] = df[\"Metabolite\"].apply(lambda x: x.match_stats[key])\n",
      "/tmp/ipykernel_9026/2059735888.py:9: SettingWithCopyWarning: \n",
      "A value is trying to be set on a copy of a slice from a DataFrame.\n",
      "Try using .loc[row_indexer,col_indexer] = value instead\n",
      "\n",
      "See the caveats in the documentation: https://pandas.pydata.org/pandas-docs/stable/user_guide/indexing.html#returning-a-view-versus-a-copy\n",
      "  df_val[key] = df[\"Metabolite\"].apply(lambda x: x.match_stats[key])\n",
      "/tmp/ipykernel_9026/2059735888.py:9: SettingWithCopyWarning: \n",
      "A value is trying to be set on a copy of a slice from a DataFrame.\n",
      "Try using .loc[row_indexer,col_indexer] = value instead\n",
      "\n",
      "See the caveats in the documentation: https://pandas.pydata.org/pandas-docs/stable/user_guide/indexing.html#returning-a-view-versus-a-copy\n",
      "  df_val[key] = df[\"Metabolite\"].apply(lambda x: x.match_stats[key])\n",
      "/tmp/ipykernel_9026/2059735888.py:9: SettingWithCopyWarning: \n",
      "A value is trying to be set on a copy of a slice from a DataFrame.\n",
      "Try using .loc[row_indexer,col_indexer] = value instead\n",
      "\n",
      "See the caveats in the documentation: https://pandas.pydata.org/pandas-docs/stable/user_guide/indexing.html#returning-a-view-versus-a-copy\n",
      "  df_val[key] = df[\"Metabolite\"].apply(lambda x: x.match_stats[key])\n",
      "/tmp/ipykernel_9026/2059735888.py:9: SettingWithCopyWarning: \n",
      "A value is trying to be set on a copy of a slice from a DataFrame.\n",
      "Try using .loc[row_indexer,col_indexer] = value instead\n",
      "\n",
      "See the caveats in the documentation: https://pandas.pydata.org/pandas-docs/stable/user_guide/indexing.html#returning-a-view-versus-a-copy\n",
      "  df_val[key] = df[\"Metabolite\"].apply(lambda x: x.match_stats[key])\n",
      "/tmp/ipykernel_9026/2059735888.py:9: SettingWithCopyWarning: \n",
      "A value is trying to be set on a copy of a slice from a DataFrame.\n",
      "Try using .loc[row_indexer,col_indexer] = value instead\n",
      "\n",
      "See the caveats in the documentation: https://pandas.pydata.org/pandas-docs/stable/user_guide/indexing.html#returning-a-view-versus-a-copy\n",
      "  df_val[key] = df[\"Metabolite\"].apply(lambda x: x.match_stats[key])\n",
      "/tmp/ipykernel_9026/2059735888.py:9: SettingWithCopyWarning: \n",
      "A value is trying to be set on a copy of a slice from a DataFrame.\n",
      "Try using .loc[row_indexer,col_indexer] = value instead\n",
      "\n",
      "See the caveats in the documentation: https://pandas.pydata.org/pandas-docs/stable/user_guide/indexing.html#returning-a-view-versus-a-copy\n",
      "  df_val[key] = df[\"Metabolite\"].apply(lambda x: x.match_stats[key])\n",
      "/tmp/ipykernel_9026/2059735888.py:9: SettingWithCopyWarning: \n",
      "A value is trying to be set on a copy of a slice from a DataFrame.\n",
      "Try using .loc[row_indexer,col_indexer] = value instead\n",
      "\n",
      "See the caveats in the documentation: https://pandas.pydata.org/pandas-docs/stable/user_guide/indexing.html#returning-a-view-versus-a-copy\n",
      "  df_val[key] = df[\"Metabolite\"].apply(lambda x: x.match_stats[key])\n",
      "/tmp/ipykernel_9026/2059735888.py:9: SettingWithCopyWarning: \n",
      "A value is trying to be set on a copy of a slice from a DataFrame.\n",
      "Try using .loc[row_indexer,col_indexer] = value instead\n",
      "\n",
      "See the caveats in the documentation: https://pandas.pydata.org/pandas-docs/stable/user_guide/indexing.html#returning-a-view-versus-a-copy\n",
      "  df_val[key] = df[\"Metabolite\"].apply(lambda x: x.match_stats[key])\n",
      "/tmp/ipykernel_9026/2059735888.py:11: SettingWithCopyWarning: \n",
      "A value is trying to be set on a copy of a slice from a DataFrame.\n",
      "Try using .loc[row_indexer,col_indexer] = value instead\n",
      "\n",
      "See the caveats in the documentation: https://pandas.pydata.org/pandas-docs/stable/user_guide/indexing.html#returning-a-view-versus-a-copy\n",
      "  df_val[\"ring_proportion\"] = df[\"Metabolite\"].apply(lambda x: (getattr(x, \"is_edge_in_ring\").sum() / getattr(x, \"is_edge_in_ring\").shape[0]).tolist())\n"
     ]
    }
   ],
   "source": [
    "df[[\"cosine_similarity\", \"kl_div\", \"spectral_cosine\", \"spectral_sqrt_cosine\", \"spectral_refl_cosine\", \"spectral_bias\", \"spectral_sqrt_bias\", \"spectral_refl_bias\"]] = df[[\"cosine_similarity\", \"kl_div\", \"spectral_cosine\", \"spectral_sqrt_cosine\", \"spectral_refl_cosine\", \"spectral_bias\", \"spectral_sqrt_bias\", \"spectral_refl_bias\"]].astype(float)\n",
    "#df[\"is_peptide\"] = df[\"Notes\"].apply(lambda x: \"Peptide\" in x) if lib == \"NIST\" else False\n",
    "\n",
    "df_train = df[df[\"dataset\"] == \"training\"]\n",
    "df_val = df[df[\"dataset\"]==\"validation\"]\n",
    "df_val[\"library\"] = \"Validation\"\n",
    "\n",
    "for key in example[\"Metabolite\"].match_stats.keys():\n",
    "    df_val[key] = df[\"Metabolite\"].apply(lambda x: x.match_stats[key])\n",
    "\n",
    "df_val[\"ring_proportion\"] = df[\"Metabolite\"].apply(lambda x: (getattr(x, \"is_edge_in_ring\").sum() / getattr(x, \"is_edge_in_ring\").shape[0]).tolist())\n"
   ]
  },
  {
   "cell_type": "code",
   "execution_count": 144,
   "metadata": {},
   "outputs": [
    {
     "name": "stderr",
     "output_type": "stream",
     "text": [
      "/tmp/ipykernel_9026/2370285261.py:3: FutureWarning: \n",
      "\n",
      "Passing `palette` without assigning `hue` is deprecated and will be removed in v0.14.0. Assign the `x` variable to `hue` and set `legend=False` for the same effect.\n",
      "\n",
      "  sns.boxplot(ax=axs[0], data=df, y=\"spectral_cosine\", x=\"dataset\", palette=bluepink)\n",
      "/tmp/ipykernel_9026/2370285261.py:3: UserWarning: The palette list has more values (5) than needed (3), which may not be intended.\n",
      "  sns.boxplot(ax=axs[0], data=df, y=\"spectral_cosine\", x=\"dataset\", palette=bluepink)\n",
      "/tmp/ipykernel_9026/2370285261.py:4: FutureWarning: \n",
      "\n",
      "Passing `palette` without assigning `hue` is deprecated and will be removed in v0.14.0. Assign the `x` variable to `hue` and set `legend=False` for the same effect.\n",
      "\n",
      "  sns.boxplot(ax=axs[1], data=df, y=\"spectral_sqrt_cosine\", x=\"dataset\", palette=bluepink)\n",
      "/tmp/ipykernel_9026/2370285261.py:4: UserWarning: The palette list has more values (5) than needed (3), which may not be intended.\n",
      "  sns.boxplot(ax=axs[1], data=df, y=\"spectral_sqrt_cosine\", x=\"dataset\", palette=bluepink)\n",
      "/tmp/ipykernel_9026/2370285261.py:5: FutureWarning: \n",
      "\n",
      "Passing `palette` without assigning `hue` is deprecated and will be removed in v0.14.0. Assign the `x` variable to `hue` and set `legend=False` for the same effect.\n",
      "\n",
      "  sns.boxplot(ax=axs[2], data=df, y=\"spectral_refl_cosine\", x=\"dataset\", palette=bluepink)\n",
      "/tmp/ipykernel_9026/2370285261.py:5: UserWarning: The palette list has more values (5) than needed (3), which may not be intended.\n",
      "  sns.boxplot(ax=axs[2], data=df, y=\"spectral_refl_cosine\", x=\"dataset\", palette=bluepink)\n",
      "/tmp/ipykernel_9026/2370285261.py:6: FutureWarning: \n",
      "\n",
      "Passing `palette` without assigning `hue` is deprecated and will be removed in v0.14.0. Assign the `x` variable to `hue` and set `legend=False` for the same effect.\n",
      "\n",
      "  sns.boxplot(ax=axs[3], data=df, y=\"steins_cosine\", x=\"dataset\", palette=bluepink)\n",
      "/tmp/ipykernel_9026/2370285261.py:6: UserWarning: The palette list has more values (5) than needed (3), which may not be intended.\n",
      "  sns.boxplot(ax=axs[3], data=df, y=\"steins_cosine\", x=\"dataset\", palette=bluepink)\n"
     ]
    },
    {
     "data": {
      "image/png": "[encoded data removed]",
      "text/plain": [
       "<Figure size 1920x860 with 4 Axes>"
      ]
     },
     "metadata": {},
     "output_type": "display_data"
    }
   ],
   "source": [
    "fig, axs = plt.subplots(1, 4, figsize=(19.2, 8.6), sharey=False)\n",
    "\n",
    "sns.boxplot(ax=axs[0], data=df, y=\"spectral_cosine\", x=\"dataset\", palette=bluepink)\n",
    "sns.boxplot(ax=axs[1], data=df, y=\"spectral_sqrt_cosine\", x=\"dataset\", palette=bluepink)\n",
    "sns.boxplot(ax=axs[2], data=df, y=\"spectral_refl_cosine\", x=\"dataset\", palette=bluepink)\n",
    "sns.boxplot(ax=axs[3], data=df, y=\"steins_cosine\", x=\"dataset\", palette=bluepink)\n",
    "axs[0].set_title(\"Spectral cosine similarity\")\n",
    "axs[1].set_title(\"Spectral cosine similarity of sqrt intensities\")\n",
    "axs[2].set_title(\"Spectral cosine similarity of simulated peaks\")\n",
    "axs[3].set_title(\"Steins dot product (reweighted with mass)\")\n",
    "plt.show()"
   ]
  },
  {
   "cell_type": "code",
   "execution_count": 41,
   "metadata": {},
   "outputs": [
    {
     "data": {
      "image/png": "[encoded data removed]",
      "text/plain": [
       "<Figure size 640x480 with 1 Axes>"
      ]
     },
     "metadata": {},
     "output_type": "display_data"
    }
   ],
   "source": [
    "sns.boxplot(data=df_val, x=\"origin\", y=\"spectral_sqrt_cosine\")\n",
    "plt.xticks(rotation=90)\n",
    "plt.show()"
   ]
  },
  {
   "cell_type": "code",
   "execution_count": null,
   "metadata": {},
   "outputs": [],
   "source": [
    "# from fiora.MOL.collision_energy import NCE_to_eV\n",
    "# # Test molecule: Phacidin (from mass bank)\n",
    "\n",
    "# s = \"CCCCCCCCC(=O)C1=C(OC(=CC1=O)C=O)OC\"\n",
    "# peaks = {\"mz\":  [57.071,  67.0553, 71.0866,  81.0709, 123.1168, 127.039, 141.1274, 155.0339, 169.0495, 197.0444, 267.1591, 295.154],\n",
    "#          \"intensity\": [249, 91, 457, 216, 132, 129, 388, 35, 100, 110, 999, 676]\n",
    "#          }#{\"mz\":  [71.0866, 141.1274, 267.1591, 295.154],\n",
    "#          #\"intensities\": [39, 118, 160, 999]}\n",
    "# Phacidin = Metabolite(s)\n",
    "# Phacidin.create_molecular_structure_graph()\n",
    "# Phacidin.compute_graph_attributes(node_encoder, bond_encoder)\n",
    "# Phacidin.fragment_MOL()\n",
    "# Phacidin.match_fragments_to_peaks(peaks[\"mz\"], peaks[\"intensity\"], tolerance=100 * PPM)\n",
    "# meta = {\"collision_energy\":  NCE_to_eV(20, Phacidin.ExactMolWeight + 1), \"instrument\": \"HCD\", \"name\": \"Phacidin\", 'precursor_mode': \"[M+H]+\"} #NCE_to_eV(100, Phacidin.ExactMolWeight + 1)\n",
    "# Phacidin.add_metadata(meta, setup_encoder, rt_encoder)\n",
    "# #Phacidin.compiled_forward_mask = torch.cat([Phacidin.edge_forward_direction.squeeze(), torch.tensor([True, False], dtype=bool)], dim=-1)\n",
    "\n",
    "\n",
    "# fig, axs = plt.subplots(1, 2, figsize=(12.8, 4.2), gridspec_kw={'width_ratios': [1, 3]}, sharey=False)\n",
    "# img = Phacidin.draw(ax= axs[0])\n",
    "\n",
    "# axs[0].grid(False)\n",
    "# axs[0].tick_params(axis='both', bottom=False, labelbottom=False, left=False, labelleft=False)\n",
    "# axs[0].set_title(\"Phacidin\")\n",
    "# axs[0].imshow(img)\n",
    "# axs[0].axis(\"off\")\n",
    "# #sv.plot_spectrum(example, ax=axs[1])\n",
    "# ax = sv.annotate_and_plot({\"peaks\": peaks}, Phacidin.peak_matches.keys(), ppm_tolerance=100 * PPM, ax=axs[1])\n",
    "# plt.show()\n",
    "# print(f'{len(Phacidin.peak_matches)} matching fragments identified: {metabolite.peak_matches}')\n",
    "# print(f'Conflicts: {Phacidin.match_stats[\"num_peak_match_conflicts\"]}')\n",
    "# print(f'Coverage: {Phacidin.match_stats[\"coverage\"] * 100}% of peak intensities')\n",
    "# print(Phacidin.edge_intensities)"
   ]
  },
  {
   "cell_type": "code",
   "execution_count": null,
   "metadata": {},
   "outputs": [],
   "source": [
    "# Phacidin.compiled_probsALL_pred = fiora.predict_metabolite_property(metabolite, model=model, as_batch=True)\n",
    "# stats = fiora.simulate_and_score(Phacidin, model=model, base_attr_name=\"compiled_probsALL\", query_peaks=peaks, as_batch=True)\n"
   ]
  },
  {
   "cell_type": "code",
   "execution_count": null,
   "metadata": {},
   "outputs": [],
   "source": [
    "# fig, axs = plt.subplots(1, 2, figsize=(12.8, 4.2), gridspec_kw={'width_ratios': [1, 3]}, sharey=False)\n",
    "# img = Phacidin.draw(ax= axs[0])\n",
    "\n",
    "# axs[0].grid(False)\n",
    "# axs[0].tick_params(axis='both', bottom=False, labelbottom=False, left=False, labelleft=False) \n",
    "# axs[0].set_title(\"Phacidin\")\n",
    "# axs[0].imshow(img)\n",
    "# axs[0].axis(\"off\")\n",
    "# #sv.plot_spectrum(example, ax=axs[1])\n",
    "# ax = sv.plot_spectrum({\"peaks\": peaks}, {\"peaks\": stats[\"sim_peaks\"]}, ax=axs[1])\n",
    "# plt.show()\n",
    "\n",
    "# if any(df_val[\"Name\"] == \"Phacidin\"):\n",
    "#     print(\"Phacidin is in the validation set\" )\n",
    "# if any(df_train[\"Name\"] == \"Phacidin\"):\n",
    "#     print(\"Phacidin is in the training set\" )\n",
    "# cos = stats[\"spectral_sqrt_cosine\"]\n",
    "# print(f\"Spectral sqrt cosine: {cos}\")\n"
   ]
  },
  {
   "cell_type": "code",
   "execution_count": null,
   "metadata": {},
   "outputs": [],
   "source": [
    "# new_peaks = {\"mz\": [], \"intensity\": []}\n",
    "\n",
    "# for i, mz in enumerate(stats[\"sim_peaks\"][\"mz\"]):\n",
    "#     if stats[\"sim_peaks\"][\"intensity\"][i] > 0.02:\n",
    "#         new_peaks[\"mz\"].append(mz)\n",
    "#         new_peaks[\"intensity\"].append(stats[\"sim_peaks\"][\"intensity\"][i])"
   ]
  },
  {
   "attachments": {},
   "cell_type": "markdown",
   "metadata": {},
   "source": [
    "#### Some statistics"
   ]
  },
  {
   "cell_type": "code",
   "execution_count": 46,
   "metadata": {},
   "outputs": [
    {
     "data": {
      "image/png": "[encoded data removed]",
      "text/plain": [
       "<Figure size 500x100 with 1 Axes>"
      ]
     },
     "metadata": {},
     "output_type": "display_data"
    },
    {
     "data": {
      "image/png": "[encoded data removed]",
      "text/plain": [
       "<Figure size 800x100 with 1 Axes>"
      ]
     },
     "metadata": {},
     "output_type": "display_data"
    }
   ],
   "source": [
    "#from fiora.visualization.define_colors import bluepink_grad8\n",
    "\n",
    "sns.palplot(bluepink)\n",
    "plt.show()\n",
    "sns.palplot(bluepink_grad8)\n",
    "plt.show()\n"
   ]
  },
  {
   "cell_type": "code",
   "execution_count": 145,
   "metadata": {},
   "outputs": [
    {
     "name": "stdout",
     "output_type": "stream",
     "text": [
      "Stats at first glance (training and validation)\n",
      "Median cosine_similarity:  \t0.92 \u001b[94m 0.79 \u001b[00m\n",
      "Median kl_div:  \t1.01 \u001b[94m 1.73 \u001b[00m\n",
      "Median spectral_cosine:  \t0.90 \u001b[94m 0.78 \u001b[00m\n",
      "Median spectral_sqrt_cosine:  \t0.81 \u001b[94m 0.72 \u001b[00m\n",
      "Median spectral_refl_cosine:  \t0.87 \u001b[94m 0.77 \u001b[00m\n"
     ]
    }
   ],
   "source": [
    "print(\"Stats at first glance (training and validation)\")\n",
    "keys = [\"cosine_similarity\", \"kl_div\", \"spectral_cosine\", \"spectral_sqrt_cosine\", \"spectral_refl_cosine\"]\n",
    "\n",
    "for key in keys:\n",
    "    blue = PRINT_COL[\"blue\"]\n",
    "    end = PRINT_COL[\"end\"]\n",
    "    print(f\"Median {key}:  \\t{df_train[key].median():.2f} {blue} {df_val[key].median():.2f} {end}\")"
   ]
  },
  {
   "cell_type": "code",
   "execution_count": 48,
   "metadata": {},
   "outputs": [],
   "source": [
    "# fig, axs = plt.subplots(1, 2, figsize=(12.8, 8.6), sharey=False)\n",
    "\n",
    "# sns.boxplot(ax=axs[0], data=df, y=\"cosine_similarity\", x=\"dataset\", palette=bluepink)\n",
    "# sns.boxplot(ax=axs[1], data=df, y=\"kl_div\", x=\"dataset\", palette=bluepink)\n",
    "# axs[0].set_title(\"Cosine\")\n",
    "# axs[1].set_title(\"KL divergence\")\n",
    "# plt.show()"
   ]
  },
  {
   "cell_type": "code",
   "execution_count": 146,
   "metadata": {},
   "outputs": [
    {
     "data": {
      "image/png": "[encoded data removed]",
      "text/plain": [
       "<Figure size 1800x600 with 4 Axes>"
      ]
     },
     "metadata": {},
     "output_type": "display_data"
    }
   ],
   "source": [
    "fig, axs = plt.subplots(1, 4, figsize=(18, 6), sharey=False)\n",
    "\n",
    "sns.boxplot(ax=axs[0], data=df, y=\"spectral_cosine\", hue=\"dataset\", palette=bluepink[:3])\n",
    "sns.boxplot(ax=axs[1], data=df, y=\"spectral_sqrt_cosine\", hue=\"dataset\", palette=bluepink[:3])\n",
    "sns.boxplot(ax=axs[2], data=df, y=\"spectral_refl_cosine\", hue=\"dataset\", palette=bluepink[:3])\n",
    "sns.boxplot(ax=axs[3], data=df, y=\"steins_cosine\", hue=\"dataset\", palette=bluepink[:3])\n",
    "axs[0].set_title(\"Spectral cosine similarity\")\n",
    "axs[1].set_title(\"Spectral cosine similarity of sqrt intensities\")\n",
    "axs[2].set_title(\"Spectral cosine similarity of simulated peaks\")\n",
    "axs[3].set_title(\"Steins dot product (reweighted with mass)\")\n",
    "plt.show()"
   ]
  },
  {
   "cell_type": "code",
   "execution_count": 50,
   "metadata": {},
   "outputs": [
    {
     "data": {
      "image/png": "[encoded data removed]",
      "text/plain": [
       "<Figure size 1800x600 with 4 Axes>"
      ]
     },
     "metadata": {},
     "output_type": "display_data"
    }
   ],
   "source": [
    "fig, axs = plt.subplots(1, 4, figsize=(18, 6), sharey=False)\n",
    "\n",
    "sns.boxplot(ax=axs[0], data=df, y=\"spectral_bias\", hue=\"dataset\", palette=bluepink[:3])\n",
    "sns.boxplot(ax=axs[1], data=df, y=\"spectral_sqrt_bias\", hue=\"dataset\", palette=bluepink[:3])\n",
    "sns.boxplot(ax=axs[2], data=df, y=\"spectral_refl_bias\", hue=\"dataset\", palette=bluepink[:3])\n",
    "sns.boxplot(ax=axs[3], data=df, y=\"steins_bias\", hue=\"dataset\", palette=bluepink[:3])\n",
    "axs[0].set_title(\"Spectral cosine bias\")\n",
    "axs[1].set_title(\"Spectral cosine bias of sqrt intensities\")\n",
    "axs[2].set_title(\"Spectral cosine bias of simulated peaks\")\n",
    "axs[3].set_title(\"Steins dot bias (reweighted with mass)\")\n",
    "plt.show()"
   ]
  },
  {
   "cell_type": "code",
   "execution_count": 51,
   "metadata": {},
   "outputs": [
    {
     "name": "stderr",
     "output_type": "stream",
     "text": [
      "/tmp/ipykernel_6581/3378000538.py:3: UserWarning: The palette list has more values (8) than needed (7), which may not be intended.\n",
      "  sns.boxplot(ax=ax, data=df_val, y=\"spectral_cosine\", hue=\"Instrument_type\", palette=bluepink_grad8)\n"
     ]
    },
    {
     "data": {
      "image/png": "[encoded data removed]",
      "text/plain": [
       "<Figure size 1200x600 with 1 Axes>"
      ]
     },
     "metadata": {},
     "output_type": "display_data"
    }
   ],
   "source": [
    "fig, ax = plt.subplots(1, 1, figsize=(12, 6), sharey=False)\n",
    "\n",
    "sns.boxplot(ax=ax, data=df_val, y=\"spectral_cosine\", hue=\"Instrument_type\", palette=bluepink_grad8)\n",
    "axs[0].set_title(\"Cosine\")\n",
    "plt.show()"
   ]
  },
  {
   "cell_type": "code",
   "execution_count": null,
   "metadata": {},
   "outputs": [],
   "source": [
    "# fig, ax = plt.subplots(1, 1, figsize=(12.8, 8.6), sharey=False)\n",
    "\n",
    "# sns.boxplot(ax=ax, data=df_val, y=\"spectral_cosine\", x=\"num_peak_match_conflicts\", palette=bluepink_grad8[2:-2])\n",
    "# axs[0].set_title(\"Cosine\")\n",
    "# plt.show()"
   ]
  },
  {
   "cell_type": "code",
   "execution_count": null,
   "metadata": {},
   "outputs": [],
   "source": [
    "# fig, ax = plt.subplots(1, 1, figsize=(12.8, 12.8), sharey=False)\n",
    "# sns.scatterplot(ax=ax, data=df_val, x=\"coverage\", y=\"spectral_sqrt_cosine\", hue=\"spectral_sqrt_cosine\", hue_norm=(0, 1), palette=bluepink_grad)\n",
    "# plt.show()"
   ]
  },
  {
   "attachments": {},
   "cell_type": "markdown",
   "metadata": {},
   "source": [
    "### CASMI 2016"
   ]
  },
  {
   "cell_type": "code",
   "execution_count": 151,
   "metadata": {},
   "outputs": [],
   "source": [
    "%%capture\n",
    "df_cas[\"RETENTIONTIME\"] = df_cas[\"RTINSECONDS\"] / 60.0\n",
    "df_cas[\"Metabolite\"] = df_cas[\"SMILES\"].apply(Metabolite)\n",
    "df_cas[\"Metabolite\"].apply(lambda x: x.create_molecular_structure_graph())\n",
    "\n",
    "\n",
    "if filter_spectra:\n",
    "    setup_encoder.normalize_features[\"collision_energy\"][\"max\"] = CE_upper_limit \n",
    "    setup_encoder.normalize_features[\"molecular_weight\"][\"max\"] = weight_upper_limit \n",
    "df_cas[\"Metabolite\"].apply(lambda x: x.compute_graph_attributes(node_encoder, bond_encoder))\n",
    "df_cas[\"CE\"] = 20.0 # actually stepped 20/35/50\n",
    "df_cas[\"Instrument_type\"] = \"HCD\" # CHECK if correct Orbitrap\n",
    "\n",
    "metadata_key_map = {\"collision_energy\":  \"CE\", \n",
    "                 \"instrument\": \"Instrument_type\",\n",
    "                 \"precursor_mz\": \"PRECURSOR_MZ\",\n",
    "                 'precursor_mode': \"Precursor_type\",\n",
    "                 \"retention_time\": \"RETENTIONTIME\"\n",
    "                 }\n",
    "\n",
    "df_cas[\"summary\"] = df_cas.apply(lambda x: {key: x[name] for key, name in metadata_key_map.items()}, axis=1)\n",
    "df_cas.apply(lambda x: x[\"Metabolite\"].add_metadata(x[\"summary\"], setup_encoder), axis=1)\n",
    "\n",
    "# Fragmentation\n",
    "df_cas[\"Metabolite\"].apply(lambda x: x.fragment_MOL(depth=1))\n",
    "df_cas.apply(lambda x: x[\"Metabolite\"].match_fragments_to_peaks(x[\"peaks\"][\"mz\"], x[\"peaks\"][\"intensity\"], tolerance=100 * PPM), axis=1) # Optional: use mz_cut instead\n"
   ]
  },
  {
   "cell_type": "code",
   "execution_count": null,
   "metadata": {},
   "outputs": [],
   "source": [
    "%%capture\n",
    "from fiora.MOL.collision_energy import NCE_to_eV\n",
    "\n",
    "df_cast[\"dataset\"] = \"CASMI 16 Training\"\n",
    "df_cast[\"RETENTIONTIME\"] = df_cast[\"RTINSECONDS\"] / 60.0\n",
    "df_cast[\"Metabolite\"] = df_cast[\"SMILES\"].apply(Metabolite)\n",
    "df_cast[\"Metabolite\"].apply(lambda x: x.create_molecular_structure_graph())\n",
    "\n",
    "df_cast[\"Metabolite\"].apply(lambda x: x.compute_graph_attributes(node_encoder, bond_encoder))\n",
    "df_cast[\"CE\"] = 20.0 # actually stepped 20/35/50\n",
    "df_cast[\"Instrument_type\"] = \"HCD\" # CHECK if correct Orbitrap\n",
    "\n",
    "metadata_key_map16 = {\"collision_energy\":  \"CE\", \n",
    "                 \"instrument\": \"Instrument_type\",\n",
    "                 \"precursor_mz\": \"PRECURSOR_MZ\",\n",
    "                 'precursor_mode': \"Precursor_type\",\n",
    "                 \"retention_time\": \"RETENTIONTIME\"\n",
    "                 }\n",
    "\n",
    "df_cast[\"summary\"] = df_cast.apply(lambda x: {key: x[name] for key, name in metadata_key_map16.items()}, axis=1)\n",
    "df_cast.apply(lambda x: x[\"Metabolite\"].add_metadata(x[\"summary\"], setup_encoder), axis=1)\n",
    "\n",
    "# Fragmentation\n",
    "df_cast[\"Metabolite\"].apply(lambda x: x.fragment_MOL(depth=1))\n",
    "df_cast.apply(lambda x: x[\"Metabolite\"].match_fragments_to_peaks(x[\"peaks\"][\"mz\"], x[\"peaks\"][\"intensity\"], tolerance=100 * PPM), axis=1)\n"
   ]
  },
  {
   "cell_type": "code",
   "execution_count": null,
   "metadata": {},
   "outputs": [],
   "source": [
    "### CHECK IF train test split is correct\n",
    "\n",
    "print(\"Skipping extra check. As struture disjoint testing is enforced on top.\")\n",
    "# iii = []\n",
    "# xxx = []\n",
    "# for i,d in df_cas.iterrows():\n",
    "#     m = d[\"Metabolite\"]\n",
    "    \n",
    "#     for x,D in df.iterrows():\n",
    "#         M = D[\"Metabolite\"]\n",
    "#         if (m == M):\n",
    "#             iii += [i]\n",
    "#             xxx += [x]\n",
    "          \n",
    "# iii = np.unique(iii)  \n",
    "# print(iii)\n",
    "# print(f\"Found {len(iii)} instances violating test/train split. Metabolite found in train/val set.\")"
   ]
  },
  {
   "cell_type": "code",
   "execution_count": null,
   "metadata": {},
   "outputs": [],
   "source": [
    "fig, axs = plt.subplots(1, 2, figsize=(12.8, 4.2), gridspec_kw={'width_ratios': [1, 3]}, sharey=False)\n",
    "\n",
    "img = df_cas.loc[0][\"Metabolite\"].draw(ax= axs[0])\n",
    "\n",
    "axs[0].grid(False)\n",
    "axs[0].tick_params(axis='both', bottom=False, labelbottom=False, left=False, labelleft=False)\n",
    "axs[0].set_title(str(df_cas.loc[0][\"Metabolite\"]))\n",
    "axs[0].imshow(img)\n",
    "axs[0].axis(\"off\")\n",
    "sv.plot_spectrum(df_cas.loc[0], ax=axs[1])"
   ]
  },
  {
   "cell_type": "code",
   "execution_count": null,
   "metadata": {},
   "outputs": [],
   "source": [
    "# fig, axs = plt.subplots(1, 1, figsize=(12.8, 4.2), sharey=False)\n",
    "# sns.histplot(data=df, x=\"CE\", hue=\"PRECURSORTYPE\", multiple='dodge', stat=\"density\", common_norm=False, binwidth=1)"
   ]
  },
  {
   "cell_type": "code",
   "execution_count": null,
   "metadata": {},
   "outputs": [],
   "source": [
    "from fiora.MOL.collision_energy import NCE_to_eV\n",
    "from fiora.MS.spectral_scores import spectral_cosine, spectral_reflection_cosine, reweighted_dot\n",
    "from fiora.MS.ms_utility import merge_annotated_spectrum\n",
    "\n",
    "def test_cas(df_cas):\n",
    "    df_cas[\"NCE\"] = 20.0 # actually stepped NCE 20/35/50\n",
    "    df_cas[\"CE\"] = df_cas[[\"NCE\", \"PRECURSOR_MZ\"]].apply(lambda x: NCE_to_eV(x[\"NCE\"], x[\"PRECURSOR_MZ\"]), axis=1)\n",
    "    df_cas[\"step1_CE\"] = df_cas[\"CE\"]\n",
    "    df_cas[\"summary\"] = df_cas.apply(lambda x: {key: x[name] for key, name in metadata_key_map.items()}, axis=1)\n",
    "    df_cas.apply(lambda x: x[\"Metabolite\"].add_metadata(x[\"summary\"], setup_encoder, rt_encoder), axis=1)\n",
    "    df_cas = fiora.simulate_all(df_cas, model, suffix=\"_20\")\n",
    "\n",
    "    df_cas[\"NCE\"] = 35.0 # actually stepped NCE 20/35/50\n",
    "    df_cas[\"CE\"] = df_cas[[\"NCE\", \"PRECURSOR_MZ\"]].apply(lambda x: NCE_to_eV(x[\"NCE\"], x[\"PRECURSOR_MZ\"]), axis=1)\n",
    "    df_cas[\"step2_CE\"] = df_cas[\"CE\"]\n",
    "    df_cas[\"summary\"] = df_cas.apply(lambda x: {key: x[name] for key, name in metadata_key_map.items()}, axis=1)\n",
    "    df_cas.apply(lambda x: x[\"Metabolite\"].add_metadata(x[\"summary\"], setup_encoder, rt_encoder), axis=1)\n",
    "    df_cas = fiora.simulate_all(df_cas, model, suffix=\"_35\")\n",
    "\n",
    "\n",
    "    df_cas[\"NCE\"] = 50.0 # actually stepped NCE 20/35/50\n",
    "    df_cas[\"CE\"] = df_cas[[\"NCE\", \"PRECURSOR_MZ\"]].apply(lambda x: NCE_to_eV(x[\"NCE\"], x[\"PRECURSOR_MZ\"]), axis=1)\n",
    "    df_cas[\"step3_CE\"] = df_cas[\"CE\"]\n",
    "    df_cas[\"summary\"] = df_cas.apply(lambda x: {key: x[name] for key, name in metadata_key_map.items()}, axis=1)\n",
    "    df_cas.apply(lambda x: x[\"Metabolite\"].add_metadata(x[\"summary\"], setup_encoder, rt_encoder), axis=1)\n",
    "    df_cas = fiora.simulate_all(df_cas, model, suffix=\"_50\")\n",
    "\n",
    "    df_cas[\"avg_CE\"] = (df_cas[\"step1_CE\"] + df_cas[\"step2_CE\"] + df_cas[\"step3_CE\"]) / 3\n",
    "\n",
    "    df_cas[\"merged_peaks\"] = df_cas.apply(lambda x: merge_annotated_spectrum(merge_annotated_spectrum(x[\"sim_peaks_20\"], x[\"sim_peaks_35\"]), x[\"sim_peaks_50\"]) , axis=1)\n",
    "    df_cas[\"merged_cosine\"] = df_cas.apply(lambda x: spectral_cosine(x[\"peaks\"], x[\"merged_peaks\"]), axis=1)\n",
    "    df_cas[\"merged_sqrt_cosine\"] = df_cas.apply(lambda x: spectral_cosine(x[\"peaks\"], x[\"merged_peaks\"], transform=np.sqrt), axis=1)\n",
    "    df_cas[\"merged_refl_cosine\"] = df_cas.apply(lambda x: spectral_reflection_cosine(x[\"peaks\"], x[\"merged_peaks\"], transform=np.sqrt), axis=1)\n",
    "    df_cas[\"merged_steins\"] = df_cas.apply(lambda x: reweighted_dot(x[\"peaks\"], x[\"merged_peaks\"]), axis=1)\n",
    "    df_cas[\"spectral_sqrt_cosine\"] = df_cas[\"merged_sqrt_cosine\"] # just remember it is merged\n",
    "\n",
    "    df_cas[\"coverage\"] = df_cas[\"Metabolite\"].apply(lambda x: x.match_stats[\"coverage\"])\n",
    "    df_cas[\"RT_pred\"] = df_cas[\"RT_pred_35\"]\n",
    "    df_cas[\"RT_dif\"] = df_cas[\"RT_dif_35\"]\n",
    "    df_cas[\"CCS_pred\"] = df_cas[\"CCS_pred_35\"]\n",
    "    df_cas[\"library\"] = \"CASMI-16\"\n",
    "\n",
    "    return df_cas\n",
    "\n",
    "df_cas = test_cas(df_cas)\n",
    "df_cast = test_cas(df_cast)"
   ]
  },
  {
   "cell_type": "code",
   "execution_count": null,
   "metadata": {},
   "outputs": [],
   "source": [
    "fig, ax = plt.subplots(1,1, figsize=(8,4))\n",
    "sns.histplot(df_cas, x=\"avg_CE\", hue=\"Precursor_type\", multiple=\"stack\", palette=[\"black\", \"gray\"]) #bluepink[:2][::-1])\n",
    "plt.xlabel(\"Average collision energy\")\n",
    "plt.show()\n",
    "\n",
    "fig, ax = plt.subplots(1,1, figsize=(8,4))\n",
    "sns.histplot(df_cast, x=\"avg_CE\", hue=\"Precursor_type\", multiple=\"stack\", palette=[\"black\", \"gray\"]) #bluepink[:2][::-1])\n",
    "plt.xlabel(\"Average collision energy\")\n",
    "plt.show()"
   ]
  },
  {
   "cell_type": "code",
   "execution_count": null,
   "metadata": {},
   "outputs": [],
   "source": [
    "# fig, axs = plt.subplots(1, 2, figsize=(18, 8.6), sharey=False)\n",
    "\n",
    "# d20 = pd.DataFrame({**{key: df_cas[key + \"_20\"].astype(float) for key in [\"spectral_cosine\", \"spectral_sqrt_cosine\", \"spectral_refl_cosine\"]}, \"collision_energy\": 20})\n",
    "# d35 = pd.DataFrame({**{key: df_cas[key + \"_35\"].astype(float) for key in [\"spectral_cosine\", \"spectral_sqrt_cosine\", \"spectral_refl_cosine\"]}, \"collision_energy\": 35})\n",
    "# d50 = pd.DataFrame({**{key: df_cas[key + \"_50\"].astype(float) for key in [\"spectral_cosine\", \"spectral_sqrt_cosine\", \"spectral_refl_cosine\"]}, \"collision_energy\": 50})\n",
    "# dstep = pd.DataFrame({**{\"spectral_\" + key: df_cas[\"merged_\" + key].astype(float) for key in [\"cosine\", \"sqrt_cosine\", \"refl_cosine\"]}, \"collision_energy\": \"30/35/55\"})\n",
    "\n",
    "# dx = pd.concat([d20, d35, d50,  dstep], axis=0)\n",
    "# sns.boxplot(ax=axs[0], data=dx, y=\"spectral_sqrt_cosine\", x=\"collision_energy\", palette=bluepink[:2])\n",
    "# sns.boxplot(ax=axs[1], data=dx, y=\"spectral_refl_cosine\", x=\"collision_energy\", palette=bluepink[:2])\n",
    "# axs[0].set_title(\"Spectral cosine similarity of sqrt intensities\")\n",
    "# axs[1].set_title(\"Spectral cosine similarity of simulated peaks\")\n",
    "# plt.show()"
   ]
  },
  {
   "cell_type": "code",
   "execution_count": null,
   "metadata": {},
   "outputs": [],
   "source": [
    "# fig, axs = plt.subplots(1, 2, figsize=(18, 8.6), sharey=False)\n",
    "# sns.boxplot(ax=axs[0], data=dx, y=\"spectral_sqrt_cosine\", x=\"collision_energy\", palette=bluepink[:2])\n",
    "# axs[0].set_title(\"Spectral cosine similarity of sqrt intensities\")\n",
    "# sns.scatterplot(ax=axs[1], data=df_cas, x=\"coverage\", y=\"merged_sqrt_cosine\", hue=\"merged_sqrt_cosine\", hue_norm=(0, 1), palette=bluepink_grad)\n",
    "# plt.show()"
   ]
  },
  {
   "cell_type": "code",
   "execution_count": null,
   "metadata": {},
   "outputs": [],
   "source": [
    "i = 3\n",
    "print(df_cas.loc[i][\"merged_sqrt_cosine\"])\n",
    "\n",
    "fig, axs = plt.subplots(1, 2, figsize=(12.8, 4.2), gridspec_kw={'width_ratios': [1, 3]}, sharey=False)\n",
    "img = df_cas.loc[i][\"Metabolite\"].draw(ax= axs[0])\n",
    "\n",
    "axs[0].grid(False)\n",
    "axs[0].tick_params(axis='both', bottom=False, labelbottom=False, left=False, labelleft=False) \n",
    "axs[0].set_title(df_cas.loc[i][\"NAME\"])\n",
    "axs[0].imshow(img)\n",
    "axs[0].axis(\"off\")\n",
    "#sv.plot_spectrum(example, ax=axs[1])\n",
    "ax = sv.plot_spectrum({\"peaks\": df_cas.loc[i][\"peaks\"]}, {\"peaks\": df_cas.loc[i][\"sim_peaks_35\"]}, ax=axs[1])\n",
    "#axs[1].text(0.5, 0.5, 'matplotlib', horizontalalignment='center', verticalalignment='center', transform=axs[1].transAxes)\n",
    "plt.show()"
   ]
  },
  {
   "cell_type": "code",
   "execution_count": null,
   "metadata": {},
   "outputs": [],
   "source": [
    "fig, ax = plt.subplots(1, 1, figsize=(8, 4), sharey=False)\n",
    "\n",
    "\n",
    "sns.boxplot(ax=ax, data=df_cas, y=\"merged_sqrt_cosine\", x=\"Precursor_type\", palette=bluepink[:2][::-1])\n",
    "ax.set_title(\"Spectral cosine similarity of sqrt intensities\")\n",
    "plt.show()"
   ]
  },
  {
   "attachments": {},
   "cell_type": "markdown",
   "metadata": {},
   "source": [
    "#### Benchmark Test Performance"
   ]
  },
  {
   "cell_type": "code",
   "execution_count": null,
   "metadata": {},
   "outputs": [],
   "source": [
    "def closest_cfm_ce(CE):\n",
    "    ref = np.array([10, 20, 40])\n",
    "    abs_error = abs(ref - CE)\n",
    "    i = np.argmin(abs_error)\n",
    "    return str(ref[i])\n",
    "    \n",
    "df_cas[\"cfm_CE\"] = df_cas[\"avg_CE\"].apply(closest_cfm_ce)"
   ]
  },
  {
   "attachments": {},
   "cell_type": "markdown",
   "metadata": {},
   "source": [
    "Load CFM-ID TEST"
   ]
  },
  {
   "cell_type": "code",
   "execution_count": null,
   "metadata": {},
   "outputs": [],
   "source": [
    "import fiora.IO.cfmReader as cfmReader\n",
    "# time CFM-ID 4: -> 12m16,571s\n",
    "\n",
    "cf = cfmReader.read(f\"{home}/data/metabolites/cfm-id/casmi16_negative_predictions.txt\", as_df=True)\n",
    "cf_p = cfmReader.read(f\"{home}/data/metabolites/cfm-id/casmi16_positive_predictions.txt\", as_df=True)\n",
    "cf = pd.concat([cf, cf_p])"
   ]
  },
  {
   "cell_type": "code",
   "execution_count": null,
   "metadata": {},
   "outputs": [],
   "source": [
    "len(cf[cf[\"#ID\"] == \"Challenge-009\"]) ## missing chalenges"
   ]
  },
  {
   "cell_type": "code",
   "execution_count": null,
   "metadata": {},
   "outputs": [],
   "source": [
    "df_cas[\"cfm_peaks\"] = None\n",
    "df_cas[[\"cfm_cosine\", \"cfm_sqrt_cosine\", \"cfm_refl_cosine\"]] = np.nan\n",
    "for i, cas in df_cas.iterrows():\n",
    "    challenge = cas[\"ChallengeName\"]\n",
    "\n",
    "    if len(cf[cf[\"#ID\"] == challenge]) != 1:\n",
    "        print(f\"{challenge} not found in CFM-ID results. Skipping.\")\n",
    "        continue\n",
    "    cfm_data = cf[cf[\"#ID\"] == challenge].iloc[0]\n",
    "    \n",
    "    \n",
    "    if cas[\"ChallengeName\"] != cfm_data[\"#ID\"]:\n",
    "        raise ValueError(\"Wrong challenge matched\")\n",
    "    cfm_peaks = cfm_data[\"peaks\" + cas[\"cfm_CE\"]] # find best reference CE\n",
    "    df_cas.at[i, \"cfm_peaks\"] = cfm_peaks\n",
    "    df_cas.at[i, \"cfm_cosine\"] = spectral_cosine(cas[\"peaks\"], cfm_peaks)\n",
    "    df_cas.at[i, \"cfm_sqrt_cosine\"] = spectral_cosine(cas[\"peaks\"], cfm_peaks, transform=np.sqrt)\n",
    "    df_cas.at[i, \"cfm_refl_cosine\"] = spectral_reflection_cosine(cas[\"peaks\"], cfm_peaks, transform=np.sqrt)\n",
    "    df_cas.at[i, \"cfm_steins\"] = reweighted_dot(cas[\"peaks\"], cfm_peaks)"
   ]
  },
  {
   "cell_type": "code",
   "execution_count": null,
   "metadata": {},
   "outputs": [],
   "source": [
    "cosines = {\"cosine\": df_cas[\"merged_cosine\"], \"sqrt_cosine\": df_cas[\"merged_sqrt_cosine\"], \"refl_cosine\": df_cas[\"merged_refl_cosine\"], \"steins_dot\": df_cas[\"merged_steins\"], \"model\": \"Fiora\"}\n",
    "cosines2 = {\"cosine\": df_cas[\"cfm_cosine\"], \"sqrt_cosine\": df_cas[\"cfm_sqrt_cosine\"],\"refl_cosine\": df_cas[\"cfm_refl_cosine\"], \"steins_dot\": df_cas[\"cfm_steins\"] ,  \"model\": \"CFM-ID 4.4.7\"}\n",
    "fig, axs = plt.subplots(1, 3, figsize=(18.8, 4.2), gridspec_kw={'width_ratios': [1, 1, 1]}, sharey=False)\n",
    "\n",
    "scores = pd.concat([pd.DataFrame(cosines), pd.DataFrame(cosines2)], ignore_index=True)\n",
    "sns.histplot(scores, ax=axs[0], x=\"cosine\", hue=\"model\", palette=bluepink[:2], binwidth=0.025)\n",
    "sns.histplot(scores, ax=axs[1], x=\"sqrt_cosine\", hue=\"model\", palette=bluepink[:2],binwidth=0.025)\n",
    "sns.histplot(scores, ax=axs[2], x=\"steins_dot\", hue=\"model\", palette=bluepink[:2],binwidth=0.025)\n",
    "plt.show()"
   ]
  },
  {
   "cell_type": "code",
   "execution_count": null,
   "metadata": {},
   "outputs": [],
   "source": [
    "from matplotlib.patches import PathPatch\n",
    "\n",
    "def adjust_box_widthsOld(fig, fac):\n",
    "    \"\"\"\n",
    "    Adjust the withs of a seaborn-generated boxplot.\n",
    "    \"\"\"\n",
    "\n",
    "    # iterating through Axes instances\n",
    "    for ax in fig.axes:\n",
    "\n",
    "        # iterating through axes artists:\n",
    "        for c in ax.get_children():\n",
    "\n",
    "            # searching for PathPatches\n",
    "            if isinstance(c, PathPatch):\n",
    "                # getting current width of box:\n",
    "                p = c.get_path()\n",
    "                verts = p.vertices\n",
    "                verts_sub = verts[:-1]\n",
    "                xmin = np.min(verts_sub[:, 0])\n",
    "                xmax = np.max(verts_sub[:, 0])\n",
    "                xmid = 0.5*(xmin+xmax)\n",
    "                xhalf = 0.5*(xmax - xmin)\n",
    "\n",
    "                # setting new width of box\n",
    "                xmin_new = xmid-fac*xhalf\n",
    "                xmax_new = xmid+fac*xhalf\n",
    "                verts_sub[verts_sub[:, 0] == xmin, 0] = xmin_new\n",
    "                verts_sub[verts_sub[:, 0] == xmax, 0] = xmax_new\n",
    "\n",
    "                # setting new width of median line\n",
    "                for l in ax.lines:\n",
    "                    if np.all(l.get_xdata() == [xmin, xmax]):\n",
    "                        l.set_xdata([xmin_new, xmax_new])\n",
    "                        \n",
    "                        \n",
    "\n",
    "\n",
    "from matplotlib.patches import PathPatch\n",
    "\n",
    "def adjust_box_widths(fig, fac):\n",
    "    \"\"\"\n",
    "    Adjust the widths of a seaborn-generated boxplot.\n",
    "    \"\"\"\n",
    "\n",
    "    # iterating through Axes instances\n",
    "    for ax in fig.axes:\n",
    "\n",
    "        # iterating through axes artists\n",
    "        for c in ax.get_children():\n",
    "\n",
    "            # searching for PathPatches\n",
    "            if isinstance(c, PathPatch):\n",
    "                # getting current width of box\n",
    "                p = c.get_path()\n",
    "                verts = p.vertices\n",
    "                verts_sub = verts[:-1]\n",
    "                xmin = np.min(verts_sub[:, 0])\n",
    "                xmax = np.max(verts_sub[:, 0])\n",
    "                xmid = 0.5 * (xmin + xmax)\n",
    "                xhalf = 0.5 * (xmax - xmin)\n",
    "\n",
    "                # setting new width of box\n",
    "                xmin_new = xmid - fac * xhalf\n",
    "                xmax_new = xmid + fac * xhalf\n",
    "                verts_sub[verts_sub[:, 0] == xmin, 0] = xmin_new\n",
    "                verts_sub[verts_sub[:, 0] == xmax, 0] = xmax_new\n",
    "\n",
    "                # setting new width of median line\n",
    "                for l in ax.lines:\n",
    "                    # check if the line has data\n",
    "                    if len(l.get_xdata()) > 0:\n",
    "                        # check if the line is a median line\n",
    "                        if 'color' in l.properties() and l.properties()['color'] == 'black':\n",
    "                            l.set_xdata([xmin_new, xmax_new])\n"
   ]
  },
  {
   "cell_type": "code",
   "execution_count": null,
   "metadata": {},
   "outputs": [],
   "source": [
    "# dgnn = pd.DataFrame({\"cosine\": df_cas[\"merged_sqrt_cosine\"], \"ion_mode\": df_cas[\"Precursor_type\"], \"model\": \"GNN-based fragmentation\"})\n",
    "# dcfm = pd.DataFrame({\"cosine\": df_cas[\"cfm_sqrt_cosine\"], \"ion_mode\": df_cas[\"Precursor_type\"], \"model\": \"CFM-ID 4.4.7\"})\n",
    "\n",
    "# D = pd.concat([dgnn, dcfm], axis=0)\n",
    "\n",
    "# fig, ax = plt.subplots(1, 1, figsize=(10, 6.6), sharey=False)\n",
    "\n",
    "# sns.boxplot(ax=ax, data=D, y=\"cosine\", x=\"ion_mode\", hue=\"model\", palette=bluepink[:2], order=[\"[M+H]+\", \"[M-H]-\"])\n",
    "# #sns.boxplot(ax=axs[0], data=D, y=\"cosine\", x=\"model\", hue=\"ion_mode\", palette=bluepink[:1] * 2 + bluepink[:1] * 2)\n",
    "# ax.set_title(\"Spectral cosine similarity of CASMI2016 predictions\")\n",
    "# plt.xlabel(\"\")\n",
    "# plt.legend(loc=\"lower right\")\n",
    "# plt.subplots_adjust(right=0.975, left=0.11)\n",
    "# adjust_box_widths(fig, 0.95)\n",
    "# #set_all_font_sizes(18)\n",
    "# #plt.savefig(f\"{home}/images/cosine_boxplot.svg\", format=\"svg\")\n",
    "# plt.show()"
   ]
  },
  {
   "cell_type": "code",
   "execution_count": null,
   "metadata": {},
   "outputs": [],
   "source": [
    "df_cas.groupby(\"Precursor_type\")[\"merged_sqrt_cosine\"].median()"
   ]
  },
  {
   "cell_type": "code",
   "execution_count": null,
   "metadata": {},
   "outputs": [],
   "source": [
    "print(\"Mean:\\t\", round(df_cas[\"merged_sqrt_cosine\"].mean(), 2)) #0.634\n",
    "print(\"Median:\\t\", round(df_cas[\"merged_sqrt_cosine\"].median(), 2)) #0.737\n",
    "print(\"Var:\\t\", round(df_cas[\"merged_sqrt_cosine\"].var(), 2))    #0.116"
   ]
  },
  {
   "cell_type": "code",
   "execution_count": null,
   "metadata": {},
   "outputs": [],
   "source": [
    "print(\"Mean:\\t\", round(df_cas[\"cfm_sqrt_cosine\"].mean(), 2))\n",
    "print(\"Median:\\t\", round(df_cas[\"cfm_sqrt_cosine\"].median(), 2))\n",
    "print(\"Var:\\t\", round(df_cas[\"cfm_sqrt_cosine\"].var(), 2))"
   ]
  },
  {
   "cell_type": "code",
   "execution_count": null,
   "metadata": {},
   "outputs": [],
   "source": [
    "df_cas[\"higher_cosine\"] = (df_cas[\"merged_sqrt_cosine\"] - df_cas[\"cfm_sqrt_cosine\"]) > 0\n",
    "df_cas[\"smaller_cosine\"] = (df_cas[\"merged_sqrt_cosine\"] - df_cas[\"cfm_sqrt_cosine\"]) < 0\n",
    "h, l = sum(df_cas[\"higher_cosine\"]), sum(df_cas[\"smaller_cosine\"])\n",
    "print(f\"Higher in {h} of cases (smaller in {l} cases) out of {df_cas.shape[0]}\")"
   ]
  },
  {
   "cell_type": "code",
   "execution_count": null,
   "metadata": {},
   "outputs": [],
   "source": [
    "df_cas[\"higher_cosine\"] = (df_cas[\"merged_steins\"] - df_cas[\"cfm_steins\"]) > 0\n",
    "df_cas[\"smaller_cosine\"] = (df_cas[\"merged_steins\"] - df_cas[\"cfm_steins\"]) < 0\n",
    "h, l = sum(df_cas[\"higher_cosine\"]), sum(df_cas[\"smaller_cosine\"])\n",
    "print(f\"Higher in {h} of cases (smaller in {l} cases) out of {df_cas.shape[0]}\")"
   ]
  },
  {
   "attachments": {},
   "cell_type": "markdown",
   "metadata": {
    "jp-MarkdownHeadingCollapsed": true
   },
   "source": [
    "### Let's look at test examples"
   ]
  },
  {
   "cell_type": "code",
   "execution_count": null,
   "metadata": {},
   "outputs": [],
   "source": [
    "import matplotlib.pyplot as plt\n",
    "import spectrum_utils.plot as sup\n",
    "import spectrum_utils.spectrum as sus\n",
    "import seaborn as sns\n",
    "from pyteomics import pylab_aux as pa, usi\n",
    "import pandas as pd"
   ]
  },
  {
   "cell_type": "code",
   "execution_count": null,
   "metadata": {},
   "outputs": [],
   "source": [
    "\n",
    "import matplotlib.patches as mpatches\n",
    "\n",
    "def double_mirrorplot(i, model_title=\"Fiora\"):\n",
    "    fig, axs = plt.subplots(1, 3, figsize=(16.8, 4.2), gridspec_kw={'width_ratios': [1, 3, 3]}, sharey=False)\n",
    "    \n",
    "    plt.subplots_adjust(right=0.975, left=0.025)\n",
    "    \n",
    "    img = df_cas.loc[i][\"Metabolite\"].draw(ax= axs[0])\n",
    "\n",
    "    axs[0].grid(False)\n",
    "    axs[0].tick_params(axis='both', bottom=False, labelbottom=False, left=False, labelleft=False) \n",
    "    axs[0].set_title(df_cas.loc[i][\"NAME\"] + \"\\n(\" +  df_cas.loc[i][\"ChallengeName\"]+ \")\")\n",
    "    axs[0].imshow(img)\n",
    "    axs[0].axis(\"off\")\n",
    "\n",
    "    sv.plot_spectrum({\"peaks\": df_cas.loc[i][\"peaks\"]}, {\"peaks\": df_cas.loc[i][\"merged_peaks\"]}, ax=axs[1])\n",
    "    axs[1].title.set_text(model_title)\n",
    "    patch1 = mpatches.Patch(color='limegreen' if df_cas.loc[i][\"cfm_sqrt_cosine\"] < df_cas.loc[i][\"merged_sqrt_cosine\"] else \"orangered\", label=f'cosine {df_cas.loc[i][\"merged_sqrt_cosine\"]:.02f}')\n",
    "    axs[1].legend(handles=[patch1])\n",
    "\n",
    "    sv.plot_spectrum({\"peaks\": df_cas.loc[i][\"peaks\"]}, {\"peaks\": df_cas.loc[i][\"cfm_peaks\"]} if df_cas.loc[i][\"cfm_peaks\"] else {\"peaks\": {\"mz\": [0], \"intensity\": [0]}}, ax=axs[2])\n",
    "    axs[2].title.set_text(f'CFM-ID 4.4.7')\n",
    "    \n",
    "    patch2 = mpatches.Patch(color='limegreen' if df_cas.loc[i][\"cfm_sqrt_cosine\"] > df_cas.loc[i][\"merged_sqrt_cosine\"] else \"orangered\", label=f'cosine {df_cas.loc[i][\"cfm_sqrt_cosine\"]:.02f}', )\n",
    "    axs[2].legend(handles=[patch2])\n",
    "    \n",
    "    return fig, axs\n",
    "\n"
   ]
  },
  {
   "cell_type": "code",
   "execution_count": null,
   "metadata": {},
   "outputs": [],
   "source": [
    "plot_examples = False\n",
    "if plot_examples:\n",
    "    for i in range(df_cas.shape[0]):\n",
    "        print(i)\n",
    "        fig, axs = double_mirrorplot(i)    \n",
    "        plt.show()\n"
   ]
  },
  {
   "cell_type": "code",
   "execution_count": null,
   "metadata": {},
   "outputs": [],
   "source": [
    "test_obj = df_cas.iloc[1][\"Metabolite\"]\n",
    "test_obj.draw()\n",
    "plt.show()"
   ]
  },
  {
   "cell_type": "code",
   "execution_count": null,
   "metadata": {},
   "outputs": [],
   "source": [
    "double_mirrorplot(1)\n",
    "plt.show()"
   ]
  },
  {
   "cell_type": "code",
   "execution_count": null,
   "metadata": {},
   "outputs": [],
   "source": [
    "thecaseforfioracase_p = [6, 10, 24, 25, 33, 38, 49, 51, 52, 58, 88, 110]\n",
    "thecaseforfioracase = [x + 81 for x in thecaseforfioracase_p] + [3, 17]\n",
    "weirdcases = [46, 88] # 46 symmetric -> issues withh pea display # 88 -> actually CFM-ID barely matches any of the high peaks (on high res)"
   ]
  },
  {
   "cell_type": "code",
   "execution_count": null,
   "metadata": {},
   "outputs": [],
   "source": [
    "saveFig = False\n",
    "if saveFig:\n",
    "    for i in thecaseforfioracase:\n",
    "        fig, axs = double_mirrorplot(i)\n",
    "        plt.savefig(f\"{home}/images/\" + df_cas.at[i, \"ChallengeName\"] + \"_mirror.svg\", format=\"svg\")\n",
    "        plt.clf()"
   ]
  },
  {
   "cell_type": "code",
   "execution_count": null,
   "metadata": {},
   "outputs": [],
   "source": [
    "# i = 33 + 81 \n",
    "# fig, axs = double_mirrorplot(i, model_title=\"GNN-based fragmentation\")\n",
    "# plt.savefig(f\"{home}/images/\" + df_cas.at[i, \"ChallengeName\"] + \"_gnn_mirror.svg\", format=\"svg\")"
   ]
  },
  {
   "cell_type": "code",
   "execution_count": null,
   "metadata": {},
   "outputs": [],
   "source": [
    "# for i, mz in enumerate(df_cas.loc[88][\"peaks\"][\"mz\"]):\n",
    "#     if df_cas.loc[88][\"peaks\"][\"intensity\"][i] > 5000000: \n",
    "#         print(mz, df_cas.loc[88][\"peaks\"][\"intensity\"][i] / 1000000.0)\n",
    "# print(df_cas.loc[88][\"sim_peaks_35\"])\n",
    "# for i, mz in enumerate(df_cas.loc[88][\"sim_peaks_35\"][\"mz\"]):\n",
    "#     if df_cas.loc[88][\"sim_peaks_35\"][\"intensity\"][i] > 0.1: print(mz, df_cas.loc[88][\"sim_peaks_35\"][\"intensity\"][i], df_cas.loc[88][\"sim_peaks_35\"][\"annotation\"][i] )\n",
    "# print(df_cas.loc[88][\"cfm_peaks\"] )\n",
    "# for i, mz in enumerate(df_cas.loc[88][\"cfm_peaks\"][\"mz\"]):\n",
    "#     if df_cas.loc[88][\"cfm_peaks\"][\"intensity\"][i] > 15.6: print(mz, df_cas.loc[88][\"cfm_peaks\"][\"intensity\"][i])\n",
    "    \n",
    "\n",
    "# double_mirrorplot(88)\n",
    "# plt.show()\n",
    "\n",
    "# pC = {\"mz\": [361.1394123599999, 315.098645612, 329.1142956759999], \"intensity\": [12.65, 13.68, 65.36]}\n",
    "# print(spectral_cosine(pC, df_cas.loc[88][\"peaks\"]))\n"
   ]
  },
  {
   "cell_type": "code",
   "execution_count": null,
   "metadata": {},
   "outputs": [],
   "source": [
    "# df_val[\"elems\"] = df_val[\"Metabolite\"].apply(lambda x: x.node_elements)\n",
    "# df_val[\"anyCl\"] = df_val[\"elems\"].apply(lambda x: any([c == \"Cl\" for c in x]))\n",
    "# df_val[\"anyN\"] = df_val[\"elems\"].apply(lambda x: any([c == \"N\" for c in x]))\n",
    "# df_val[\"anyO\"] = df_val[\"elems\"].apply(lambda x: any([c == \"O\" for c in x]))\n",
    "# print(df_val[\"anyCl\"].value_counts())\n",
    "# print(df_val[\"anyN\"].value_counts())\n"
   ]
  },
  {
   "cell_type": "code",
   "execution_count": null,
   "metadata": {},
   "outputs": [],
   "source": [
    "# fig, ax = plt.subplots(figsize=(8,8))\n",
    "# #num_categories = 10\n",
    "# #for lab in range(num_categories):\n",
    "#     #indices = test_predictions==lab\n",
    "# ax.scatter(tsne_proj[:,0],tsne_proj[:,1] ,alpha=0.5) #label = lab \n",
    "# #pep_indices = np.where(df_val[\"is_peptide\"])[0]\n",
    "# df_val[\"precursor_prob\"] = df[\"Metabolite\"].apply(lambda x: x.precursor_prob)\n",
    "# pep_indices = np.where(df_val[\"precursor_prob\"] > 0.9)[0]\n",
    "# #pep_indices = np.where(df_val[\"ring_proportion\"] > 0.8)[0]\n",
    "# #pep_indices = np.where(df_val[\"Precursor_type\"] == \"[M-H]-\")[0]\n",
    "# #pep_indices = np.where(np.logical_and(df_val[\"anyN\"], df_val[\"anyO\"]))[0]\n",
    "# ax.scatter(tsne_proj[pep_indices,0],tsne_proj[pep_indices,1], c=\"red\" ,alpha=0.5) #label = lab \n",
    "\n",
    "\n",
    "#     #ax.scatter(tsne_proj[indices,0],tsne_proj[indices,1], c=np.array(cmap(lab)).reshape(1,4), label = lab ,alpha=0.5)\n",
    "# ax.legend(fontsize='large', markerscale=2)\n",
    "# plt.show()"
   ]
  },
  {
   "cell_type": "code",
   "execution_count": null,
   "metadata": {},
   "outputs": [],
   "source": [
    "# r1 = np.where(tsne_proj[:,0] < -18)[0]\n",
    "# r2 = np.where(tsne_proj[:,1] > 20)[0]\n",
    "\n",
    "# r = [x for x in r1 if x in r2]\n",
    "# print(r)\n",
    "\n",
    "\n",
    "# for i, d in df_val.iloc[r].iterrows():\n",
    "#     print(d[\"Metabolite\"])\n",
    "#     d[\"Metabolite\"].draw()\n",
    "#     plt.show()"
   ]
  },
  {
   "attachments": {},
   "cell_type": "markdown",
   "metadata": {},
   "source": [
    "### CASMI 2022"
   ]
  },
  {
   "cell_type": "code",
   "execution_count": null,
   "metadata": {},
   "outputs": [],
   "source": [
    "# WAS IMPORTED ABOVE\n",
    "# casmi22_path = f\"{home}/data/metabolites/CASMI_2022/casmi22_challenges_combined.csv\"\n",
    "\n",
    "# df_cas22 = pd.read_csv(casmi22_path, index_col=[0], low_memory=False)\n",
    "\n",
    "# # Restore dictionary values\n",
    "# dict_columns = [\"peaks\"]\n",
    "# for col in dict_columns:\n",
    "#     df_cas22[col] = df_cas22[col].apply(ast.literal_eval)\n",
    "\n",
    "print(df_cas22.shape)\n",
    "df_cas22[\"ChallengeNum\"] = df_cas22[\"ChallengeName\"].apply(lambda x: int(x.split(\"-\")[-1]))\n",
    "try: df_cas22.reset_index(inplace=True)\n",
    "except: pass\n",
    "df_cas22.head(2)"
   ]
  },
  {
   "cell_type": "code",
   "execution_count": null,
   "metadata": {},
   "outputs": [],
   "source": [
    "%%capture\n",
    "df_cas22[\"Metabolite\"] = df_cas22[\"SMILES\"].apply(Metabolite)\n",
    "df_cas22[\"Metabolite\"].apply(lambda x: x.create_molecular_structure_graph())\n",
    "\n",
    "df_cas22[\"Metabolite\"].apply(lambda x: x.compute_graph_attributes(node_encoder, bond_encoder))\n",
    "df_cas22[\"CE\"] = df_cas22.apply(lambda x: NCE_to_eV(x[\"NCE\"], x[\"precursor_mz\"]), axis=1)\n",
    "\n",
    "metadata_key_map = {\"collision_energy\":  \"CE\", \n",
    "                 \"instrument\": \"Instrument_type\",\n",
    "                 \"precursor_mz\": \"precursor_mz\",\n",
    "                 'precursor_mode': \"Precursor_type\",\n",
    "                 \"retention_time\": \"ChallengeRT\"\n",
    "                 }\n",
    "\n",
    "df_cas22[\"summary\"] = df_cas22.apply(lambda x: {key: x[name] for key, name in metadata_key_map.items()}, axis=1)\n",
    "df_cas22.apply(lambda x: x[\"Metabolite\"].add_metadata(x[\"summary\"], setup_encoder, rt_encoder), axis=1)\n",
    "\n",
    "# Fragmentation\n",
    "df_cas22[\"Metabolite\"].apply(lambda x: x.fragment_MOL(depth=1))\n",
    "df_cas22.apply(lambda x: x[\"Metabolite\"].match_fragments_to_peaks(x[\"peaks\"][\"mz\"], x[\"peaks\"][\"intensity\"], tolerance=100 * PPM), axis=1) # Optional: use mz_cut instead\n"
   ]
  },
  {
   "cell_type": "code",
   "execution_count": null,
   "metadata": {},
   "outputs": [],
   "source": [
    "df_cas22_unique = df_cas22.drop_duplicates(subset='ChallengeName', keep='first')\n",
    "#df_cas22_unique.reset_index(inplace=True)\n",
    "df_cas22_unique[\"Metabolite\"] = df_cas22_unique[\"SMILES\"].apply(Metabolite)"
   ]
  },
  {
   "cell_type": "code",
   "execution_count": null,
   "metadata": {},
   "outputs": [],
   "source": [
    "### CHECK IF train test split is correct\n",
    "\n",
    "\n",
    "print(\"Skipping extra check. As struture disjoint testing is enforced on top.\")\n",
    "# iii = []\n",
    "# xxx = []\n",
    "\n",
    "\n",
    "\n",
    "# for i,d in df_cas22_unique.iterrows():\n",
    "#     m = d[\"Metabolite\"]\n",
    "    \n",
    "#     for x,D in df.iterrows():\n",
    "#         M = D[\"Metabolite\"]\n",
    "#         if (m == M):\n",
    "#             iii += [i]\n",
    "#             xxx += [x]\n",
    "          \n",
    "# iii = np.unique(iii)  \n",
    "# print(iii)\n",
    "# print(f\"Found {len(iii)} instances violating test/train split. Metabolite found in train/val set.\")"
   ]
  },
  {
   "cell_type": "code",
   "execution_count": null,
   "metadata": {},
   "outputs": [],
   "source": [
    "fig, axs = plt.subplots(1, 2, figsize=(12.8, 4.2), gridspec_kw={'width_ratios': [1, 3]}, sharey=False)\n",
    "\n",
    "img = df_cas22.loc[0][\"Metabolite\"].draw(ax= axs[0])\n",
    "\n",
    "axs[0].grid(False)\n",
    "axs[0].tick_params(axis='both', bottom=False, labelbottom=False, left=False, labelleft=False)\n",
    "axs[0].set_title(str(df_cas22.loc[0][\"Metabolite\"]))\n",
    "axs[0].imshow(img)\n",
    "axs[0].axis(\"off\")\n",
    "sv.plot_spectrum(df_cas22.loc[0], ax=axs[1])"
   ]
  },
  {
   "cell_type": "code",
   "execution_count": null,
   "metadata": {},
   "outputs": [],
   "source": [
    "df_cas22 = fiora.simulate_all(df_cas22, model)"
   ]
  },
  {
   "cell_type": "code",
   "execution_count": null,
   "metadata": {},
   "outputs": [],
   "source": [
    "fig, axs = plt.subplots(1, 2, figsize=(12, 6), sharey=True)\n",
    "\n",
    "sns.histplot(ax=axs[0], data=df_cas22, x=\"CE\", hue=\"Precursor_type\", multiple=\"stack\", palette=[\"black\", \"gray\"])#bluepink[:2][::-1])\n",
    "axs[0].vlines(CE_upper_limit, 0, 120, color=\"red\")\n",
    "axs[0].set_xlabel(\"Collision energy\")\n",
    "\n",
    "sns.histplot(ax=axs[1], data=df_cas22, x=\"precursor_mz\", hue=\"Precursor_type\", multiple=\"stack\", palette=[\"black\", \"gray\"])#bluepink[:2][::-1])\n",
    "# axs[1].vlines(800, 0, 120, color=\"red\")\n",
    "axs[1].set_xlabel(\"Precursor mz\")\n",
    "plt.show()"
   ]
  },
  {
   "cell_type": "code",
   "execution_count": null,
   "metadata": {},
   "outputs": [],
   "source": [
    "df_cas22 = df_cas22[df_cas22[\"CE\"] <= CE_upper_limit]\n",
    "# df_cas22 = df_cas22[df_cas22[\"precursor_mz\"] <= 800.0]"
   ]
  },
  {
   "cell_type": "code",
   "execution_count": null,
   "metadata": {},
   "outputs": [],
   "source": [
    "df_cas22[\"coverage\"] = df_cas22[\"Metabolite\"].apply(lambda x: x.match_stats[\"coverage\"])\n",
    "df_cas22[\"ring_proportion\"] = df_cas22[\"Metabolite\"].apply(lambda x: (getattr(x, \"is_edge_in_ring\").sum() / getattr(x, \"is_edge_in_ring\").shape[0]).tolist())"
   ]
  },
  {
   "cell_type": "code",
   "execution_count": null,
   "metadata": {},
   "outputs": [],
   "source": [
    "sns.boxplot(ax=axs[0], data=df_cas22, y=\"spectral_sqrt_cosine\", x=\"Precursor_type\", hue=\"NCE\", palette=bluepink_grad8[-3:][::-1])\n",
    "axs[0].set_title(\"Spectral cosine similarity of sqrt intensities\")\n",
    "sns.scatterplot(ax=axs[1], data=df_cas22, x=\"coverage\", y=\"spectral_sqrt_cosine\", hue=\"spectral_sqrt_cosine\", hue_norm=(0, 1), palette=bluepink_grad)\n",
    "plt.show()"
   ]
  },
  {
   "cell_type": "code",
   "execution_count": null,
   "metadata": {},
   "outputs": [],
   "source": [
    "i = 3\n",
    "print(df_cas22.loc[i][\"spectral_sqrt_cosine\"])\n",
    "\n",
    "fig, axs = plt.subplots(1, 2, figsize=(12.8, 4.2), gridspec_kw={'width_ratios': [1, 3]}, sharey=False)\n",
    "img = df_cas22.loc[i][\"Metabolite\"].draw(ax= axs[0])\n",
    "\n",
    "axs[0].grid(False)\n",
    "axs[0].tick_params(axis='both', bottom=False, labelbottom=False, left=False, labelleft=False) \n",
    "axs[0].set_title(df_cas.loc[i][\"NAME\"])\n",
    "axs[0].imshow(img)\n",
    "axs[0].axis(\"off\")\n",
    "#sv.plot_spectrum(example, ax=axs[1])\n",
    "ax = sv.plot_spectrum({\"peaks\": df_cas22.loc[i][\"peaks\"]}, {\"peaks\": df_cas22.loc[i][\"sim_peaks\"]}, ax=axs[1])\n",
    "#axs[1].text(0.5, 0.5, 'matplotlib', horizontalalignment='center', verticalalignment='center', transform=axs[1].transAxes)\n",
    "plt.show()"
   ]
  },
  {
   "cell_type": "code",
   "execution_count": null,
   "metadata": {},
   "outputs": [],
   "source": [
    "fig, axs = plt.subplots(2, 1, figsize=(12, 14), sharex=True, gridspec_kw={'height_ratios': [1, 5]})\n",
    "plt.subplots_adjust(hspace=0.05)#right=0.975, left=0.11)\n",
    "#sns.histplot(ax=axs[0], data=df_cas22, x=\"coverage\", binwidth=0.02, kde_kws={\"bw_adjust\": 0.1}, multiple=\"stack\", kde=True, color=\"black\", palette=[\"black\", \"gray\"]) #hue=\"Precursor_type\", \n",
    "sns.kdeplot(ax=axs[0], data=df_cas22, x=\"coverage\", bw_adjust=0.2, color=\"black\", multiple=\"stack\", hue=\"Precursor_type\", palette=[\"black\", \"gray\"]) #hue=\"Precursor_type\", \n",
    "axs[0].spines['top'].set_visible(False)\n",
    "axs[0].spines['right'].set_visible(False)\n",
    "\n",
    "axs[0].set_title(\"Impact of coverage on cosine scores\")\n",
    "sns.scatterplot(ax=axs[1], data=df_cas22, x=\"coverage\", y=\"spectral_sqrt_cosine\", hue=\"spectral_sqrt_cosine\", hue_norm=(0, 1), palette=bluepink_grad)\n",
    "axs[1].set_ylabel(\"Cosine similarity\")\n",
    "axs[1].set_xlabel(\"Peak intensity coverage\")\n",
    "plt.show()"
   ]
  },
  {
   "cell_type": "code",
   "execution_count": null,
   "metadata": {},
   "outputs": [],
   "source": [
    "df_cas22.head(2)"
   ]
  },
  {
   "cell_type": "code",
   "execution_count": null,
   "metadata": {},
   "outputs": [],
   "source": [
    "df_cas22[\"library\"] = \"CASMI-22\"\n",
    "df_cas22[\"RETENTIONTIME\"] = df_cas22[\"ChallengeRT\"] # \"RT_min\"\n",
    "df_cas22[\"cfm_CE\"] = df_cas22[\"CE\"].apply(closest_cfm_ce)"
   ]
  },
  {
   "cell_type": "code",
   "execution_count": null,
   "metadata": {},
   "outputs": [],
   "source": [
    "import fiora.IO.cfmReader as cfmReader\n",
    "# time CFM-ID 4: -> 12m16,571s\n",
    "\n",
    "\n",
    "\n",
    "cf22 = cfmReader.read(f\"{home}/data/metabolites/cfm-id/casmi22_negative_predictions.txt\", as_df=True)\n",
    "cf22_p = cfmReader.read(f\"{home}/data/metabolites/cfm-id/casmi22_positive_predictions.txt\", as_df=True)\n",
    "cf22 = pd.concat([cf22, cf22_p])"
   ]
  },
  {
   "cell_type": "code",
   "execution_count": null,
   "metadata": {},
   "outputs": [],
   "source": [
    "df_cas22[\"cfm_peaks\"] = None\n",
    "df_cas22[[\"cfm_cosine\", \"cfm_sqrt_cosine\", \"cfm_refl_cosine\"]] = np.nan\n",
    "for i, cas in df_cas22.iterrows():\n",
    "    challenge = cas[\"ChallengeName\"]\n",
    "\n",
    "    if len(cf22[cf22[\"#ID\"] == challenge]) != 1:\n",
    "        print(f\"{challenge} not found in CFM-ID results. Skipping.\")\n",
    "        continue\n",
    "    cfm_data = cf22[cf22[\"#ID\"] == challenge].iloc[0]\n",
    "    \n",
    "    \n",
    "    if cas[\"ChallengeName\"] != cfm_data[\"#ID\"]:\n",
    "        raise ValueError(\"Wrong challenge matched\")\n",
    "    cfm_peaks = cfm_data[\"peaks\" + cas[\"cfm_CE\"]] # find best reference CE\n",
    "    df_cas22.at[i, \"cfm_peaks\"] = cfm_peaks\n",
    "    df_cas22.at[i, \"cfm_cosine\"] = spectral_cosine(cas[\"peaks\"], cfm_peaks)\n",
    "    df_cas22.at[i, \"cfm_sqrt_cosine\"] = spectral_cosine(cas[\"peaks\"], cfm_peaks, transform=np.sqrt)\n",
    "    df_cas22.at[i, \"cfm_refl_cosine\"] = spectral_reflection_cosine(cas[\"peaks\"], cfm_peaks, transform=np.sqrt)\n",
    "    df_cas22.at[i, \"cfm_steins\"] = reweighted_dot(cas[\"peaks\"], cfm_peaks)"
   ]
  },
  {
   "cell_type": "code",
   "execution_count": null,
   "metadata": {},
   "outputs": [],
   "source": [
    "fig, axs = plt.subplots(1, 2, figsize=(18, 8.6), sharey=True)\n",
    "sns.boxplot(ax=axs[0], data=df_cas22, y=\"spectral_sqrt_cosine\", x=\"Precursor_type\", hue=\"NCE\", palette=bluepink_grad8[-3:][::-1])\n",
    "axs[0].set_title(\"Spectral cosine similarity of sqrt intensities\")\n",
    "sns.boxplot(ax=axs[1], data=df_cas22, y=\"cfm_sqrt_cosine\", x=\"Precursor_type\", hue=\"NCE\", palette=bluepink_grad8)\n",
    "\n",
    "plt.show()"
   ]
  },
  {
   "cell_type": "code",
   "execution_count": null,
   "metadata": {},
   "outputs": [],
   "source": [
    "dgnn = pd.DataFrame({\"cosine\": df_cas22[\"spectral_sqrt_cosine\"], \"refl_cosine\": df_cas22[\"spectral_refl_cosine\"], \"ion_mode\": df_cas22[\"Precursor_type\"], \"challenge_num\": df_cas22[\"ChallengeNum\"],  \"model\": \"GNN-based fragmentation\"})\n",
    "dcfm = pd.DataFrame({\"cosine\": df_cas22[\"cfm_sqrt_cosine\"], \"refl_cosine\": df_cas22[\"cfm_refl_cosine\"], \"ion_mode\": df_cas22[\"Precursor_type\"], \"challenge_num\": df_cas22[\"ChallengeNum\"], \"model\": \"CFM-ID 4.4.7\"})\n",
    "\n",
    "D = pd.concat([dgnn, dcfm], axis=0, ignore_index=True)\n",
    "#D = pd.concat([dgnn[dgnn[\"challenge_num\"] < 250], dcfm[dcfm[\"challenge_num\"] <= 250]], axis=0)\n",
    "\n",
    "\n",
    "fig, ax = plt.subplots(1, 1, figsize=(10, 6.6), sharey=False)\n",
    "\n",
    "sns.boxplot(ax=ax, data=D, y=\"cosine\", x=\"ion_mode\", hue=\"model\", palette=bluepink[:2], order=[\"[M+H]+\", \"[M-H]-\"])\n",
    "#sns.boxplot(ax=axs[0], data=D, y=\"cosine\", x=\"model\", hue=\"ion_mode\", palette=bluepink[:1] * 2 + bluepink[:1] * 2)\n",
    "ax.set_title(\"Spectral cosine similarity of CASMI-22 predictions\")\n",
    "plt.xlabel(\"\")\n",
    "plt.legend(loc=\"lower right\")\n",
    "plt.subplots_adjust(right=0.975, left=0.11) #TODO FIX error\n",
    "adjust_box_widths(fig, 0.95)\n",
    "#set_all_font_sizes(18)\n",
    "#plt.savefig(f\"{home}/images/cosine_boxplot.svg\", format=\"svg\")\n",
    "plt.show()"
   ]
  },
  {
   "cell_type": "code",
   "execution_count": null,
   "metadata": {},
   "outputs": [],
   "source": [
    "fig, ax = plt.subplots(1, 1, figsize=(10, 6.6), sharey=False)\n",
    "\n",
    "sns.boxplot(ax=ax, data=D, y=\"refl_cosine\", x=\"ion_mode\", hue=\"model\", palette=bluepink[:2], order=[\"[M+H]+\", \"[M-H]-\"])\n",
    "ax.set_title(\"Spectral cosine similarity of CASMI-22 predictions\")\n",
    "plt.xlabel(\"\")\n",
    "plt.legend(loc=\"lower right\")\n",
    "plt.subplots_adjust(right=0.975, left=0.11)\n",
    "adjust_box_widths(fig, 0.95)\n",
    "plt.show()"
   ]
  },
  {
   "cell_type": "code",
   "execution_count": null,
   "metadata": {},
   "outputs": [],
   "source": [
    "df_cas[\"test_set\"] = \"CASMI-16\"\n",
    "df_cas22[\"test_set\"] = \"CASMI-22\"\n",
    "df_val[\"test_set\"] = \"Validation\""
   ]
  },
  {
   "cell_type": "markdown",
   "metadata": {},
   "source": [
    "## Benchmark"
   ]
  },
  {
   "cell_type": "code",
   "execution_count": null,
   "metadata": {},
   "outputs": [],
   "source": [
    "score = \"spectral_sqrt_cosine\"\n",
    "fiora_res = {\"model\": \"Fiora\", \"CASMI16\": np.median(df_cas[score.replace(\"spectral\", \"merged\")]), \"CASMI22\": np.median(df_cas22[score])} \n",
    "cfm_id = {\"model\": \"CFM-ID 4.4.7\", \"CASMI16\": np.median(df_cas[score.replace(\"spectral\", \"cfm\")].dropna()), \"CASMI22\": np.median(df_cas22[score.replace(\"spectral\", \"cfm\")])} \n",
    "\n",
    "summary = pd.DataFrame( [fiora_res, cfm_id])\n",
    "print(\"Summary test sets\")\n",
    "summary"
   ]
  },
  {
   "cell_type": "code",
   "execution_count": null,
   "metadata": {},
   "outputs": [],
   "source": [
    "score = \"spectral_sqrt_cosine\"\n",
    "fiora_res = {\"model\": \"Fiora\", \"CASMI16+\": np.median(df_cas[df_cas[\"Precursor_type\"] == \"[M+H]+\"][score.replace(\"spectral\", \"merged\")]), \"CASMI16-\":np.median(df_cas[df_cas[\"Precursor_type\"] == \"[M-H]-\"][score.replace(\"spectral\", \"merged\")]), \"CASMI16T+\": np.median(df_cast[df_cast[\"Precursor_type\"] == \"[M+H]+\"][score.replace(\"spectral\", \"merged\")]), \"CASMI16T-\":np.median(df_cast[df_cast[\"Precursor_type\"] == \"[M-H]-\"][score.replace(\"spectral\", \"merged\")]), \"CASMI22+\": np.median(df_cas22[df_cas22[\"Precursor_type\"] == \"[M+H]+\"][score]), \"CASMI22-\": np.median(df_cas22[df_cas22[\"Precursor_type\"] == \"[M-H]-\"][score])} \n",
    "cfm_id = {\n",
    "    \"model\": \"CFM-ID 4.4.7\", \"CASMI16+\": np.median(df_cas[df_cas[\"Precursor_type\"] == \"[M+H]+\"][score.replace(\"spectral\", \"cfm\")]), \"CASMI16-\": np.median(df_cas[df_cas[\"Precursor_type\"] == \"[M-H]-\"][score.replace(\"spectral\", \"cfm\")].dropna()), \"CASMI22+\": np.median(df_cas22[df_cas22[\"Precursor_type\"] == \"[M+H]+\"][score.replace(\"spectral\", \"cfm\")]), \"CASMI22-\": np.median(df_cas22[df_cas22[\"Precursor_type\"] == \"[M-H]-\"][score.replace(\"spectral\", \"cfm\")])} \n",
    "\n",
    "summaryPos = pd.DataFrame( [fiora_res, cfm_id])\n",
    "print(\"Summary test sets\")\n",
    "summaryPos"
   ]
  },
  {
   "cell_type": "markdown",
   "metadata": {
    "jp-MarkdownHeadingCollapsed": true
   },
   "source": [
    "#### Tanimoto\n"
   ]
  },
  {
   "cell_type": "code",
   "execution_count": null,
   "metadata": {},
   "outputs": [],
   "source": [
    "raise KeyboardInterrupt()\n",
    "\n",
    "df_cas.loc[:,\"tanimoto\"] = np.nan\n",
    "for i,d in df_cas.iterrows():\n",
    "    df_cas.at[i, \"tanimoto\"] = df_train[\"Metabolite\"].apply(lambda x: x.tanimoto_similarity(d[\"Metabolite\"])).max()\n",
    "    \n",
    "df_cas22.loc[:,\"tanimoto\"] = np.nan\n",
    "for i,d in df_cas22.iterrows():\n",
    "    df_cas22.at[i, \"tanimoto\"] = df_train[\"Metabolite\"].apply(lambda x: x.tanimoto_similarity(d[\"Metabolite\"])).max()\n",
    "    \n",
    "df_val.loc[:,\"tanimoto\"] = np.nan\n",
    "for i,d in df_val.iterrows():\n",
    "    df_val.at[i, \"tanimoto\"] = df_train[\"Metabolite\"].apply(lambda x: x.tanimoto_similarity(d[\"Metabolite\"])).max()"
   ]
  },
  {
   "cell_type": "code",
   "execution_count": null,
   "metadata": {},
   "outputs": [],
   "source": [
    "fig, ax = plt.subplots(1,1, figsize=(12, 6))\n",
    "sns.boxplot(data=df_cas, x=pd.cut(df_cas['tanimoto'], bins=[x/10.0 for x in list(range(0,10,1))]), y=\"merged_sqrt_cosine\") #multiple=\"dodge\", common_norm=False, stat=\"density\") #multiple=\"dodge\", common_norm=False, stat=\"density\")\n",
    "plt.ylim([0, 1])\n",
    "plt.show()\n",
    "\n",
    "\n",
    "fig, ax = plt.subplots(1,1, figsize=(12, 6))\n",
    "sns.boxplot(data=df_val, x=pd.cut(df_val['tanimoto'], bins=[x/10.0 for x in list(range(0,10,1))]), y=\"spectral_sqrt_cosine\") #multiple=\"dodge\", common_norm=False, stat=\"density\") #multiple=\"dodge\", common_norm=False, stat=\"density\")\n",
    "plt.ylim([0, 1])\n",
    "plt.show()\n"
   ]
  },
  {
   "cell_type": "code",
   "execution_count": null,
   "metadata": {},
   "outputs": [],
   "source": [
    "fig, ax = plt.subplots(1,1, figsize=(12, 6))\n",
    "C = pd.concat([df_val, df_cas, df_cas22])\n",
    "sns.pointplot(data=C, x=pd.cut(C['tanimoto'], bins=[x/10.0 for x in list(range(0,10,1))]), y=\"spectral_sqrt_cosine\", palette=tri_palette, capsize=.2, hue=\"test_set\", dodge=0.3) #multiple=\"dodge\", common_norm=False, stat=\"density\") #multiple=\"dodge\", common_norm=False, stat=\"density\")\n",
    "plt.ylim([0, 1])\n",
    "plt.show()"
   ]
  },
  {
   "attachments": {},
   "cell_type": "markdown",
   "metadata": {},
   "source": [
    "### RETENTION TIME"
   ]
  },
  {
   "cell_type": "code",
   "execution_count": null,
   "metadata": {},
   "outputs": [],
   "source": [
    "import scipy\n",
    "\n",
    "df_val_unique = df_val.drop_duplicates(subset='SMILES', keep='first')\n",
    "df_cas22_unique = df_cas22.drop_duplicates(subset='SMILES', keep='first')\n",
    "\n",
    "#\n",
    "# Recalibration\n",
    "#\n",
    "\n",
    "\n",
    "df_val_unique[\"RT_pred_cal\"] = df_val_unique[\"RT_pred\"]\n",
    "\n",
    "confident_ids = df_cas.sort_values(by=\"merged_sqrt_cosine\", ascending=False).dropna(subset=[\"RETENTIONTIME\"]).head(10)\n",
    "rt_slope, rt_intercept, r_value, p_value, std_err = scipy.stats.linregress(confident_ids[\"RT_pred\"].astype(float), confident_ids[\"RETENTIONTIME\"])\n",
    "df_cas[\"RT_pred_cal\"] = rt_intercept + df_cas[\"RT_pred\"] * rt_slope \n",
    "\n",
    "\n",
    "confident_ids = df_cas22_unique.sort_values(by=\"spectral_sqrt_cosine\", ascending=False).dropna(subset=[\"RETENTIONTIME\"]).head(10)\n",
    "rt_slope, rt_intercept, r_value, p_value, std_err = scipy.stats.linregress(confident_ids[\"RT_pred\"].astype(float), confident_ids[\"RETENTIONTIME\"])\n",
    "df_cas22_unique[\"RT_pred_cal\"] = rt_intercept + df_cas22_unique[\"RT_pred\"] * rt_slope "
   ]
  },
  {
   "cell_type": "code",
   "execution_count": null,
   "metadata": {},
   "outputs": [],
   "source": [
    "RT = pd.concat([df_val_unique[[\"RETENTIONTIME\", \"RT_pred\", \"RT_pred_cal\", \"RT_dif\", \"library\"]], df_cas[[\"RETENTIONTIME\", \"RT_pred\", \"RT_pred_cal\", \"RT_dif\", \"library\"]], df_cas22_unique[[\"RETENTIONTIME\", \"RT_pred\", \"RT_pred_cal\", \"RT_dif\", \"library\"]]], ignore_index=True)\n",
    "RT = RT.dropna(subset=[\"RETENTIONTIME\"])\n",
    "RT[\"RT_rel_dif\"] = RT[\"RT_dif\"] / RT[\"RETENTIONTIME\"]"
   ]
  },
  {
   "cell_type": "code",
   "execution_count": null,
   "metadata": {},
   "outputs": [],
   "source": [
    "\n",
    "fig, axs = plt.subplots(1, 2, figsize=(12, 8), gridspec_kw={'width_ratios': [5, 2]}, sharey=False)\n",
    "plt.subplots_adjust(wspace=0.1)\n",
    "\n",
    "sns.scatterplot(ax=axs[0], data=RT, x=\"RETENTIONTIME\", y=\"RT_pred_cal\", hue=\"library\", palette=tri_palette,  style=\"library\", color=\"gray\")\n",
    "axs[0].set_ylim([0,30])\n",
    "axs[0].set_xlim([0,30])\n",
    "axs[0].set_ylabel(\"Predicted retention time\")\n",
    "axs[0].set_xlabel(\"Observed retention time\")\n",
    "sns.lineplot(ax=axs[0], x=[0,100], y=[0,100], color=\"black\")\n",
    "\n",
    "sns.boxplot(ax=axs[1], data=RT, y=\"RT_dif\", palette=tri_palette, x=\"library\", showfliers=False)\n",
    "axs[1].set_xlabel(\"\")\n",
    "axs[1].set_ylabel(\"RT difference (in minutes)\")\n",
    "axs[1].yaxis.set_label_position(\"right\")\n",
    "axs[1].yaxis.tick_right()\n",
    "plt.show()"
   ]
  },
  {
   "cell_type": "code",
   "execution_count": null,
   "metadata": {},
   "outputs": [],
   "source": [
    "print(np.corrcoef(RT[\"RETENTIONTIME\"].values, RT[\"RT_pred_cal\"].values, dtype=float)[0,1])\n",
    "print(np.corrcoef(df_val_unique.dropna(subset=[\"RETENTIONTIME\"])[\"RETENTIONTIME\"], df_val_unique.dropna(subset=[\"RETENTIONTIME\"])[\"RT_pred\"], dtype=float)[0,1], np.corrcoef(df_cas[\"RETENTIONTIME\"], df_cas[\"RT_pred\"], dtype=float)[0,1], np.corrcoef(df_cas22_unique[\"RETENTIONTIME\"], df_cas22_unique[\"RT_pred\"], dtype=float)[0,1])"
   ]
  },
  {
   "cell_type": "code",
   "execution_count": null,
   "metadata": {},
   "outputs": [],
   "source": [
    "fig, axs = plt.subplots(2, 1, figsize=(12, 14), gridspec_kw={'height_ratios': [1, 5]}, sharex=True)\n",
    "plt.subplots_adjust(wspace=0.1, hspace=0.05)\n",
    "\n",
    "\n",
    "#sns.histplot(ax=axs[0], data=df_val_unique, x=\"coverage\", binwidth=0.02, kde_kws={\"bw_adjust\": 0.1}, multiple=\"stack\", kde=True, color=\"black\", palette=[\"black\", \"gray\"]) #hue=\"Precursor_type\", \n",
    "sns.kdeplot(ax=axs[0], data=RT, x=\"RETENTIONTIME\", bw_adjust=0.25, color=\"black\", multiple=\"layer\", hue=\"library\", palette=tri_palette) #hue=\"Precursor_type\", \n",
    "axs[0].spines['top'].set_visible(False)\n",
    "axs[0].spines['right'].set_visible(False)\n",
    "\n",
    "\n",
    "sns.scatterplot(ax=axs[1], data=df_val_unique, x=\"RETENTIONTIME\", y=\"RT_pred_cal\", color=\"gray\")#, hue=\"library\", palette=tri_palette,  style=\"library\", color=\"gray\")\n",
    "axs[1].set_ylim([0,df_val_unique[\"RETENTIONTIME\"].max() + 1 ])\n",
    "axs[1].set_xlim([0,df_val_unique[\"RETENTIONTIME\"].max() + 1])\n",
    "axs[1].set_ylabel(\"Predicted retention time\")\n",
    "axs[1].set_xlabel(\"Observed retention time\")\n",
    "line = [0, 100]\n",
    "sns.lineplot(ax=axs[1], x=line, y=line, color=\"black\")\n",
    "sns.lineplot(ax=axs[1], x=line, y=[x + 20/60.0 for x in line], color=\"black\", linestyle='--')\n",
    "sns.lineplot(ax=axs[1], x=line, y=[x - 20/60.0 for x in line], color=\"black\", linestyle='--')"
   ]
  },
  {
   "cell_type": "markdown",
   "metadata": {},
   "source": [
    "Let's align retention times"
   ]
  },
  {
   "cell_type": "markdown",
   "metadata": {},
   "source": [
    "#### CCS"
   ]
  },
  {
   "cell_type": "code",
   "execution_count": null,
   "metadata": {},
   "outputs": [],
   "source": [
    "\n",
    "fig, axs = plt.subplots(2, 1, figsize=(12, 14), gridspec_kw={'height_ratios': [1, 5]}, sharex=True)\n",
    "plt.subplots_adjust(wspace=0.1, hspace=0.05)\n",
    "\n",
    "# df_val_unique = df_val.drop_duplicates(subset='SMILES', keep='first')\n",
    "# df_cas22_unique = df_cas22.drop_duplicates(subset='SMILES', keep='first')\n",
    "\n",
    "CCS = pd.concat([df_val_unique[[\"CCS\", \"CCS_pred\", \"library\"]], df_cas[[\"CCS\", \"CCS_pred\", \"library\"]], df_cas22_unique[[\"CCS\", \"CCS_pred\", \"library\"]] ], ignore_index=True)\n",
    "\n",
    "\n",
    "#sns.histplot(ax=axs[0], data=df_val_unique, x=\"coverage\", binwidth=0.02, kde_kws={\"bw_adjust\": 0.1}, multiple=\"stack\", kde=True, color=\"black\", palette=[\"black\", \"gray\"]) #hue=\"Precursor_type\", \n",
    "sns.kdeplot(ax=axs[0], data=CCS, x=\"CCS\", bw_adjust=0.25, color=\"black\", multiple=\"stack\") #hue=\"Precursor_type\", palette=[\"black\", \"gray\"]) #hue=\"Precursor_type\", \n",
    "axs[0].spines['top'].set_visible(False)\n",
    "axs[0].spines['right'].set_visible(False)\n",
    "\n",
    "\n",
    "sns.scatterplot(ax=axs[1], data=CCS, x=\"CCS\", y=\"CCS_pred\", s=25, hue=\"library\", palette=tri_palette, style=\"library\", color=\"gray\")#, color=\"blue\", edgecolor=\"blue\")#, \n",
    "axs[1].set_ylim([df_val_unique[\"CCS\"].min() - 10,df_val_unique[\"CCS\"].max() + 10])\n",
    "axs[1].set_xlim([df_val_unique[\"CCS\"].min() - 10,df_val_unique[\"CCS\"].max() + 10])\n",
    "axs[1].set_ylabel(\"Predicted CCS\")\n",
    "axs[1].set_xlabel(\"Observed CCS\")\n",
    "line=[df_val_unique[\"CCS\"].min() - 10,df_val_unique[\"CCS\"].max() + 10]\n",
    "sns.lineplot(ax=axs[1], x=line, y=line, color=\"black\")\n",
    "sns.lineplot(ax=axs[1], x=line, y=[1.1*x for x in line], color=\"black\", linestyle='--')\n",
    "sns.lineplot(ax=axs[1], x=line, y=[0.9*x for x in line], color=\"black\", linestyle='--')\n",
    "plt.show()"
   ]
  },
  {
   "cell_type": "code",
   "execution_count": null,
   "metadata": {},
   "outputs": [],
   "source": [
    "df_val.head(2)"
   ]
  },
  {
   "cell_type": "code",
   "execution_count": null,
   "metadata": {},
   "outputs": [],
   "source": [
    "df_val.columns"
   ]
  },
  {
   "cell_type": "code",
   "execution_count": null,
   "metadata": {
    "jupyter": {
     "source_hidden": true
    }
   },
   "outputs": [],
   "source": [
    "\n",
    "fig, axs = plt.subplots(2, 1, figsize=(12, 14), gridspec_kw={'height_ratios': [1, 5]}, sharex=True)\n",
    "plt.subplots_adjust(wspace=0.1, hspace=0.05)\n",
    "\n",
    "# df_val_unique = df_val.drop_duplicates(subset='SMILES', keep='first')\n",
    "# df_cas22_unique = df_cas22.drop_duplicates(subset='SMILES', keep='first')\n",
    "\n",
    "CCS = pd.concat([df_val_unique[[\"CCS\", \"CCS_pred\", \"library\"]], df_cas[[\"CCS\", \"CCS_pred\", \"library\"]], df_cas22_unique[[\"CCS\", \"CCS_pred\", \"library\"]] ], ignore_index=True)\n",
    "\n",
    "\n",
    "#sns.histplot(ax=axs[0], data=df_val_unique, x=\"coverage\", binwidth=0.02, kde_kws={\"bw_adjust\": 0.1}, multiple=\"stack\", kde=True, color=\"black\", palette=[\"black\", \"gray\"]) #hue=\"Precursor_type\", \n",
    "sns.kdeplot(ax=axs[0], data=CCS, x=\"CCS\", bw_adjust=0.25, color=\"black\", multiple=\"stack\") #hue=\"Precursor_type\", palette=[\"black\", \"gray\"]) #hue=\"Precursor_type\", \n",
    "axs[0].spines['top'].set_visible(False)\n",
    "axs[0].spines['right'].set_visible(False)\n",
    "\n",
    "\n",
    "sns.scatterplot(ax=axs[1], data=CCS, x=\"CCS\", y=\"CCS_pred\", s=25, hue=\"library\", palette=tri_palette, style=\"library\", color=\"gray\")#, color=\"blue\", edgecolor=\"blue\")#, \n",
    "axs[1].set_ylim([df_val_unique[\"CCS\"].min() - 10,df_val_unique[\"CCS\"].max() + 10])\n",
    "axs[1].set_xlim([df_val_unique[\"CCS\"].min() - 10,df_val_unique[\"CCS\"].max() + 10])\n",
    "axs[1].set_ylabel(\"Predicted CCS\")\n",
    "axs[1].set_xlabel(\"Observed CCS\")\n",
    "line=[df_val_unique[\"CCS\"].min() - 10,df_val_unique[\"CCS\"].max() + 10]\n",
    "sns.lineplot(ax=axs[1], x=line, y=line, color=\"black\")\n",
    "sns.lineplot(ax=axs[1], x=line, y=[1.1*x for x in line], color=\"black\", linestyle='--')\n",
    "sns.lineplot(ax=axs[1], x=line, y=[0.9*x for x in line], color=\"black\", linestyle='--')\n",
    "plt.show()"
   ]
  },
  {
   "cell_type": "code",
   "execution_count": null,
   "metadata": {
    "jupyter": {
     "source_hidden": true
    }
   },
   "outputs": [],
   "source": [
    "print(\"Pearson Corr Coef:\")\n",
    "print(\"GNN\", np.corrcoef(df_val_unique.dropna(subset=[\"CCS\"])[\"CCS\"], df_val_unique.dropna(subset=[\"CCS\"])[\"CCS_pred\"].dropna(), dtype=float)[0,1])\n",
    "print(\"pMZ\", np.corrcoef(df_val_unique.dropna(subset=[\"CCS\"])[\"CCS\"], df_val_unique.dropna(subset=[\"CCS\"])[\"PrecursorMZ\"].dropna(), dtype=float)[0,1])\n",
    "\n",
    "slope, intercept, r_value, p_value, std_err = scipy.stats.linregress(df_train.dropna(subset=[\"CCS\"])[\"PRECURSORMZ\"], df_train.dropna(subset=[\"CCS\"])[\"CCS\"])\n",
    "print(\"R2\")\n",
    "print(\"GNN\", r2_score(df_val_unique.dropna(subset=[\"CCS\"])[\"CCS\"], df_val_unique.dropna(subset=[\"CCS\"])[\"CCS_pred\"].dropna()))\n",
    "print(\"pMZ\", r2_score(df_val_unique.dropna(subset=[\"CCS\"])[\"CCS\"], intercept + slope *df_val_unique.dropna(subset=[\"CCS\"])[\"PrecursorMZ\"].dropna()))"
   ]
  },
  {
   "cell_type": "code",
   "execution_count": null,
   "metadata": {
    "jupyter": {
     "source_hidden": true
    }
   },
   "outputs": [],
   "source": [
    "print(\"Pearson Corr Coef:\")\n",
    "print(\"GNN\", np.corrcoef(df_cas.dropna(subset=[\"CCS\"])[\"CCS\"], df_cas.dropna(subset=[\"CCS\"])[\"CCS_pred\"].dropna(), dtype=float)[0,1])\n",
    "print(\"pMZ\", np.corrcoef(df_cas.dropna(subset=[\"CCS\"])[\"CCS\"], df_cas.dropna(subset=[\"CCS\"])[\"PRECURSOR_MZ\"].dropna(), dtype=float)[0,1])\n",
    "\n",
    "slope, intercept, r_value, p_value, std_err = scipy.stats.linregress(df_train.dropna(subset=[\"CCS\"])[\"PrecursorMZ\"], df_train.dropna(subset=[\"CCS\"])[\"CCS\"])\n",
    "print(\"R2\")\n",
    "print(\"GNN\", r2_score(df_cas.dropna(subset=[\"CCS\"])[\"CCS\"], df_cas.dropna(subset=[\"CCS\"])[\"CCS_pred\"].dropna()))\n",
    "print(\"pMZ\", r2_score(df_cas.dropna(subset=[\"CCS\"])[\"CCS\"], intercept + slope *df_cas.dropna(subset=[\"CCS\"])[\"PRECURSOR_MZ\"].dropna()))"
   ]
  },
  {
   "cell_type": "code",
   "execution_count": null,
   "metadata": {
    "jupyter": {
     "source_hidden": true
    }
   },
   "outputs": [],
   "source": [
    "# names = df_cas[\"NAME\"]\n",
    "# print(df_cas[[\"NAME\", \"RTINSECONDS\", \"RETENTIONTIME\", \"RT_pred\", \"ChallengeName\"]]) \n",
    "# # TODO which RT to use for CASMI22 -> ChallengeRT"
   ]
  },
  {
   "cell_type": "code",
   "execution_count": null,
   "metadata": {
    "jupyter": {
     "source_hidden": true
    }
   },
   "outputs": [],
   "source": [
    "# library_name = \"ms_dial_filtered_min2_08_2023\"\n",
    "# library_directory = f\"{home}/data/metabolites/MS_DIAL/\"\n",
    "# L = LibraryLoader()\n",
    "\n",
    "# ff = L.load_from_csv(library_directory + library_name + \".csv\")\n",
    "ff = load_msdial()"
   ]
  },
  {
   "cell_type": "code",
   "execution_count": null,
   "metadata": {
    "jupyter": {
     "source_hidden": true
    }
   },
   "outputs": [],
   "source": [
    "# ff[\"ONTOLOGY\"].apply(lambda x: \"Flufenoxuron\" in str(x)).any()\n",
    "# any(ff[\"NAME\"] == \"5-Aminonaphthalene-2-sulfonic acid\")\n",
    "# ff[ff[\"NAME\"] == \"Azathioprine\"][[\"RETENTIONTIME\", \"Instrument_type\"]]"
   ]
  },
  {
   "cell_type": "code",
   "execution_count": null,
   "metadata": {
    "jupyter": {
     "source_hidden": true
    }
   },
   "outputs": [],
   "source": [
    "# c = 0\n",
    "# for i, d in df_cas.iterrows():\n",
    "#     n = d[\"NAME\"]\n",
    "#     rt_train = ff[ff[\"NAME\"] == n][\"RETENTIONTIME\"].mean()\n",
    "    \n",
    "#     if abs(d[\"RETENTIONTIME\"] - rt_train) > 1:\n",
    "#         c+=1\n",
    "# c"
   ]
  },
  {
   "cell_type": "code",
   "execution_count": null,
   "metadata": {
    "jupyter": {
     "source_hidden": true
    }
   },
   "outputs": [],
   "source": [
    "# grouped_mean = df.groupby('NAME')['RETENTIONTIME'].mean()\n",
    "# df = df.merge(grouped_mean, on='NAME', suffixes=('', '_MEAN'))\n",
    "# df['DISTANCE_TO_MEAN'] = (df['RETENTIONTIME'] - df['RETENTIONTIME_MEAN'])**2\n",
    "# grouped_std = df.groupby('NAME')['DISTANCE_TO_MEAN'].mean().apply(lambda x: x**0.5)"
   ]
  },
  {
   "cell_type": "code",
   "execution_count": null,
   "metadata": {
    "jupyter": {
     "source_hidden": true
    }
   },
   "outputs": [],
   "source": [
    "def double_mirrorplot22(i, model_title=\"Fiora\"):\n",
    "    fig, axs = plt.subplots(1, 3, figsize=(16.8, 4.2), gridspec_kw={'width_ratios': [1, 3, 3]}, sharey=False)\n",
    "    \n",
    "    plt.subplots_adjust(right=0.975, left=0.025)\n",
    "    \n",
    "    img = df_cas22.iloc[i][\"Metabolite\"].draw(ax= axs[0])\n",
    "\n",
    "    axs[0].grid(False)\n",
    "    axs[0].tick_params(axis='both', bottom=False, labelbottom=False, left=False, labelleft=False) \n",
    "    axs[0].set_title(df_cas22.iloc[i][\"ChallengeName\"])\n",
    "    axs[0].imshow(img)\n",
    "    axs[0].axis(\"off\")\n",
    "\n",
    "    sv.plot_spectrum({\"peaks\": df_cas22.iloc[i][\"peaks\"]}, {\"peaks\": df_cas22.iloc[i][\"sim_peaks\"]}, ax=axs[1])\n",
    "    axs[1].title.set_text(model_title)\n",
    "    patch1 = mpatches.Patch(color='limegreen' if df_cas22.iloc[i][\"cfm_sqrt_cosine\"] < df_cas22.iloc[i][\"spectral_sqrt_cosine\"] else \"orangered\", label=f'cosine {df_cas22.iloc[i][\"spectral_sqrt_cosine\"]:.02f}')\n",
    "    axs[1].legend(handles=[patch1])\n",
    "\n",
    "    sv.plot_spectrum({\"peaks\": df_cas22.iloc[i][\"peaks\"]}, {\"peaks\": df_cas22.iloc[i][\"cfm_peaks\"]} if df_cas22.iloc[i][\"cfm_peaks\"] else {\"peaks\": {\"mz\": [0], \"intensity\": [0]}}, ax=axs[2])\n",
    "    axs[2].title.set_text(f'CFM-ID 4.4.7')\n",
    "    \n",
    "    patch2 = mpatches.Patch(color='limegreen' if df_cas22.iloc[i][\"cfm_sqrt_cosine\"] > df_cas22.iloc[i][\"spectral_sqrt_cosine\"] else \"orangered\", label=f'cosine {df_cas22.iloc[i][\"cfm_sqrt_cosine\"]:.02f}', )\n",
    "    axs[2].legend(handles=[patch2])\n",
    "    \n",
    "    return fig, axs\n"
   ]
  },
  {
   "cell_type": "code",
   "execution_count": null,
   "metadata": {},
   "outputs": [],
   "source": [
    "# plot_examples = False\n",
    "# higher = 0\n",
    "# lower = 0\n",
    "# for i in range(df_cas22.shape[0]):\n",
    "#     print(i)\n",
    "#     if plot_examples:\n",
    "#         fig, axs = double_mirrorplot22(i)    \n",
    "#         plt.show()\n",
    "#     if df_cas22.iloc[i][\"cfm_sqrt_cosine\"] > df_cas22.iloc[i][\"spectral_sqrt_cosine\"]:\n",
    "#         lower += 1\n",
    "#     if df_cas22.iloc[i][\"spectral_sqrt_cosine\"] > df_cas22.iloc[i][\"cfm_sqrt_cosine\"]:\n",
    "#         higher += 1"
   ]
  },
  {
   "cell_type": "code",
   "execution_count": null,
   "metadata": {},
   "outputs": [],
   "source": []
  },
  {
   "cell_type": "code",
   "execution_count": null,
   "metadata": {},
   "outputs": [],
   "source": [
    "df_val[\"pp\"] = df_val[\"Metabolite\"].apply(lambda x: (x.precursor_count / (sum(x.compiled_countsALL) / 2.0)).tolist() )"
   ]
  },
  {
   "cell_type": "code",
   "execution_count": null,
   "metadata": {},
   "outputs": [],
   "source": [
    "sns.histplot(df_val, x=\"pp\", hue=\"PRECURSORTYPE\", multiple=\"dodge\", common_norm=False, stat=\"density\")"
   ]
  },
  {
   "cell_type": "code",
   "execution_count": null,
   "metadata": {},
   "outputs": [],
   "source": [
    "sns.kdeplot(data=df_val, x=\"pp\", y=\"CE\", hue=\"Precursor_type\") #multiple=\"dodge\", common_norm=False, stat=\"density\")"
   ]
  },
  {
   "cell_type": "code",
   "execution_count": null,
   "metadata": {},
   "outputs": [],
   "source": [
    "import umap\n",
    "\n",
    "reducer = umap.UMAP(random_state=seed, n_neighbors=10, min_dist= 0.01)\n",
    "reducer.fit(ms2ds_vectors)"
   ]
  },
  {
   "cell_type": "code",
   "execution_count": 45,
   "metadata": {},
   "outputs": [
    {
     "ename": "KeyError",
     "evalue": "'dataset'",
     "output_type": "error",
     "traceback": [
      "\u001b[0;31m---------------------------------------------------------------------------\u001b[0m",
      "\u001b[0;31mKeyError\u001b[0m                                  Traceback (most recent call last)",
      "File \u001b[0;32m~/.local/lib/python3.10/site-packages/pandas/core/indexes/base.py:3805\u001b[0m, in \u001b[0;36mIndex.get_loc\u001b[0;34m(self, key)\u001b[0m\n\u001b[1;32m   3804\u001b[0m \u001b[38;5;28;01mtry\u001b[39;00m:\n\u001b[0;32m-> 3805\u001b[0m     \u001b[38;5;28;01mreturn\u001b[39;00m \u001b[38;5;28;43mself\u001b[39;49m\u001b[38;5;241;43m.\u001b[39;49m\u001b[43m_engine\u001b[49m\u001b[38;5;241;43m.\u001b[39;49m\u001b[43mget_loc\u001b[49m\u001b[43m(\u001b[49m\u001b[43mcasted_key\u001b[49m\u001b[43m)\u001b[49m\n\u001b[1;32m   3806\u001b[0m \u001b[38;5;28;01mexcept\u001b[39;00m \u001b[38;5;167;01mKeyError\u001b[39;00m \u001b[38;5;28;01mas\u001b[39;00m err:\n",
      "File \u001b[0;32mindex.pyx:167\u001b[0m, in \u001b[0;36mpandas._libs.index.IndexEngine.get_loc\u001b[0;34m()\u001b[0m\n",
      "File \u001b[0;32mindex.pyx:196\u001b[0m, in \u001b[0;36mpandas._libs.index.IndexEngine.get_loc\u001b[0;34m()\u001b[0m\n",
      "File \u001b[0;32mpandas/_libs/hashtable_class_helper.pxi:7081\u001b[0m, in \u001b[0;36mpandas._libs.hashtable.PyObjectHashTable.get_item\u001b[0;34m()\u001b[0m\n",
      "File \u001b[0;32mpandas/_libs/hashtable_class_helper.pxi:7089\u001b[0m, in \u001b[0;36mpandas._libs.hashtable.PyObjectHashTable.get_item\u001b[0;34m()\u001b[0m\n",
      "\u001b[0;31mKeyError\u001b[0m: 'dataset'",
      "\nThe above exception was the direct cause of the following exception:\n",
      "\u001b[0;31mKeyError\u001b[0m                                  Traceback (most recent call last)",
      "Cell \u001b[0;32mIn[45], line 1\u001b[0m\n\u001b[0;32m----> 1\u001b[0m \u001b[43mdf\u001b[49m\u001b[43m[\u001b[49m\u001b[38;5;124;43m\"\u001b[39;49m\u001b[38;5;124;43mdataset\u001b[39;49m\u001b[38;5;124;43m\"\u001b[39;49m\u001b[43m]\u001b[49m\u001b[38;5;241m.\u001b[39mvalue_counts()\n",
      "File \u001b[0;32m~/.local/lib/python3.10/site-packages/pandas/core/frame.py:4102\u001b[0m, in \u001b[0;36mDataFrame.__getitem__\u001b[0;34m(self, key)\u001b[0m\n\u001b[1;32m   4100\u001b[0m \u001b[38;5;28;01mif\u001b[39;00m \u001b[38;5;28mself\u001b[39m\u001b[38;5;241m.\u001b[39mcolumns\u001b[38;5;241m.\u001b[39mnlevels \u001b[38;5;241m>\u001b[39m \u001b[38;5;241m1\u001b[39m:\n\u001b[1;32m   4101\u001b[0m     \u001b[38;5;28;01mreturn\u001b[39;00m \u001b[38;5;28mself\u001b[39m\u001b[38;5;241m.\u001b[39m_getitem_multilevel(key)\n\u001b[0;32m-> 4102\u001b[0m indexer \u001b[38;5;241m=\u001b[39m \u001b[38;5;28;43mself\u001b[39;49m\u001b[38;5;241;43m.\u001b[39;49m\u001b[43mcolumns\u001b[49m\u001b[38;5;241;43m.\u001b[39;49m\u001b[43mget_loc\u001b[49m\u001b[43m(\u001b[49m\u001b[43mkey\u001b[49m\u001b[43m)\u001b[49m\n\u001b[1;32m   4103\u001b[0m \u001b[38;5;28;01mif\u001b[39;00m is_integer(indexer):\n\u001b[1;32m   4104\u001b[0m     indexer \u001b[38;5;241m=\u001b[39m [indexer]\n",
      "File \u001b[0;32m~/.local/lib/python3.10/site-packages/pandas/core/indexes/base.py:3812\u001b[0m, in \u001b[0;36mIndex.get_loc\u001b[0;34m(self, key)\u001b[0m\n\u001b[1;32m   3807\u001b[0m     \u001b[38;5;28;01mif\u001b[39;00m \u001b[38;5;28misinstance\u001b[39m(casted_key, \u001b[38;5;28mslice\u001b[39m) \u001b[38;5;129;01mor\u001b[39;00m (\n\u001b[1;32m   3808\u001b[0m         \u001b[38;5;28misinstance\u001b[39m(casted_key, abc\u001b[38;5;241m.\u001b[39mIterable)\n\u001b[1;32m   3809\u001b[0m         \u001b[38;5;129;01mand\u001b[39;00m \u001b[38;5;28many\u001b[39m(\u001b[38;5;28misinstance\u001b[39m(x, \u001b[38;5;28mslice\u001b[39m) \u001b[38;5;28;01mfor\u001b[39;00m x \u001b[38;5;129;01min\u001b[39;00m casted_key)\n\u001b[1;32m   3810\u001b[0m     ):\n\u001b[1;32m   3811\u001b[0m         \u001b[38;5;28;01mraise\u001b[39;00m InvalidIndexError(key)\n\u001b[0;32m-> 3812\u001b[0m     \u001b[38;5;28;01mraise\u001b[39;00m \u001b[38;5;167;01mKeyError\u001b[39;00m(key) \u001b[38;5;28;01mfrom\u001b[39;00m \u001b[38;5;21;01merr\u001b[39;00m\n\u001b[1;32m   3813\u001b[0m \u001b[38;5;28;01mexcept\u001b[39;00m \u001b[38;5;167;01mTypeError\u001b[39;00m:\n\u001b[1;32m   3814\u001b[0m     \u001b[38;5;66;03m# If we have a listlike key, _check_indexing_error will raise\u001b[39;00m\n\u001b[1;32m   3815\u001b[0m     \u001b[38;5;66;03m#  InvalidIndexError. Otherwise we fall through and re-raise\u001b[39;00m\n\u001b[1;32m   3816\u001b[0m     \u001b[38;5;66;03m#  the TypeError.\u001b[39;00m\n\u001b[1;32m   3817\u001b[0m     \u001b[38;5;28mself\u001b[39m\u001b[38;5;241m.\u001b[39m_check_indexing_error(key)\n",
      "\u001b[0;31mKeyError\u001b[0m: 'dataset'"
     ]
    }
   ],
   "source": [
    "df[\"dataset\"].value_counts()"
   ]
  },
  {
   "cell_type": "markdown",
   "metadata": {},
   "source": [
    "## Save\n"
   ]
  },
  {
   "cell_type": "code",
   "execution_count": 102,
   "metadata": {},
   "outputs": [
    {
     "data": {
      "text/html": [
       "<div>\n",
       "<style scoped>\n",
       "    .dataframe tbody tr th:only-of-type {\n",
       "        vertical-align: middle;\n",
       "    }\n",
       "\n",
       "    .dataframe tbody tr th {\n",
       "        vertical-align: top;\n",
       "    }\n",
       "\n",
       "    .dataframe thead th {\n",
       "        text-align: right;\n",
       "    }\n",
       "</style>\n",
       "<table border=\"1\" class=\"dataframe\">\n",
       "  <thead>\n",
       "    <tr style=\"text-align: right;\">\n",
       "      <th></th>\n",
       "      <th>Name</th>\n",
       "      <th>Synon</th>\n",
       "      <th>DB#</th>\n",
       "      <th>InChIKey</th>\n",
       "      <th>Precursor_type</th>\n",
       "      <th>Spectrum_type</th>\n",
       "      <th>PrecursorMZ</th>\n",
       "      <th>Instrument_type</th>\n",
       "      <th>Instrument</th>\n",
       "      <th>Ion_mode</th>\n",
       "      <th>...</th>\n",
       "      <th>num_unique_peaks_matched</th>\n",
       "      <th>num_conflicts_in_peak_matching</th>\n",
       "      <th>match_mode_counts</th>\n",
       "      <th>RETENTIONTIME</th>\n",
       "      <th>CCS</th>\n",
       "      <th>PPM_num</th>\n",
       "      <th>ppm_peak_tolerance</th>\n",
       "      <th>lib</th>\n",
       "      <th>origin</th>\n",
       "      <th>Ionization</th>\n",
       "    </tr>\n",
       "  </thead>\n",
       "  <tbody>\n",
       "    <tr>\n",
       "      <th>3</th>\n",
       "      <td>Sulfamethazine</td>\n",
       "      <td>$:00in-source</td>\n",
       "      <td>AU100802</td>\n",
       "      <td>ASWVTGNCAZCNNR-UHFFFAOYSA-N</td>\n",
       "      <td>[M+H]+</td>\n",
       "      <td>MS2</td>\n",
       "      <td>279.091000</td>\n",
       "      <td>Q-TOF</td>\n",
       "      <td>Bruker maXis Impact</td>\n",
       "      <td>P</td>\n",
       "      <td>...</td>\n",
       "      <td>9</td>\n",
       "      <td>0</td>\n",
       "      <td>{'[M+H]+': 36809, '[M]+': 24634, '[M-H]+': 621...</td>\n",
       "      <td>NaN</td>\n",
       "      <td>NaN</td>\n",
       "      <td>50</td>\n",
       "      <td>0.00005</td>\n",
       "      <td>MoNA</td>\n",
       "      <td>MoNA</td>\n",
       "      <td>ESI</td>\n",
       "    </tr>\n",
       "    <tr>\n",
       "      <th>4</th>\n",
       "      <td>Sulfamethazine</td>\n",
       "      <td>$:00in-source</td>\n",
       "      <td>AU100803</td>\n",
       "      <td>ASWVTGNCAZCNNR-UHFFFAOYSA-N</td>\n",
       "      <td>[M+H]+</td>\n",
       "      <td>MS2</td>\n",
       "      <td>279.091000</td>\n",
       "      <td>Q-TOF</td>\n",
       "      <td>Bruker maXis Impact</td>\n",
       "      <td>P</td>\n",
       "      <td>...</td>\n",
       "      <td>8</td>\n",
       "      <td>0</td>\n",
       "      <td>{'[M+H]+': 36809, '[M]+': 24634, '[M-H]+': 621...</td>\n",
       "      <td>NaN</td>\n",
       "      <td>NaN</td>\n",
       "      <td>50</td>\n",
       "      <td>0.00005</td>\n",
       "      <td>MoNA</td>\n",
       "      <td>MoNA</td>\n",
       "      <td>ESI</td>\n",
       "    </tr>\n",
       "    <tr>\n",
       "      <th>5</th>\n",
       "      <td>Sulfamethazine</td>\n",
       "      <td>$:00in-source</td>\n",
       "      <td>AU100804</td>\n",
       "      <td>ASWVTGNCAZCNNR-UHFFFAOYSA-N</td>\n",
       "      <td>[M+H]+</td>\n",
       "      <td>MS2</td>\n",
       "      <td>279.091000</td>\n",
       "      <td>Q-TOF</td>\n",
       "      <td>Bruker maXis Impact</td>\n",
       "      <td>P</td>\n",
       "      <td>...</td>\n",
       "      <td>6</td>\n",
       "      <td>0</td>\n",
       "      <td>{'[M+H]+': 36809, '[M]+': 24634, '[M-H]+': 621...</td>\n",
       "      <td>NaN</td>\n",
       "      <td>NaN</td>\n",
       "      <td>50</td>\n",
       "      <td>0.00005</td>\n",
       "      <td>MoNA</td>\n",
       "      <td>MoNA</td>\n",
       "      <td>ESI</td>\n",
       "    </tr>\n",
       "    <tr>\n",
       "      <th>6</th>\n",
       "      <td>Sulfamethazine</td>\n",
       "      <td>$:00in-source</td>\n",
       "      <td>AU100805</td>\n",
       "      <td>ASWVTGNCAZCNNR-UHFFFAOYSA-N</td>\n",
       "      <td>[M+H]+</td>\n",
       "      <td>MS2</td>\n",
       "      <td>279.091000</td>\n",
       "      <td>Q-TOF</td>\n",
       "      <td>Bruker maXis Impact</td>\n",
       "      <td>P</td>\n",
       "      <td>...</td>\n",
       "      <td>4</td>\n",
       "      <td>0</td>\n",
       "      <td>{'[M+H]+': 36809, '[M]+': 24634, '[M-H]+': 621...</td>\n",
       "      <td>NaN</td>\n",
       "      <td>NaN</td>\n",
       "      <td>50</td>\n",
       "      <td>0.00005</td>\n",
       "      <td>MoNA</td>\n",
       "      <td>MoNA</td>\n",
       "      <td>ESI</td>\n",
       "    </tr>\n",
       "    <tr>\n",
       "      <th>8</th>\n",
       "      <td>Sulfadimethoxine</td>\n",
       "      <td>$:00in-source</td>\n",
       "      <td>AU100902</td>\n",
       "      <td>ZZORFUFYDOWNEF-UHFFFAOYSA-N</td>\n",
       "      <td>[M+H]+</td>\n",
       "      <td>MS2</td>\n",
       "      <td>311.080900</td>\n",
       "      <td>Q-TOF</td>\n",
       "      <td>Bruker maXis Impact</td>\n",
       "      <td>P</td>\n",
       "      <td>...</td>\n",
       "      <td>10</td>\n",
       "      <td>0</td>\n",
       "      <td>{'[M+H]+': 36809, '[M]+': 24634, '[M-H]+': 621...</td>\n",
       "      <td>NaN</td>\n",
       "      <td>NaN</td>\n",
       "      <td>50</td>\n",
       "      <td>0.00005</td>\n",
       "      <td>MoNA</td>\n",
       "      <td>MoNA</td>\n",
       "      <td>ESI</td>\n",
       "    </tr>\n",
       "    <tr>\n",
       "      <th>...</th>\n",
       "      <td>...</td>\n",
       "      <td>...</td>\n",
       "      <td>...</td>\n",
       "      <td>...</td>\n",
       "      <td>...</td>\n",
       "      <td>...</td>\n",
       "      <td>...</td>\n",
       "      <td>...</td>\n",
       "      <td>...</td>\n",
       "      <td>...</td>\n",
       "      <td>...</td>\n",
       "      <td>...</td>\n",
       "      <td>...</td>\n",
       "      <td>...</td>\n",
       "      <td>...</td>\n",
       "      <td>...</td>\n",
       "      <td>...</td>\n",
       "      <td>...</td>\n",
       "      <td>...</td>\n",
       "      <td>...</td>\n",
       "      <td>...</td>\n",
       "    </tr>\n",
       "    <tr>\n",
       "      <th>150049</th>\n",
       "      <td>GALACTOSE</td>\n",
       "      <td>$:00in-source</td>\n",
       "      <td>MoNA035828</td>\n",
       "      <td>WQZGKKKJIJFFOK-SVZMEOIVSA-N</td>\n",
       "      <td>[M-H]-</td>\n",
       "      <td>MS2</td>\n",
       "      <td>179.056112</td>\n",
       "      <td>Q-TOF</td>\n",
       "      <td>Agilent qTOF 6545</td>\n",
       "      <td>N</td>\n",
       "      <td>...</td>\n",
       "      <td>1</td>\n",
       "      <td>0</td>\n",
       "      <td>{'[M+H]+': 36809, '[M]+': 24634, '[M-H]+': 621...</td>\n",
       "      <td>NaN</td>\n",
       "      <td>NaN</td>\n",
       "      <td>50</td>\n",
       "      <td>0.00005</td>\n",
       "      <td>MoNA</td>\n",
       "      <td>MoNA</td>\n",
       "      <td>ESI</td>\n",
       "    </tr>\n",
       "    <tr>\n",
       "      <th>150057</th>\n",
       "      <td>MANNOSE</td>\n",
       "      <td>$:00in-source</td>\n",
       "      <td>MoNA035836</td>\n",
       "      <td>WQZGKKKJIJFFOK-QTVWNMPRSA-N</td>\n",
       "      <td>[M-H]-</td>\n",
       "      <td>MS2</td>\n",
       "      <td>179.056112</td>\n",
       "      <td>Q-TOF</td>\n",
       "      <td>Agilent qTOF 6545</td>\n",
       "      <td>N</td>\n",
       "      <td>...</td>\n",
       "      <td>1</td>\n",
       "      <td>0</td>\n",
       "      <td>{'[M+H]+': 36809, '[M]+': 24634, '[M-H]+': 621...</td>\n",
       "      <td>NaN</td>\n",
       "      <td>NaN</td>\n",
       "      <td>50</td>\n",
       "      <td>0.00005</td>\n",
       "      <td>MoNA</td>\n",
       "      <td>MoNA</td>\n",
       "      <td>ESI</td>\n",
       "    </tr>\n",
       "    <tr>\n",
       "      <th>150071</th>\n",
       "      <td>SORBOSE</td>\n",
       "      <td>$:00in-source</td>\n",
       "      <td>MoNA035850</td>\n",
       "      <td>BJHIKXHVCXFQLS-OTWZMJIISA-N</td>\n",
       "      <td>[M-H]-</td>\n",
       "      <td>MS2</td>\n",
       "      <td>179.056112</td>\n",
       "      <td>Q-TOF</td>\n",
       "      <td>Agilent qTOF 6545</td>\n",
       "      <td>N</td>\n",
       "      <td>...</td>\n",
       "      <td>1</td>\n",
       "      <td>3</td>\n",
       "      <td>{'[M+H]+': 36809, '[M]+': 24634, '[M-H]+': 621...</td>\n",
       "      <td>NaN</td>\n",
       "      <td>NaN</td>\n",
       "      <td>50</td>\n",
       "      <td>0.00005</td>\n",
       "      <td>MoNA</td>\n",
       "      <td>MoNA</td>\n",
       "      <td>ESI</td>\n",
       "    </tr>\n",
       "    <tr>\n",
       "      <th>150072</th>\n",
       "      <td>SORBOSE</td>\n",
       "      <td>$:00in-source</td>\n",
       "      <td>MoNA035851</td>\n",
       "      <td>BJHIKXHVCXFQLS-OTWZMJIISA-N</td>\n",
       "      <td>[M-H]-</td>\n",
       "      <td>MS2</td>\n",
       "      <td>179.056112</td>\n",
       "      <td>Q-TOF</td>\n",
       "      <td>Agilent qTOF 6545</td>\n",
       "      <td>N</td>\n",
       "      <td>...</td>\n",
       "      <td>1</td>\n",
       "      <td>2</td>\n",
       "      <td>{'[M+H]+': 36809, '[M]+': 24634, '[M-H]+': 621...</td>\n",
       "      <td>NaN</td>\n",
       "      <td>NaN</td>\n",
       "      <td>50</td>\n",
       "      <td>0.00005</td>\n",
       "      <td>MoNA</td>\n",
       "      <td>MoNA</td>\n",
       "      <td>ESI</td>\n",
       "    </tr>\n",
       "    <tr>\n",
       "      <th>150076</th>\n",
       "      <td>RAFFINOSE</td>\n",
       "      <td>$:00in-source</td>\n",
       "      <td>MoNA035855</td>\n",
       "      <td>MUPFEKGTMRGPLJ-BQCSWRFHSA-N</td>\n",
       "      <td>[M-H]-</td>\n",
       "      <td>MS2</td>\n",
       "      <td>503.161759</td>\n",
       "      <td>Q-TOF</td>\n",
       "      <td>Agilent qTOF 6545</td>\n",
       "      <td>N</td>\n",
       "      <td>...</td>\n",
       "      <td>1</td>\n",
       "      <td>5</td>\n",
       "      <td>{'[M+H]+': 36809, '[M]+': 24634, '[M-H]+': 621...</td>\n",
       "      <td>NaN</td>\n",
       "      <td>NaN</td>\n",
       "      <td>50</td>\n",
       "      <td>0.00005</td>\n",
       "      <td>MoNA</td>\n",
       "      <td>MoNA</td>\n",
       "      <td>ESI</td>\n",
       "    </tr>\n",
       "  </tbody>\n",
       "</table>\n",
       "<p>32316 rows × 42 columns</p>\n",
       "</div>"
      ],
      "text/plain": [
       "                    Name          Synon         DB#  \\\n",
       "3         Sulfamethazine  $:00in-source    AU100802   \n",
       "4         Sulfamethazine  $:00in-source    AU100803   \n",
       "5         Sulfamethazine  $:00in-source    AU100804   \n",
       "6         Sulfamethazine  $:00in-source    AU100805   \n",
       "8       Sulfadimethoxine  $:00in-source    AU100902   \n",
       "...                  ...            ...         ...   \n",
       "150049         GALACTOSE  $:00in-source  MoNA035828   \n",
       "150057           MANNOSE  $:00in-source  MoNA035836   \n",
       "150071           SORBOSE  $:00in-source  MoNA035850   \n",
       "150072           SORBOSE  $:00in-source  MoNA035851   \n",
       "150076         RAFFINOSE  $:00in-source  MoNA035855   \n",
       "\n",
       "                           InChIKey Precursor_type Spectrum_type  PrecursorMZ  \\\n",
       "3       ASWVTGNCAZCNNR-UHFFFAOYSA-N         [M+H]+           MS2   279.091000   \n",
       "4       ASWVTGNCAZCNNR-UHFFFAOYSA-N         [M+H]+           MS2   279.091000   \n",
       "5       ASWVTGNCAZCNNR-UHFFFAOYSA-N         [M+H]+           MS2   279.091000   \n",
       "6       ASWVTGNCAZCNNR-UHFFFAOYSA-N         [M+H]+           MS2   279.091000   \n",
       "8       ZZORFUFYDOWNEF-UHFFFAOYSA-N         [M+H]+           MS2   311.080900   \n",
       "...                             ...            ...           ...          ...   \n",
       "150049  WQZGKKKJIJFFOK-SVZMEOIVSA-N         [M-H]-           MS2   179.056112   \n",
       "150057  WQZGKKKJIJFFOK-QTVWNMPRSA-N         [M-H]-           MS2   179.056112   \n",
       "150071  BJHIKXHVCXFQLS-OTWZMJIISA-N         [M-H]-           MS2   179.056112   \n",
       "150072  BJHIKXHVCXFQLS-OTWZMJIISA-N         [M-H]-           MS2   179.056112   \n",
       "150076  MUPFEKGTMRGPLJ-BQCSWRFHSA-N         [M-H]-           MS2   503.161759   \n",
       "\n",
       "       Instrument_type           Instrument Ion_mode  ...  \\\n",
       "3                Q-TOF  Bruker maXis Impact        P  ...   \n",
       "4                Q-TOF  Bruker maXis Impact        P  ...   \n",
       "5                Q-TOF  Bruker maXis Impact        P  ...   \n",
       "6                Q-TOF  Bruker maXis Impact        P  ...   \n",
       "8                Q-TOF  Bruker maXis Impact        P  ...   \n",
       "...                ...                  ...      ...  ...   \n",
       "150049           Q-TOF    Agilent qTOF 6545        N  ...   \n",
       "150057           Q-TOF    Agilent qTOF 6545        N  ...   \n",
       "150071           Q-TOF    Agilent qTOF 6545        N  ...   \n",
       "150072           Q-TOF    Agilent qTOF 6545        N  ...   \n",
       "150076           Q-TOF    Agilent qTOF 6545        N  ...   \n",
       "\n",
       "       num_unique_peaks_matched num_conflicts_in_peak_matching  \\\n",
       "3                             9                              0   \n",
       "4                             8                              0   \n",
       "5                             6                              0   \n",
       "6                             4                              0   \n",
       "8                            10                              0   \n",
       "...                         ...                            ...   \n",
       "150049                        1                              0   \n",
       "150057                        1                              0   \n",
       "150071                        1                              3   \n",
       "150072                        1                              2   \n",
       "150076                        1                              5   \n",
       "\n",
       "                                        match_mode_counts  RETENTIONTIME CCS  \\\n",
       "3       {'[M+H]+': 36809, '[M]+': 24634, '[M-H]+': 621...            NaN NaN   \n",
       "4       {'[M+H]+': 36809, '[M]+': 24634, '[M-H]+': 621...            NaN NaN   \n",
       "5       {'[M+H]+': 36809, '[M]+': 24634, '[M-H]+': 621...            NaN NaN   \n",
       "6       {'[M+H]+': 36809, '[M]+': 24634, '[M-H]+': 621...            NaN NaN   \n",
       "8       {'[M+H]+': 36809, '[M]+': 24634, '[M-H]+': 621...            NaN NaN   \n",
       "...                                                   ...            ...  ..   \n",
       "150049  {'[M+H]+': 36809, '[M]+': 24634, '[M-H]+': 621...            NaN NaN   \n",
       "150057  {'[M+H]+': 36809, '[M]+': 24634, '[M-H]+': 621...            NaN NaN   \n",
       "150071  {'[M+H]+': 36809, '[M]+': 24634, '[M-H]+': 621...            NaN NaN   \n",
       "150072  {'[M+H]+': 36809, '[M]+': 24634, '[M-H]+': 621...            NaN NaN   \n",
       "150076  {'[M+H]+': 36809, '[M]+': 24634, '[M-H]+': 621...            NaN NaN   \n",
       "\n",
       "        PPM_num ppm_peak_tolerance   lib origin Ionization  \n",
       "3            50            0.00005  MoNA   MoNA        ESI  \n",
       "4            50            0.00005  MoNA   MoNA        ESI  \n",
       "5            50            0.00005  MoNA   MoNA        ESI  \n",
       "6            50            0.00005  MoNA   MoNA        ESI  \n",
       "8            50            0.00005  MoNA   MoNA        ESI  \n",
       "...         ...                ...   ...    ...        ...  \n",
       "150049       50            0.00005  MoNA   MoNA        ESI  \n",
       "150057       50            0.00005  MoNA   MoNA        ESI  \n",
       "150071       50            0.00005  MoNA   MoNA        ESI  \n",
       "150072       50            0.00005  MoNA   MoNA        ESI  \n",
       "150076       50            0.00005  MoNA   MoNA        ESI  \n",
       "\n",
       "[32316 rows x 42 columns]"
      ]
     },
     "execution_count": 102,
     "metadata": {},
     "output_type": "execute_result"
    }
   ],
   "source": [
    "df_test=df.copy()\n",
    "df_org"
   ]
  },
  {
   "cell_type": "code",
   "execution_count": 99,
   "metadata": {},
   "outputs": [
    {
     "data": {
      "text/plain": [
       "{'mz': [108.0441,\n",
       "  122.0704,\n",
       "  123.0781,\n",
       "  124.0861,\n",
       "  125.0889,\n",
       "  149.0221,\n",
       "  156.0106,\n",
       "  158.0064,\n",
       "  186.0323,\n",
       "  187.0355,\n",
       "  196.0858,\n",
       "  204.0429,\n",
       "  205.0455,\n",
       "  213.1123,\n",
       "  214.1155,\n",
       "  215.1283,\n",
       "  279.0903],\n",
       " 'intensity': [1.285794,\n",
       "  6.630847,\n",
       "  2.170942,\n",
       "  100.0,\n",
       "  6.093546,\n",
       "  1.388285,\n",
       "  50.043481,\n",
       "  1.615007,\n",
       "  15.118951,\n",
       "  1.323064,\n",
       "  1.220573,\n",
       "  70.964035,\n",
       "  4.931983,\n",
       "  22.6101,\n",
       "  3.003292,\n",
       "  0.804398,\n",
       "  3.580968],\n",
       " 'annotation': [],\n",
       " 'mz_int': [np.float64(11.786537045095137),\n",
       "  np.float64(28.45048585927488),\n",
       "  np.float64(16.346113194585435),\n",
       "  np.float64(111.3939405892439),\n",
       "  np.float64(27.608603120031262),\n",
       "  np.float64(14.383502567125298),\n",
       "  np.float64(88.35900348520573),\n",
       "  np.float64(15.974399583233168),\n",
       "  np.float64(53.034076103174456),\n",
       "  np.float64(15.730859378050521),\n",
       "  np.float64(15.470521425065154),\n",
       "  np.float64(120.33165625512473),\n",
       "  np.float64(31.80064339327901),\n",
       "  np.float64(69.41534710876263),\n",
       "  np.float64(25.358457528524877),\n",
       "  np.float64(13.154800426589524),\n",
       "  np.float64(31.61350080915431)]}"
      ]
     },
     "execution_count": 99,
     "metadata": {},
     "output_type": "execute_result"
    }
   ],
   "source": [
    "\n",
    "df_test[\"peaks\"]=df_org[\"peaks\"]\n",
    "df_test.iloc[1][\"peaks\"]\n",
    "df_org.iloc[1][\"peaks\"]"
   ]
  },
  {
   "cell_type": "code",
   "execution_count": 70,
   "metadata": {},
   "outputs": [],
   "source": [
    "df.to_csv(\"../datasplits_test.csv\")"
   ]
  },
  {
   "cell_type": "code",
   "execution_count": null,
   "metadata": {},
   "outputs": [],
   "source": []
  }
 ],
 "metadata": {
  "kernelspec": {
   "display_name": "Python 3 (ipykernel)",
   "language": "python",
   "name": "python3"
  },
  "language_info": {
   "codemirror_mode": {
    "name": "ipython",
    "version": 3
   },
   "file_extension": ".py",
   "mimetype": "text/x-python",
   "name": "python",
   "nbconvert_exporter": "python",
   "pygments_lexer": "ipython3",
   "version": "3.10.8"
  },
  "vscode": {
   "interpreter": {
    "hash": "e08c3b4e89cfe29feb848cdc03972f3418883da099973a3eef9fa9a5a5dc99db"
   }
  }
 },
 "nbformat": 4,
 "nbformat_minor": 4
}
